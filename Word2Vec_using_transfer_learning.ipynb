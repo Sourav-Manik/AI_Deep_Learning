{
  "nbformat": 4,
  "nbformat_minor": 0,
  "metadata": {
    "colab": {
      "provenance": [],
      "mount_file_id": "1x6lM8DqvJFtZdxcc8yBhWUMKeNSump85",
      "authorship_tag": "ABX9TyMTz9X6/ap/eJzs/ovrZ2mO",
      "include_colab_link": true
    },
    "kernelspec": {
      "name": "python3",
      "display_name": "Python 3"
    },
    "language_info": {
      "name": "python"
    },
    "accelerator": "GPU",
    "gpuClass": "standard"
  },
  "cells": [
    {
      "cell_type": "markdown",
      "metadata": {
        "id": "view-in-github",
        "colab_type": "text"
      },
      "source": [
        "<a href=\"https://colab.research.google.com/github/Sourav-Manik/AI_Deep_Learning/blob/main/Word2Vec_using_transfer_learning.ipynb\" target=\"_parent\"><img src=\"https://colab.research.google.com/assets/colab-badge.svg\" alt=\"Open In Colab\"/></a>"
      ]
    },
    {
      "cell_type": "code",
      "source": [
        "from google.colab import drive\n",
        "drive.mount('/content/drive')"
      ],
      "metadata": {
        "colab": {
          "base_uri": "https://localhost:8080/"
        },
        "id": "OGy7I9ZC3DmD",
        "outputId": "50969c38-b6e5-41f0-934a-2787c0ab8d7d"
      },
      "execution_count": null,
      "outputs": [
        {
          "output_type": "stream",
          "name": "stdout",
          "text": [
            "Drive already mounted at /content/drive; to attempt to forcibly remount, call drive.mount(\"/content/drive\", force_remount=True).\n"
          ]
        }
      ]
    },
    {
      "cell_type": "code",
      "execution_count": null,
      "metadata": {
        "id": "Yyz5XrMa1DAS"
      },
      "outputs": [],
      "source": [
        "from gensim.models import KeyedVectors\n",
        "filename = '/content/drive/MyDrive/AI/GoogleNews-vectors-negative300.bin'\n",
        "model = KeyedVectors.load_word2vec_format(filename, binary=True)"
      ]
    },
    {
      "cell_type": "code",
      "source": [
        "from gensim.models import Word2Vec"
      ],
      "metadata": {
        "id": "PjZHANB63UYK"
      },
      "execution_count": null,
      "outputs": []
    },
    {
      "cell_type": "code",
      "source": [
        "sentences = [[\"bad\",\"robots\"],[\"good\",\"human\"],['yes', 'this', 'is', 'the', 'word2vec', 'model']]"
      ],
      "metadata": {
        "id": "oYan3Qcu3cqw"
      },
      "execution_count": null,
      "outputs": []
    },
    {
      "cell_type": "code",
      "source": [
        "# size option needs to be set to 300 to be the same as Google's pre-trained model\n",
        " \n",
        "word2vec_model = Word2Vec(size = 300, window=5,\n",
        "min_count = 1, workers = 2)\n",
        " \n",
        "word2vec_model.build_vocab(sentences)"
      ],
      "metadata": {
        "id": "uhOL2rI63foy"
      },
      "execution_count": null,
      "outputs": []
    },
    {
      "cell_type": "code",
      "source": [
        "# assign the vectors to the vocabs that are in Google's pre-trained model and your sentences defined above.\n",
        " \n",
        "# lockf needs to be set to 1.0 to allow continued training.\n",
        " \n",
        "word2vec_model.intersect_word2vec_format('/content/drive/MyDrive/AI/GoogleNews-vectors-negative300.bin', lockf=1.0, binary=True)"
      ],
      "metadata": {
        "id": "NR4-viiW3iE6"
      },
      "execution_count": null,
      "outputs": []
    },
    {
      "cell_type": "code",
      "source": [
        "# continue training with your own data\n",
        " \n",
        "word2vec_model.train(sentences, total_examples=3, epochs = 5)"
      ],
      "metadata": {
        "colab": {
          "base_uri": "https://localhost:8080/"
        },
        "id": "MSjjNQd_3iIB",
        "outputId": "e8d0d956-ba91-44b7-a122-b1f850ab618e"
      },
      "execution_count": null,
      "outputs": [
        {
          "output_type": "stream",
          "name": "stderr",
          "text": [
            "WARNING:gensim.models.base_any2vec:under 10 jobs per worker: consider setting a smaller `batch_words' for smoother alpha decay\n"
          ]
        },
        {
          "output_type": "execute_result",
          "data": {
            "text/plain": [
              "(4, 50)"
            ]
          },
          "metadata": {},
          "execution_count": 9
        }
      ]
    },
    {
      "cell_type": "code",
      "source": [
        "word2vec_model.wv.vocab"
      ],
      "metadata": {
        "colab": {
          "base_uri": "https://localhost:8080/"
        },
        "id": "hQGBlI323iK9",
        "outputId": "298f52cc-05bf-4dda-fd66-4f3aa50354e6"
      },
      "execution_count": null,
      "outputs": [
        {
          "output_type": "execute_result",
          "data": {
            "text/plain": [
              "{'bad': <gensim.models.keyedvectors.Vocab at 0x7f54bcbbb1d0>,\n",
              " 'robots': <gensim.models.keyedvectors.Vocab at 0x7f54bcbbb310>,\n",
              " 'good': <gensim.models.keyedvectors.Vocab at 0x7f54bcbbb350>,\n",
              " 'human': <gensim.models.keyedvectors.Vocab at 0x7f54bcbb8190>,\n",
              " 'yes': <gensim.models.keyedvectors.Vocab at 0x7f54bcbb8050>,\n",
              " 'this': <gensim.models.keyedvectors.Vocab at 0x7f54bcbb6450>,\n",
              " 'is': <gensim.models.keyedvectors.Vocab at 0x7f54bcbb6210>,\n",
              " 'the': <gensim.models.keyedvectors.Vocab at 0x7f54bcbb60d0>,\n",
              " 'word2vec': <gensim.models.keyedvectors.Vocab at 0x7f54bcbb8490>,\n",
              " 'model': <gensim.models.keyedvectors.Vocab at 0x7f54bcbb6c50>}"
            ]
          },
          "metadata": {},
          "execution_count": 10
        }
      ]
    }
  ]
}