{
  "nbformat": 4,
  "nbformat_minor": 0,
  "metadata": {
    "colab": {
      "provenance": [],
      "authorship_tag": "ABX9TyM6Lmo3ICVSA9ey0gW4Lu+E",
      "include_colab_link": true
    },
    "kernelspec": {
      "name": "python3",
      "display_name": "Python 3"
    },
    "language_info": {
      "name": "python"
    },
    "gpuClass": "standard",
    "accelerator": "GPU"
  },
  "cells": [
    {
      "cell_type": "markdown",
      "metadata": {
        "id": "view-in-github",
        "colab_type": "text"
      },
      "source": [
        "<a href=\"https://colab.research.google.com/github/Sourav-Manik/AI_Deep_Learning/blob/main/CNN_Lenet_5_Architecture.ipynb\" target=\"_parent\"><img src=\"https://colab.research.google.com/assets/colab-badge.svg\" alt=\"Open In Colab\"/></a>"
      ]
    },
    {
      "cell_type": "markdown",
      "source": [
        "#1.Import Necessary Libraries"
      ],
      "metadata": {
        "id": "vthTmnrjlY9w"
      }
    },
    {
      "cell_type": "code",
      "execution_count": null,
      "metadata": {
        "id": "olI2od3XiaZO"
      },
      "outputs": [],
      "source": [
        "from tensorflow import keras\n",
        "from keras.datasets import mnist\n",
        "from keras.models import Sequential\n",
        "from keras.layers import Conv2D, AveragePooling2D, Flatten, Dense\n",
        "import numpy as np\n",
        "from matplotlib import pyplot as plt"
      ]
    },
    {
      "cell_type": "markdown",
      "source": [
        "# 2.Import Dataset"
      ],
      "metadata": {
        "id": "7VVzyDFdl3zy"
      }
    },
    {
      "cell_type": "code",
      "source": [
        "(X_train, y_train), (X_test,y_test) = mnist.load_data()"
      ],
      "metadata": {
        "id": "DMgCOpqGleZY",
        "colab": {
          "base_uri": "https://localhost:8080/"
        },
        "outputId": "b8823f40-c419-480f-b8ab-c4cf721ae850"
      },
      "execution_count": null,
      "outputs": [
        {
          "output_type": "stream",
          "name": "stdout",
          "text": [
            "Downloading data from https://storage.googleapis.com/tensorflow/tf-keras-datasets/mnist.npz\n",
            "11490434/11490434 [==============================] - 1s 0us/step\n"
          ]
        }
      ]
    },
    {
      "cell_type": "markdown",
      "source": [
        "#3.Data Understanding"
      ],
      "metadata": {
        "id": "-LzLIcjDmGrG"
      }
    },
    {
      "cell_type": "code",
      "source": [
        "X_train.shape, y_train.shape"
      ],
      "metadata": {
        "colab": {
          "base_uri": "https://localhost:8080/"
        },
        "id": "GA-hoiFzmFus",
        "outputId": "fef1ab48-ef30-4d3f-a4e7-f4fe5f107ea8"
      },
      "execution_count": null,
      "outputs": [
        {
          "output_type": "execute_result",
          "data": {
            "text/plain": [
              "((60000, 28, 28), (60000,))"
            ]
          },
          "metadata": {},
          "execution_count": 3
        }
      ]
    },
    {
      "cell_type": "code",
      "source": [
        "X_test.shape, y_test.shape"
      ],
      "metadata": {
        "colab": {
          "base_uri": "https://localhost:8080/"
        },
        "id": "sJprckN1mLbX",
        "outputId": "a98e0106-bd96-4590-9b77-6afd88e256cc"
      },
      "execution_count": null,
      "outputs": [
        {
          "output_type": "execute_result",
          "data": {
            "text/plain": [
              "((10000, 28, 28), (10000,))"
            ]
          },
          "metadata": {},
          "execution_count": 4
        }
      ]
    },
    {
      "cell_type": "code",
      "source": [
        "X_train.std(), X_test.std()"
      ],
      "metadata": {
        "colab": {
          "base_uri": "https://localhost:8080/"
        },
        "id": "fV1m2n2PmLea",
        "outputId": "ac56c5c2-90d6-46d0-8517-032aa45894d8"
      },
      "execution_count": null,
      "outputs": [
        {
          "output_type": "execute_result",
          "data": {
            "text/plain": [
              "(78.56748998339798, 79.17246322228644)"
            ]
          },
          "metadata": {},
          "execution_count": 5
        }
      ]
    },
    {
      "cell_type": "markdown",
      "source": [
        "#4.Data Preparation"
      ],
      "metadata": {
        "id": "X4cBqxofmL-o"
      }
    },
    {
      "cell_type": "code",
      "source": [
        "X_train = np.pad(array = X_train, pad_width = ((0,0),(2,2),(2,2)))\n",
        "X_test = np.pad(array = X_test, pad_width = ((0,0),(2,2),(2,2)))"
      ],
      "metadata": {
        "id": "B5wjQ6-Qlefd"
      },
      "execution_count": null,
      "outputs": []
    },
    {
      "cell_type": "code",
      "source": [
        "X_train.shape,X_test.shape"
      ],
      "metadata": {
        "colab": {
          "base_uri": "https://localhost:8080/"
        },
        "id": "qjpKlk6kleiG",
        "outputId": "9b3030f2-333f-47c0-c8d4-b9d3386f9296"
      },
      "execution_count": null,
      "outputs": [
        {
          "output_type": "execute_result",
          "data": {
            "text/plain": [
              "((60000, 32, 32), (10000, 32, 32))"
            ]
          },
          "metadata": {},
          "execution_count": 7
        }
      ]
    },
    {
      "cell_type": "code",
      "source": [
        "X_train = np.reshape(X_train, newshape = (60000,32,32,1))\n",
        "X_test = np.reshape(X_test, newshape = (10000,32,32,1))"
      ],
      "metadata": {
        "id": "EryNhKTNlekj"
      },
      "execution_count": null,
      "outputs": []
    },
    {
      "cell_type": "code",
      "source": [
        "X_train.shape,X_test.shape"
      ],
      "metadata": {
        "colab": {
          "base_uri": "https://localhost:8080/"
        },
        "id": "aHTT9mB7lenI",
        "outputId": "ec1b63c0-1da7-4d96-9216-5075d04f2cab"
      },
      "execution_count": null,
      "outputs": [
        {
          "output_type": "execute_result",
          "data": {
            "text/plain": [
              "((60000, 32, 32, 1), (10000, 32, 32, 1))"
            ]
          },
          "metadata": {},
          "execution_count": 9
        }
      ]
    },
    {
      "cell_type": "code",
      "source": [
        "X_train.std(), X_test.std()"
      ],
      "metadata": {
        "colab": {
          "base_uri": "https://localhost:8080/"
        },
        "id": "ZUrMmWt_lepv",
        "outputId": "a3acf2be-c534-4aa3-e80c-78ff75ea2517"
      },
      "execution_count": null,
      "outputs": [
        {
          "output_type": "execute_result",
          "data": {
            "text/plain": [
              "(70.18042327879914, 70.7392952533762)"
            ]
          },
          "metadata": {},
          "execution_count": 10
        }
      ]
    },
    {
      "cell_type": "code",
      "source": [
        "X_train.dtype"
      ],
      "metadata": {
        "colab": {
          "base_uri": "https://localhost:8080/"
        },
        "id": "chJtJbcHnPAN",
        "outputId": "3c3b14e2-de65-4ead-fa14-ba216a0f44ca"
      },
      "execution_count": null,
      "outputs": [
        {
          "output_type": "execute_result",
          "data": {
            "text/plain": [
              "dtype('uint8')"
            ]
          },
          "metadata": {},
          "execution_count": 11
        }
      ]
    },
    {
      "cell_type": "code",
      "source": [
        "X_train = X_train.astype('float')\n",
        "X_test = X_test.astype('float')"
      ],
      "metadata": {
        "id": "qFwdsbUsnPD3"
      },
      "execution_count": null,
      "outputs": []
    },
    {
      "cell_type": "code",
      "source": [
        "X_train.dtype, X_test.dtype"
      ],
      "metadata": {
        "colab": {
          "base_uri": "https://localhost:8080/"
        },
        "id": "yBgRpTDGnPHW",
        "outputId": "12fe3e08-c3d3-4036-e2d0-e4e50ebd8432"
      },
      "execution_count": null,
      "outputs": [
        {
          "output_type": "execute_result",
          "data": {
            "text/plain": [
              "(dtype('float64'), dtype('float64'))"
            ]
          },
          "metadata": {},
          "execution_count": 13
        }
      ]
    },
    {
      "cell_type": "code",
      "source": [
        "X_train = X_train/255\n",
        "X_test = X_test/255"
      ],
      "metadata": {
        "id": "nggLFE5jnPLU"
      },
      "execution_count": null,
      "outputs": []
    },
    {
      "cell_type": "code",
      "source": [
        "X_train.std(), X_test.std()"
      ],
      "metadata": {
        "colab": {
          "base_uri": "https://localhost:8080/"
        },
        "id": "Bp7Y99kjoMyd",
        "outputId": "256cb983-375b-4483-a9e2-d68e2ecf6c93"
      },
      "execution_count": null,
      "outputs": [
        {
          "output_type": "execute_result",
          "data": {
            "text/plain": [
              "(0.2752173461913686, 0.2774090009936321)"
            ]
          },
          "metadata": {},
          "execution_count": 15
        }
      ]
    },
    {
      "cell_type": "markdown",
      "source": [
        "# 5.Model Building"
      ],
      "metadata": {
        "id": "US7_zdbFoQtf"
      }
    },
    {
      "cell_type": "markdown",
      "source": [
        "## 5.1.Build Model Architecture"
      ],
      "metadata": {
        "id": "yxvuOBo8oVZl"
      }
    },
    {
      "cell_type": "code",
      "source": [
        "model = Sequential()\n",
        "model.add(Conv2D(input_shape = (32,32,1),filters = 6,kernel_size = (5,5),strides = 1,padding = 'valid',activation = 'tanh'))\n",
        "model.add(AveragePooling2D(pool_size =2 ,strides = 2))\n",
        "model.add(Conv2D(filters = 16,kernel_size = (5,5),strides = 1,padding = 'valid',activation = 'tanh'))\n",
        "model.add(AveragePooling2D(pool_size =2 ,strides = 2))\n",
        "model.add(Conv2D(filters = 120,kernel_size = (5,5),strides = 1,padding = 'valid',activation = 'tanh'))\n",
        "model.add(Flatten())\n",
        "\n",
        "model.add(Dense(units = 84, activation = 'tanh'))\n",
        "model.add(Dense(units = 10, activation = 'softmax'))\n",
        "model.summary()"
      ],
      "metadata": {
        "colab": {
          "base_uri": "https://localhost:8080/"
        },
        "id": "G_ouB6m-oM1r",
        "outputId": "d0220d61-b06b-465d-b546-f9174475d4a5"
      },
      "execution_count": null,
      "outputs": [
        {
          "output_type": "stream",
          "name": "stdout",
          "text": [
            "Model: \"sequential\"\n",
            "_________________________________________________________________\n",
            " Layer (type)                Output Shape              Param #   \n",
            "=================================================================\n",
            " conv2d (Conv2D)             (None, 28, 28, 6)         156       \n",
            "                                                                 \n",
            " average_pooling2d (AverageP  (None, 14, 14, 6)        0         \n",
            " ooling2D)                                                       \n",
            "                                                                 \n",
            " conv2d_1 (Conv2D)           (None, 10, 10, 16)        2416      \n",
            "                                                                 \n",
            " average_pooling2d_1 (Averag  (None, 5, 5, 16)         0         \n",
            " ePooling2D)                                                     \n",
            "                                                                 \n",
            " conv2d_2 (Conv2D)           (None, 1, 1, 120)         48120     \n",
            "                                                                 \n",
            " flatten (Flatten)           (None, 120)               0         \n",
            "                                                                 \n",
            " dense (Dense)               (None, 84)                10164     \n",
            "                                                                 \n",
            " dense_1 (Dense)             (None, 10)                850       \n",
            "                                                                 \n",
            "=================================================================\n",
            "Total params: 61,706\n",
            "Trainable params: 61,706\n",
            "Non-trainable params: 0\n",
            "_________________________________________________________________\n"
          ]
        }
      ]
    },
    {
      "cell_type": "markdown",
      "source": [
        "## 5.2.Model Compilation"
      ],
      "metadata": {
        "id": "-BqG5MbDpgbF"
      }
    },
    {
      "cell_type": "code",
      "source": [
        "model.compile(optimizer = 'sgd',loss = 'sparse_categorical_crossentropy',metrics='sparse_categorical_accuracy')"
      ],
      "metadata": {
        "id": "S3CyMbfYoM6g"
      },
      "execution_count": null,
      "outputs": []
    },
    {
      "cell_type": "markdown",
      "source": [
        "# 6.Model Training"
      ],
      "metadata": {
        "id": "Dls7GQygo1Jl"
      }
    },
    {
      "cell_type": "code",
      "source": [
        "X_train.shape, y_train.shape, X_test.shape, y_test.shape"
      ],
      "metadata": {
        "colab": {
          "base_uri": "https://localhost:8080/"
        },
        "id": "x8uKvkP-awyd",
        "outputId": "76b624cd-d208-499c-9772-cf0827944c52"
      },
      "execution_count": null,
      "outputs": [
        {
          "output_type": "execute_result",
          "data": {
            "text/plain": [
              "((60000, 32, 32, 1), (60000,), (10000, 32, 32, 1), (10000,))"
            ]
          },
          "metadata": {},
          "execution_count": 25
        }
      ]
    },
    {
      "cell_type": "code",
      "source": [
        "model_training = model.fit(x=X_train,y=y_train,batch_size = 150,epochs = 25, validation_data=(X_test,y_test),verbose = 2)"
      ],
      "metadata": {
        "colab": {
          "base_uri": "https://localhost:8080/"
        },
        "id": "pp9LpTUrmLoX",
        "outputId": "e6b48724-8e01-4b80-c779-3017ba603cbc"
      },
      "execution_count": null,
      "outputs": [
        {
          "output_type": "stream",
          "name": "stdout",
          "text": [
            "Epoch 1/25\n",
            "400/400 - 41s - loss: 1.3988 - sparse_categorical_accuracy: 0.6679 - val_loss: 0.6630 - val_sparse_categorical_accuracy: 0.8342 - 41s/epoch - 102ms/step\n",
            "Epoch 2/25\n",
            "400/400 - 31s - loss: 0.5365 - sparse_categorical_accuracy: 0.8591 - val_loss: 0.4336 - val_sparse_categorical_accuracy: 0.8878 - 31s/epoch - 76ms/step\n",
            "Epoch 3/25\n",
            "400/400 - 32s - loss: 0.4033 - sparse_categorical_accuracy: 0.8902 - val_loss: 0.3562 - val_sparse_categorical_accuracy: 0.9051 - 32s/epoch - 79ms/step\n",
            "Epoch 4/25\n",
            "400/400 - 31s - loss: 0.3474 - sparse_categorical_accuracy: 0.9017 - val_loss: 0.3137 - val_sparse_categorical_accuracy: 0.9128 - 31s/epoch - 79ms/step\n",
            "Epoch 5/25\n",
            "400/400 - 34s - loss: 0.3139 - sparse_categorical_accuracy: 0.9095 - val_loss: 0.2862 - val_sparse_categorical_accuracy: 0.9203 - 34s/epoch - 86ms/step\n",
            "Epoch 6/25\n",
            "400/400 - 31s - loss: 0.2892 - sparse_categorical_accuracy: 0.9162 - val_loss: 0.2651 - val_sparse_categorical_accuracy: 0.9241 - 31s/epoch - 77ms/step\n",
            "Epoch 7/25\n",
            "400/400 - 34s - loss: 0.2693 - sparse_categorical_accuracy: 0.9214 - val_loss: 0.2470 - val_sparse_categorical_accuracy: 0.9293 - 34s/epoch - 85ms/step\n",
            "Epoch 8/25\n",
            "400/400 - 31s - loss: 0.2519 - sparse_categorical_accuracy: 0.9255 - val_loss: 0.2317 - val_sparse_categorical_accuracy: 0.9330 - 31s/epoch - 78ms/step\n",
            "Epoch 9/25\n",
            "400/400 - 31s - loss: 0.2364 - sparse_categorical_accuracy: 0.9307 - val_loss: 0.2183 - val_sparse_categorical_accuracy: 0.9366 - 31s/epoch - 77ms/step\n",
            "Epoch 10/25\n",
            "400/400 - 31s - loss: 0.2225 - sparse_categorical_accuracy: 0.9342 - val_loss: 0.2043 - val_sparse_categorical_accuracy: 0.9398 - 31s/epoch - 76ms/step\n",
            "Epoch 11/25\n",
            "400/400 - 31s - loss: 0.2095 - sparse_categorical_accuracy: 0.9377 - val_loss: 0.1932 - val_sparse_categorical_accuracy: 0.9428 - 31s/epoch - 77ms/step\n",
            "Epoch 12/25\n",
            "400/400 - 31s - loss: 0.1977 - sparse_categorical_accuracy: 0.9419 - val_loss: 0.1823 - val_sparse_categorical_accuracy: 0.9450 - 31s/epoch - 77ms/step\n",
            "Epoch 13/25\n",
            "400/400 - 33s - loss: 0.1870 - sparse_categorical_accuracy: 0.9448 - val_loss: 0.1716 - val_sparse_categorical_accuracy: 0.9489 - 33s/epoch - 83ms/step\n",
            "Epoch 14/25\n",
            "400/400 - 31s - loss: 0.1769 - sparse_categorical_accuracy: 0.9478 - val_loss: 0.1630 - val_sparse_categorical_accuracy: 0.9522 - 31s/epoch - 77ms/step\n",
            "Epoch 15/25\n",
            "400/400 - 31s - loss: 0.1677 - sparse_categorical_accuracy: 0.9504 - val_loss: 0.1555 - val_sparse_categorical_accuracy: 0.9539 - 31s/epoch - 77ms/step\n",
            "Epoch 16/25\n",
            "400/400 - 31s - loss: 0.1592 - sparse_categorical_accuracy: 0.9528 - val_loss: 0.1469 - val_sparse_categorical_accuracy: 0.9568 - 31s/epoch - 78ms/step\n",
            "Epoch 17/25\n",
            "400/400 - 31s - loss: 0.1516 - sparse_categorical_accuracy: 0.9559 - val_loss: 0.1395 - val_sparse_categorical_accuracy: 0.9585 - 31s/epoch - 78ms/step\n",
            "Epoch 18/25\n",
            "400/400 - 31s - loss: 0.1443 - sparse_categorical_accuracy: 0.9580 - val_loss: 0.1336 - val_sparse_categorical_accuracy: 0.9615 - 31s/epoch - 78ms/step\n",
            "Epoch 19/25\n",
            "400/400 - 31s - loss: 0.1378 - sparse_categorical_accuracy: 0.9597 - val_loss: 0.1271 - val_sparse_categorical_accuracy: 0.9632 - 31s/epoch - 78ms/step\n",
            "Epoch 20/25\n",
            "400/400 - 34s - loss: 0.1319 - sparse_categorical_accuracy: 0.9616 - val_loss: 0.1216 - val_sparse_categorical_accuracy: 0.9645 - 34s/epoch - 86ms/step\n",
            "Epoch 21/25\n",
            "400/400 - 32s - loss: 0.1264 - sparse_categorical_accuracy: 0.9635 - val_loss: 0.1163 - val_sparse_categorical_accuracy: 0.9651 - 32s/epoch - 80ms/step\n",
            "Epoch 22/25\n",
            "400/400 - 33s - loss: 0.1213 - sparse_categorical_accuracy: 0.9653 - val_loss: 0.1121 - val_sparse_categorical_accuracy: 0.9667 - 33s/epoch - 82ms/step\n",
            "Epoch 23/25\n",
            "400/400 - 32s - loss: 0.1167 - sparse_categorical_accuracy: 0.9667 - val_loss: 0.1076 - val_sparse_categorical_accuracy: 0.9680 - 32s/epoch - 80ms/step\n",
            "Epoch 24/25\n",
            "400/400 - 35s - loss: 0.1123 - sparse_categorical_accuracy: 0.9678 - val_loss: 0.1043 - val_sparse_categorical_accuracy: 0.9688 - 35s/epoch - 87ms/step\n",
            "Epoch 25/25\n",
            "400/400 - 33s - loss: 0.1084 - sparse_categorical_accuracy: 0.9691 - val_loss: 0.1007 - val_sparse_categorical_accuracy: 0.9692 - 33s/epoch - 83ms/step\n"
          ]
        }
      ]
    },
    {
      "cell_type": "markdown",
      "source": [
        "# 7.Model Evaluation"
      ],
      "metadata": {
        "id": "WsabMqHsp9aQ"
      }
    },
    {
      "cell_type": "code",
      "source": [
        "model.evaluate(x= X_test,y = y_test)"
      ],
      "metadata": {
        "colab": {
          "base_uri": "https://localhost:8080/"
        },
        "id": "kmlmm7dDoM9O",
        "outputId": "21bb4478-9b8d-443c-fbee-214838567e6e"
      },
      "execution_count": null,
      "outputs": [
        {
          "output_type": "stream",
          "name": "stdout",
          "text": [
            "313/313 [==============================] - 4s 13ms/step - loss: 0.1007 - sparse_categorical_accuracy: 0.9692\n"
          ]
        },
        {
          "output_type": "execute_result",
          "data": {
            "text/plain": [
              "[0.10065476596355438, 0.9692000150680542]"
            ]
          },
          "metadata": {},
          "execution_count": 19
        }
      ]
    },
    {
      "cell_type": "markdown",
      "source": [
        "# 8.Model Prediction"
      ],
      "metadata": {
        "id": "9LmgigPxqLbP"
      }
    },
    {
      "cell_type": "code",
      "source": [
        "prediction = model.predict(X_test)\n",
        "prediction\n",
        "print(np.argmax(prediction[29]))"
      ],
      "metadata": {
        "colab": {
          "base_uri": "https://localhost:8080/"
        },
        "id": "B38dmLsvoM_8",
        "outputId": "37644ee5-6fd7-4021-c826-8fdbb8ca9404"
      },
      "execution_count": null,
      "outputs": [
        {
          "output_type": "stream",
          "name": "stdout",
          "text": [
            "313/313 [==============================] - 4s 11ms/step\n",
            "1\n"
          ]
        }
      ]
    },
    {
      "cell_type": "code",
      "source": [
        "y_test[29]"
      ],
      "metadata": {
        "colab": {
          "base_uri": "https://localhost:8080/"
        },
        "id": "N_JYgOOMoNCr",
        "outputId": "049118ef-4f32-4dff-a09b-d366c338d101"
      },
      "execution_count": null,
      "outputs": [
        {
          "output_type": "execute_result",
          "data": {
            "text/plain": [
              "1"
            ]
          },
          "metadata": {},
          "execution_count": 21
        }
      ]
    },
    {
      "cell_type": "markdown",
      "source": [
        "# 9.Model Performance"
      ],
      "metadata": {
        "id": "i-qnQeV0qhgr"
      }
    },
    {
      "cell_type": "markdown",
      "source": [
        "## 9.1.Model Accuracy Performance"
      ],
      "metadata": {
        "id": "yKwhLl1rqtY-"
      }
    },
    {
      "cell_type": "code",
      "source": [
        "plt.plot(model_training.history['sparse_categorical_accuracy'],label = 'Train accuracy')\n",
        "\n",
        "plt.plot(model_training.history['val_sparse_categorical_accuracy'],label='Test accuracy')\n",
        "\n",
        "plt.xlabel('Epochs')\n",
        "plt.ylabel('Accuracy')\n",
        "plt.title('Model Accuracy Performance')\n",
        "plt.legend()\n",
        "plt.show()"
      ],
      "metadata": {
        "colab": {
          "base_uri": "https://localhost:8080/",
          "height": 295
        },
        "id": "rbvg3Dd0oNF5",
        "outputId": "fccb9fd5-4bff-4326-a849-4e85abc6638c"
      },
      "execution_count": null,
      "outputs": [
        {
          "output_type": "display_data",
          "data": {
            "text/plain": [
              "<Figure size 432x288 with 1 Axes>"
            ],
            "image/png": "[encoded data removed]"
          },
          "metadata": {
            "needs_background": "light"
          }
        }
      ]
    },
    {
      "cell_type": "markdown",
      "source": [
        "##9.2.Model Loss Performance"
      ],
      "metadata": {
        "id": "-zqMhicircww"
      }
    },
    {
      "cell_type": "code",
      "source": [
        "plt.plot(model_training.history['loss'],label = 'Train loss')\n",
        "\n",
        "plt.plot(model_training.history['val_loss'],label='Test loss')\n",
        "\n",
        "plt.xlabel('Epochs')\n",
        "plt.ylabel('Loss')\n",
        "plt.title('Model loss Performance')\n",
        "plt.legend()\n",
        "plt.show()"
      ],
      "metadata": {
        "colab": {
          "base_uri": "https://localhost:8080/",
          "height": 295
        },
        "id": "Q8XoGaQkoNIa",
        "outputId": "3a122230-9d56-41c3-da6f-e05d305263b6"
      },
      "execution_count": null,
      "outputs": [
        {
          "output_type": "display_data",
          "data": {
            "text/plain": [
              "<Figure size 432x288 with 1 Axes>"
            ],
            "image/png": "[encoded data removed]"
          },
          "metadata": {
            "needs_background": "light"
          }
        }
      ]
    }
  ]
}