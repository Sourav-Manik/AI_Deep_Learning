{
  "nbformat": 4,
  "nbformat_minor": 0,
  "metadata": {
    "colab": {
      "provenance": [],
      "authorship_tag": "ABX9TyNdNCpneXbmU/S6awbkdTAm",
      "include_colab_link": true
    },
    "kernelspec": {
      "name": "python3",
      "display_name": "Python 3"
    },
    "language_info": {
      "name": "python"
    }
  },
  "cells": [
    {
      "cell_type": "markdown",
      "metadata": {
        "id": "view-in-github",
        "colab_type": "text"
      },
      "source": [
        "<a href=\"https://colab.research.google.com/github/Sourav-Manik/AI_Deep_Learning/blob/main/CNN_InceptionNet_GoogLeNet_Architecture_Pretrained_Model.ipynb\" target=\"_parent\"><img src=\"https://colab.research.google.com/assets/colab-badge.svg\" alt=\"Open In Colab\"/></a>"
      ]
    },
    {
      "cell_type": "markdown",
      "source": [
        "Firstly, we need to import some necessary libraries:"
      ],
      "metadata": {
        "id": "_-as_vUbOIHn"
      }
    },
    {
      "cell_type": "code",
      "execution_count": null,
      "metadata": {
        "id": "8JTMkBXmJ2lG"
      },
      "outputs": [],
      "source": [
        "from keras.models import Model\n",
        "from keras.layers import Input, Conv2D, MaxPooling2D, AveragePooling2D, Flatten, GlobalAveragePooling2D, Dense, Dropout\n",
        "from tensorflow.keras.layers import concatenate\n",
        "\n",
        "from keras.models import Sequential\n",
        "from keras.preprocessing.image import ImageDataGenerator\n",
        "import numpy as np"
      ]
    },
    {
      "cell_type": "markdown",
      "source": [
        "create an Inception block"
      ],
      "metadata": {
        "id": "GjMUhxxVOLiv"
      }
    },
    {
      "cell_type": "code",
      "source": [
        "def Inception_block(input_layer, f1, f2_conv1, f2_conv3, f3_conv1, f3_conv5, f4): \n",
        "  # Input: \n",
        "  # - f1: number of filters of the 1x1 convolutional layer in the first path\n",
        "  # - f2_conv1, f2_conv3 are number of filters corresponding to the 1x1 and 3x3 convolutional layers in the second path\n",
        "  # - f3_conv1, f3_conv5 are the number of filters corresponding to the 1x1 and 5x5  convolutional layer in the third path\n",
        "  # - f4: number of filters of the 1x1 convolutional layer in the fourth path\n",
        "\n",
        "  # 1st path:\n",
        "  path1 = Conv2D(filters=f1, kernel_size = (1,1), padding = 'same', activation = 'relu')(input_layer)\n",
        "\n",
        "  # 2nd path\n",
        "  path2 = Conv2D(filters = f2_conv1, kernel_size = (1,1), padding = 'same', activation = 'relu')(input_layer)\n",
        "  path2 = Conv2D(filters = f2_conv3, kernel_size = (3,3), padding = 'same', activation = 'relu')(path2)\n",
        "\n",
        "  # 3rd path\n",
        "  path3 = Conv2D(filters = f3_conv1, kernel_size = (1,1), padding = 'same', activation = 'relu')(input_layer)\n",
        "  path3 = Conv2D(filters = f3_conv5, kernel_size = (5,5), padding = 'same', activation = 'relu')(path3)\n",
        "\n",
        "  # 4th path\n",
        "  path4 = MaxPooling2D((3,3), strides= (1,1), padding = 'same')(input_layer)\n",
        "  path4 = Conv2D(filters = f4, kernel_size = (1,1), padding = 'same', activation = 'relu')(path4)\n",
        "\n",
        "  output_layer = concatenate([path1, path2, path3, path4], axis = -1)\n",
        "\n",
        "  return output_layer"
      ],
      "metadata": {
        "id": "RTBv-d_fKEBv"
      },
      "execution_count": null,
      "outputs": []
    },
    {
      "cell_type": "markdown",
      "source": [
        "Function to implement the GoogLeNet model:"
      ],
      "metadata": {
        "id": "KpDfp3d2OQkp"
      }
    },
    {
      "cell_type": "code",
      "source": [
        "def GoogLeNet():\n",
        "  # input layer \n",
        "  input_layer = Input(shape = (224, 224, 3))\n",
        "\n",
        "  # convolutional layer: filters = 64, kernel_size = (7,7), strides = 2\n",
        "  X = Conv2D(filters = 64, kernel_size = (7,7), strides = 2, padding = 'valid', activation = 'relu')(input_layer)\n",
        "\n",
        "  # max-pooling layer: pool_size = (3,3), strides = 2\n",
        "  X = MaxPooling2D(pool_size = (3,3), strides = 2)(X)\n",
        "\n",
        "  # convolutional layer: filters = 64, strides = 1\n",
        "  X = Conv2D(filters = 64, kernel_size = (1,1), strides = 1, padding = 'same', activation = 'relu')(X)\n",
        "\n",
        "  # convolutional layer: filters = 192, kernel_size = (3,3)\n",
        "  X = Conv2D(filters = 192, kernel_size = (3,3), padding = 'same', activation = 'relu')(X)\n",
        "\n",
        "  # max-pooling layer: pool_size = (3,3), strides = 2\n",
        "  X = MaxPooling2D(pool_size= (3,3), strides = 2)(X)\n",
        "\n",
        "  # 1st Inception block\n",
        "  X = Inception_block(X, f1 = 64, f2_conv1 = 96, f2_conv3 = 128, f3_conv1 = 16, f3_conv5 = 32, f4 = 32)\n",
        "\n",
        "  # 2nd Inception block\n",
        "  X = Inception_block(X, f1 = 128, f2_conv1 = 128, f2_conv3 = 192, f3_conv1 = 32, f3_conv5 = 96, f4 = 64)\n",
        "\n",
        "  # max-pooling layer: pool_size = (3,3), strides = 2\n",
        "  X = MaxPooling2D(pool_size= (3,3), strides = 2)(X)\n",
        "\n",
        "  # 3rd Inception block\n",
        "  X = Inception_block(X, f1 = 192, f2_conv1 = 96, f2_conv3 = 208, f3_conv1 = 16, f3_conv5 = 48, f4 = 64)\n",
        "\n",
        "  # # Extra network 1:\n",
        "  # X1 = AveragePooling2D(pool_size = (5,5), strides = 3)(X)\n",
        "  # X1 = Conv2D(filters = 128, kernel_size = (1,1), padding = 'same', activation = 'relu')(X1)\n",
        "  # X1 = Flatten()(X1)\n",
        "  # X1 = Dense(1024, activation = 'relu')(X1)\n",
        "  # X1 = Dropout(0.7)(X1)\n",
        "  # X1 = Dense(1000, activation = 'softmax')(X1) #Provide the number of output .i.e in this case it is a 1000 class classification. \n",
        "\n",
        "  \n",
        "  # # 4th Inception block\n",
        "  # X = Inception_block(X, f1 = 160, f2_conv1 = 112, f2_conv3 = 224, f3_conv1 = 24, f3_conv5 = 64, f4 = 64)\n",
        "\n",
        "  # # 5th Inception block\n",
        "  # X = Inception_block(X, f1 = 128, f2_conv1 = 128, f2_conv3 = 256, f3_conv1 = 24, f3_conv5 = 64, f4 = 64)\n",
        "\n",
        "  # # 6th Inception block\n",
        "  # X = Inception_block(X, f1 = 112, f2_conv1 = 144, f2_conv3 = 288, f3_conv1 = 32, f3_conv5 = 64, f4 = 64)\n",
        "\n",
        "  # # Extra network 2:\n",
        "  # X2 = AveragePooling2D(pool_size = (5,5), strides = 3)(X)\n",
        "  # X2 = Conv2D(filters = 128, kernel_size = (1,1), padding = 'same', activation = 'relu')(X2)\n",
        "  # X2 = Flatten()(X2)\n",
        "  # X2 = Dense(1024, activation = 'relu')(X2)\n",
        "  # X2 = Dropout(0.7)(X2)\n",
        "  # X2 = Dense(1000, activation = 'softmax')(X2) #Provide the number of output .i.e in this case it is a 1000 class classification. \n",
        "  \n",
        "  \n",
        "  # 7th Inception block\n",
        "  X = Inception_block(X, f1 = 256, f2_conv1 = 160, f2_conv3 = 320, f3_conv1 = 32, \n",
        "                      f3_conv5 = 128, f4 = 128)\n",
        "\n",
        "  # max-pooling layer: pool_size = (3,3), strides = 2\n",
        "  X = MaxPooling2D(pool_size = (3,3), strides = 2)(X)\n",
        "\n",
        "  # 8th Inception block\n",
        "  X = Inception_block(X, f1 = 256, f2_conv1 = 160, f2_conv3 = 320, f3_conv1 = 32, f3_conv5 = 128, f4 = 128)\n",
        "\n",
        "  # 9th Inception block\n",
        "  X = Inception_block(X, f1 = 384, f2_conv1 = 192, f2_conv3 = 384, f3_conv1 = 48, f3_conv5 = 128, f4 = 128)\n",
        "\n",
        "  # Global Average pooling layer \n",
        "  X = GlobalAveragePooling2D(name = 'GAPL')(X)\n",
        "\n",
        "  # Dropoutlayer \n",
        "  X = Dropout(0.4)(X)\n",
        "\n",
        "  # output layer \n",
        "  X = Dense(1000, activation = 'softmax')(X) #Provide the number of output .i.e in this case it is a 1000 class classification. \n",
        "  \n",
        "  # model\n",
        "  model = Model(input_layer, [X], name = 'GoogLeNet')\n",
        "  #  model = Model(input_layer, [X, X1, X2], name = 'GoogLeNet') #use this code in case you use X1 and X2\n",
        "  return model"
      ],
      "metadata": {
        "id": "0F_4X2cJLXOI"
      },
      "execution_count": null,
      "outputs": []
    },
    {
      "cell_type": "code",
      "source": [
        "model = GoogLeNet()"
      ],
      "metadata": {
        "id": "deie4XDyKEEn"
      },
      "execution_count": null,
      "outputs": []
    },
    {
      "cell_type": "code",
      "source": [
        "model.summary()"
      ],
      "metadata": {
        "colab": {
          "base_uri": "https://localhost:8080/"
        },
        "id": "XYAqC6o3KEHf",
        "outputId": "dc07e9c4-b963-4f4f-9f2f-bf715c1fcf08"
      },
      "execution_count": null,
      "outputs": [
        {
          "output_type": "stream",
          "name": "stdout",
          "text": [
            "Model: \"GoogLeNet\"\n",
            "__________________________________________________________________________________________________\n",
            " Layer (type)                   Output Shape         Param #     Connected to                     \n",
            "==================================================================================================\n",
            " input_3 (InputLayer)           [(None, 224, 224, 3  0           []                               \n",
            "                                )]                                                                \n",
            "                                                                                                  \n",
            " conv2d_78 (Conv2D)             (None, 109, 109, 64  9472        ['input_3[0][0]']                \n",
            "                                )                                                                 \n",
            "                                                                                                  \n",
            " max_pooling2d_20 (MaxPooling2D  (None, 54, 54, 64)  0           ['conv2d_78[0][0]']              \n",
            " )                                                                                                \n",
            "                                                                                                  \n",
            " conv2d_79 (Conv2D)             (None, 54, 54, 64)   4160        ['max_pooling2d_20[0][0]']       \n",
            "                                                                                                  \n",
            " conv2d_80 (Conv2D)             (None, 54, 54, 192)  110784      ['conv2d_79[0][0]']              \n",
            "                                                                                                  \n",
            " max_pooling2d_21 (MaxPooling2D  (None, 26, 26, 192)  0          ['conv2d_80[0][0]']              \n",
            " )                                                                                                \n",
            "                                                                                                  \n",
            " conv2d_82 (Conv2D)             (None, 26, 26, 96)   18528       ['max_pooling2d_21[0][0]']       \n",
            "                                                                                                  \n",
            " conv2d_84 (Conv2D)             (None, 26, 26, 16)   3088        ['max_pooling2d_21[0][0]']       \n",
            "                                                                                                  \n",
            " max_pooling2d_22 (MaxPooling2D  (None, 26, 26, 192)  0          ['max_pooling2d_21[0][0]']       \n",
            " )                                                                                                \n",
            "                                                                                                  \n",
            " conv2d_81 (Conv2D)             (None, 26, 26, 64)   12352       ['max_pooling2d_21[0][0]']       \n",
            "                                                                                                  \n",
            " conv2d_83 (Conv2D)             (None, 26, 26, 128)  110720      ['conv2d_82[0][0]']              \n",
            "                                                                                                  \n",
            " conv2d_85 (Conv2D)             (None, 26, 26, 32)   12832       ['conv2d_84[0][0]']              \n",
            "                                                                                                  \n",
            " conv2d_86 (Conv2D)             (None, 26, 26, 32)   6176        ['max_pooling2d_22[0][0]']       \n",
            "                                                                                                  \n",
            " concatenate_12 (Concatenate)   (None, 26, 26, 256)  0           ['conv2d_81[0][0]',              \n",
            "                                                                  'conv2d_83[0][0]',              \n",
            "                                                                  'conv2d_85[0][0]',              \n",
            "                                                                  'conv2d_86[0][0]']              \n",
            "                                                                                                  \n",
            " conv2d_88 (Conv2D)             (None, 26, 26, 128)  32896       ['concatenate_12[0][0]']         \n",
            "                                                                                                  \n",
            " conv2d_90 (Conv2D)             (None, 26, 26, 32)   8224        ['concatenate_12[0][0]']         \n",
            "                                                                                                  \n",
            " max_pooling2d_23 (MaxPooling2D  (None, 26, 26, 256)  0          ['concatenate_12[0][0]']         \n",
            " )                                                                                                \n",
            "                                                                                                  \n",
            " conv2d_87 (Conv2D)             (None, 26, 26, 128)  32896       ['concatenate_12[0][0]']         \n",
            "                                                                                                  \n",
            " conv2d_89 (Conv2D)             (None, 26, 26, 192)  221376      ['conv2d_88[0][0]']              \n",
            "                                                                                                  \n",
            " conv2d_91 (Conv2D)             (None, 26, 26, 96)   76896       ['conv2d_90[0][0]']              \n",
            "                                                                                                  \n",
            " conv2d_92 (Conv2D)             (None, 26, 26, 64)   16448       ['max_pooling2d_23[0][0]']       \n",
            "                                                                                                  \n",
            " concatenate_13 (Concatenate)   (None, 26, 26, 480)  0           ['conv2d_87[0][0]',              \n",
            "                                                                  'conv2d_89[0][0]',              \n",
            "                                                                  'conv2d_91[0][0]',              \n",
            "                                                                  'conv2d_92[0][0]']              \n",
            "                                                                                                  \n",
            " max_pooling2d_24 (MaxPooling2D  (None, 12, 12, 480)  0          ['concatenate_13[0][0]']         \n",
            " )                                                                                                \n",
            "                                                                                                  \n",
            " conv2d_94 (Conv2D)             (None, 12, 12, 96)   46176       ['max_pooling2d_24[0][0]']       \n",
            "                                                                                                  \n",
            " conv2d_96 (Conv2D)             (None, 12, 12, 16)   7696        ['max_pooling2d_24[0][0]']       \n",
            "                                                                                                  \n",
            " max_pooling2d_25 (MaxPooling2D  (None, 12, 12, 480)  0          ['max_pooling2d_24[0][0]']       \n",
            " )                                                                                                \n",
            "                                                                                                  \n",
            " conv2d_93 (Conv2D)             (None, 12, 12, 192)  92352       ['max_pooling2d_24[0][0]']       \n",
            "                                                                                                  \n",
            " conv2d_95 (Conv2D)             (None, 12, 12, 208)  179920      ['conv2d_94[0][0]']              \n",
            "                                                                                                  \n",
            " conv2d_97 (Conv2D)             (None, 12, 12, 48)   19248       ['conv2d_96[0][0]']              \n",
            "                                                                                                  \n",
            " conv2d_98 (Conv2D)             (None, 12, 12, 64)   30784       ['max_pooling2d_25[0][0]']       \n",
            "                                                                                                  \n",
            " concatenate_14 (Concatenate)   (None, 12, 12, 512)  0           ['conv2d_93[0][0]',              \n",
            "                                                                  'conv2d_95[0][0]',              \n",
            "                                                                  'conv2d_97[0][0]',              \n",
            "                                                                  'conv2d_98[0][0]']              \n",
            "                                                                                                  \n",
            " conv2d_100 (Conv2D)            (None, 12, 12, 160)  82080       ['concatenate_14[0][0]']         \n",
            "                                                                                                  \n",
            " conv2d_102 (Conv2D)            (None, 12, 12, 32)   16416       ['concatenate_14[0][0]']         \n",
            "                                                                                                  \n",
            " max_pooling2d_26 (MaxPooling2D  (None, 12, 12, 512)  0          ['concatenate_14[0][0]']         \n",
            " )                                                                                                \n",
            "                                                                                                  \n",
            " conv2d_99 (Conv2D)             (None, 12, 12, 256)  131328      ['concatenate_14[0][0]']         \n",
            "                                                                                                  \n",
            " conv2d_101 (Conv2D)            (None, 12, 12, 320)  461120      ['conv2d_100[0][0]']             \n",
            "                                                                                                  \n",
            " conv2d_103 (Conv2D)            (None, 12, 12, 128)  102528      ['conv2d_102[0][0]']             \n",
            "                                                                                                  \n",
            " conv2d_104 (Conv2D)            (None, 12, 12, 128)  65664       ['max_pooling2d_26[0][0]']       \n",
            "                                                                                                  \n",
            " concatenate_15 (Concatenate)   (None, 12, 12, 832)  0           ['conv2d_99[0][0]',              \n",
            "                                                                  'conv2d_101[0][0]',             \n",
            "                                                                  'conv2d_103[0][0]',             \n",
            "                                                                  'conv2d_104[0][0]']             \n",
            "                                                                                                  \n",
            " max_pooling2d_27 (MaxPooling2D  (None, 5, 5, 832)   0           ['concatenate_15[0][0]']         \n",
            " )                                                                                                \n",
            "                                                                                                  \n",
            " conv2d_106 (Conv2D)            (None, 5, 5, 160)    133280      ['max_pooling2d_27[0][0]']       \n",
            "                                                                                                  \n",
            " conv2d_108 (Conv2D)            (None, 5, 5, 32)     26656       ['max_pooling2d_27[0][0]']       \n",
            "                                                                                                  \n",
            " max_pooling2d_28 (MaxPooling2D  (None, 5, 5, 832)   0           ['max_pooling2d_27[0][0]']       \n",
            " )                                                                                                \n",
            "                                                                                                  \n",
            " conv2d_105 (Conv2D)            (None, 5, 5, 256)    213248      ['max_pooling2d_27[0][0]']       \n",
            "                                                                                                  \n",
            " conv2d_107 (Conv2D)            (None, 5, 5, 320)    461120      ['conv2d_106[0][0]']             \n",
            "                                                                                                  \n",
            " conv2d_109 (Conv2D)            (None, 5, 5, 128)    102528      ['conv2d_108[0][0]']             \n",
            "                                                                                                  \n",
            " conv2d_110 (Conv2D)            (None, 5, 5, 128)    106624      ['max_pooling2d_28[0][0]']       \n",
            "                                                                                                  \n",
            " concatenate_16 (Concatenate)   (None, 5, 5, 832)    0           ['conv2d_105[0][0]',             \n",
            "                                                                  'conv2d_107[0][0]',             \n",
            "                                                                  'conv2d_109[0][0]',             \n",
            "                                                                  'conv2d_110[0][0]']             \n",
            "                                                                                                  \n",
            " conv2d_112 (Conv2D)            (None, 5, 5, 192)    159936      ['concatenate_16[0][0]']         \n",
            "                                                                                                  \n",
            " conv2d_114 (Conv2D)            (None, 5, 5, 48)     39984       ['concatenate_16[0][0]']         \n",
            "                                                                                                  \n",
            " max_pooling2d_29 (MaxPooling2D  (None, 5, 5, 832)   0           ['concatenate_16[0][0]']         \n",
            " )                                                                                                \n",
            "                                                                                                  \n",
            " conv2d_111 (Conv2D)            (None, 5, 5, 384)    319872      ['concatenate_16[0][0]']         \n",
            "                                                                                                  \n",
            " conv2d_113 (Conv2D)            (None, 5, 5, 384)    663936      ['conv2d_112[0][0]']             \n",
            "                                                                                                  \n",
            " conv2d_115 (Conv2D)            (None, 5, 5, 128)    153728      ['conv2d_114[0][0]']             \n",
            "                                                                                                  \n",
            " conv2d_116 (Conv2D)            (None, 5, 5, 128)    106624      ['max_pooling2d_29[0][0]']       \n",
            "                                                                                                  \n",
            " concatenate_17 (Concatenate)   (None, 5, 5, 1024)   0           ['conv2d_111[0][0]',             \n",
            "                                                                  'conv2d_113[0][0]',             \n",
            "                                                                  'conv2d_115[0][0]',             \n",
            "                                                                  'conv2d_116[0][0]']             \n",
            "                                                                                                  \n",
            " GAPL (GlobalAveragePooling2D)  (None, 1024)         0           ['concatenate_17[0][0]']         \n",
            "                                                                                                  \n",
            " dropout_2 (Dropout)            (None, 1024)         0           ['GAPL[0][0]']                   \n",
            "                                                                                                  \n",
            " dense_2 (Dense)                (None, 1000)         1025000     ['dropout_2[0][0]']              \n",
            "                                                                                                  \n",
            "==================================================================================================\n",
            "Total params: 5,424,696\n",
            "Trainable params: 5,424,696\n",
            "Non-trainable params: 0\n",
            "__________________________________________________________________________________________________\n"
          ]
        }
      ]
    },
    {
      "cell_type": "code",
      "source": [
        "from keras.utils import load_img"
      ],
      "metadata": {
        "id": "_-SvEmkOi5G2"
      },
      "execution_count": null,
      "outputs": []
    },
    {
      "cell_type": "code",
      "source": [
        "image = load_img(path = '/content/german shepard.jpeg', target_size = (224,224,3))"
      ],
      "metadata": {
        "id": "76TBh8C6vYQA"
      },
      "execution_count": null,
      "outputs": []
    },
    {
      "cell_type": "code",
      "source": [
        "image"
      ],
      "metadata": {
        "colab": {
          "base_uri": "https://localhost:8080/",
          "height": 241
        },
        "id": "qHEuHfZAwqHs",
        "outputId": "2fee79f4-9260-4a13-df44-dfa8fc62683b"
      },
      "execution_count": null,
      "outputs": [
        {
          "output_type": "execute_result",
          "data": {
            "text/plain": [
              "<PIL.Image.Image image mode=RGB size=224x224 at 0x7FD63CCCD310>"
            ],
            "image/png": "[encoded data removed]"
          },
          "metadata": {},
          "execution_count": 39
        }
      ]
    },
    {
      "cell_type": "code",
      "source": [
        "import numpy as np\n",
        "np.array(image)"
      ],
      "metadata": {
        "colab": {
          "base_uri": "https://localhost:8080/"
        },
        "id": "7_gOCJigwqK5",
        "outputId": "264be515-7586-4c9f-9bfb-d5bccd3f0a1d"
      },
      "execution_count": null,
      "outputs": [
        {
          "output_type": "execute_result",
          "data": {
            "text/plain": [
              "array([[[174, 193,  15],\n",
              "        [170, 189,   9],\n",
              "        [172, 191,  11],\n",
              "        ...,\n",
              "        [138, 146,  11],\n",
              "        [136, 144,   9],\n",
              "        [139, 147,  10]],\n",
              "\n",
              "       [[169, 188,  10],\n",
              "        [166, 185,   5],\n",
              "        [167, 186,   6],\n",
              "        ...,\n",
              "        [137, 146,   3],\n",
              "        [135, 144,   1],\n",
              "        [138, 147,   2]],\n",
              "\n",
              "       [[167, 186,   8],\n",
              "        [163, 182,   4],\n",
              "        [165, 184,   4],\n",
              "        ...,\n",
              "        [138, 146,   0],\n",
              "        [136, 144,   0],\n",
              "        [139, 147,   0]],\n",
              "\n",
              "       ...,\n",
              "\n",
              "       [[119, 158,   7],\n",
              "        [136, 158,   0],\n",
              "        [154, 160,   8],\n",
              "        ...,\n",
              "        [ 87,  91,  15],\n",
              "        [ 78,  86,   3],\n",
              "        [134, 139,  55]],\n",
              "\n",
              "       [[113, 156,   6],\n",
              "        [129, 155,   0],\n",
              "        [146, 156,   0],\n",
              "        ...,\n",
              "        [ 73,  74,   0],\n",
              "        [ 87,  90,   9],\n",
              "        [154, 158,  74]],\n",
              "\n",
              "       [[120, 147,  16],\n",
              "        [139, 150,  30],\n",
              "        [154, 150,  43],\n",
              "        ...,\n",
              "        [ 69,  82,   2],\n",
              "        [ 85,  90,  23],\n",
              "        [159, 159, 109]]], dtype=uint8)"
            ]
          },
          "metadata": {},
          "execution_count": 40
        }
      ]
    },
    {
      "cell_type": "code",
      "source": [
        "image = np.reshape(a= image,newshape = (1,224,224,3))\n",
        "image.shape"
      ],
      "metadata": {
        "colab": {
          "base_uri": "https://localhost:8080/"
        },
        "id": "GsquIk13wqNr",
        "outputId": "308dec1c-f75c-48a6-9b7e-ce25fc04db7a"
      },
      "execution_count": null,
      "outputs": [
        {
          "output_type": "execute_result",
          "data": {
            "text/plain": [
              "(1, 224, 224, 3)"
            ]
          },
          "metadata": {},
          "execution_count": 41
        }
      ]
    },
    {
      "cell_type": "code",
      "source": [
        "from keras.applications.imagenet_utils import preprocess_input"
      ],
      "metadata": {
        "id": "ann-YP24wqQZ"
      },
      "execution_count": null,
      "outputs": []
    },
    {
      "cell_type": "code",
      "source": [
        "image_preprocessed = preprocess_input(image)\n",
        "image_preprocessed"
      ],
      "metadata": {
        "colab": {
          "base_uri": "https://localhost:8080/"
        },
        "id": "OJyf8epcyJEe",
        "outputId": "7bf41a6d-e9e9-4296-9402-fd4b2bd93ee4"
      },
      "execution_count": null,
      "outputs": [
        {
          "output_type": "execute_result",
          "data": {
            "text/plain": [
              "array([[[[ -88.939    ,   76.221    ,   50.32     ],\n",
              "         [ -94.939    ,   72.221    ,   46.32     ],\n",
              "         [ -92.939    ,   74.221    ,   48.32     ],\n",
              "         ...,\n",
              "         [ -92.939    ,   29.221    ,   14.32     ],\n",
              "         [ -94.939    ,   27.221    ,   12.32     ],\n",
              "         [ -93.939    ,   30.221    ,   15.32     ]],\n",
              "\n",
              "        [[ -93.939    ,   71.221    ,   45.32     ],\n",
              "         [ -98.939    ,   68.221    ,   42.32     ],\n",
              "         [ -97.939    ,   69.221    ,   43.32     ],\n",
              "         ...,\n",
              "         [-100.939    ,   29.221    ,   13.32     ],\n",
              "         [-102.939    ,   27.221    ,   11.32     ],\n",
              "         [-101.939    ,   30.221    ,   14.32     ]],\n",
              "\n",
              "        [[ -95.939    ,   69.221    ,   43.32     ],\n",
              "         [ -99.939    ,   65.221    ,   39.32     ],\n",
              "         [ -99.939    ,   67.221    ,   41.32     ],\n",
              "         ...,\n",
              "         [-103.939    ,   29.221    ,   14.32     ],\n",
              "         [-103.939    ,   27.221    ,   12.32     ],\n",
              "         [-103.939    ,   30.221    ,   15.32     ]],\n",
              "\n",
              "        ...,\n",
              "\n",
              "        [[ -96.939    ,   41.221    ,   -4.6800003],\n",
              "         [-103.939    ,   41.221    ,   12.32     ],\n",
              "         [ -95.939    ,   43.221    ,   30.32     ],\n",
              "         ...,\n",
              "         [ -88.939    ,  -25.779    ,  -36.68     ],\n",
              "         [-100.939    ,  -30.779    ,  -45.68     ],\n",
              "         [ -48.939003 ,   22.221    ,   10.32     ]],\n",
              "\n",
              "        [[ -97.939    ,   39.221    ,  -10.68     ],\n",
              "         [-103.939    ,   38.221    ,    5.3199997],\n",
              "         [-103.939    ,   39.221    ,   22.32     ],\n",
              "         ...,\n",
              "         [-103.939    ,  -42.779    ,  -50.68     ],\n",
              "         [ -94.939    ,  -26.779    ,  -36.68     ],\n",
              "         [ -29.939003 ,   41.221    ,   30.32     ]],\n",
              "\n",
              "        [[ -87.939    ,   30.221    ,   -3.6800003],\n",
              "         [ -73.939    ,   33.221    ,   15.32     ],\n",
              "         [ -60.939003 ,   33.221    ,   30.32     ],\n",
              "         ...,\n",
              "         [-101.939    ,  -34.779    ,  -54.68     ],\n",
              "         [ -80.939    ,  -26.779    ,  -38.68     ],\n",
              "         [   5.060997 ,   42.221    ,   35.32     ]]]], dtype=float32)"
            ]
          },
          "metadata": {},
          "execution_count": 43
        }
      ]
    },
    {
      "cell_type": "code",
      "source": [
        "y_pred = model.predict(image_preprocessed)\n",
        "y_pred"
      ],
      "metadata": {
        "colab": {
          "base_uri": "https://localhost:8080/"
        },
        "id": "wy0ppLwPyRht",
        "outputId": "a41a9bb7-2604-436d-c194-191ea814e3e4"
      },
      "execution_count": null,
      "outputs": [
        {
          "output_type": "stream",
          "name": "stdout",
          "text": [
            "1/1 [==============================] - 1s 535ms/step\n"
          ]
        },
        {
          "output_type": "execute_result",
          "data": {
            "text/plain": [
              "array([[5.93896184e-05, 3.22257605e-04, 7.34575267e-04, 1.66313350e-03,\n",
              "        3.46743152e-04, 1.19359707e-02, 1.50643564e-05, 7.52004780e-05,\n",
              "        5.62191242e-04, 1.95225963e-04, 4.66547848e-04, 4.69557039e-04,\n",
              "        1.20159093e-05, 4.17704199e-04, 3.24185676e-04, 5.56600680e-05,\n",
              "        1.66751925e-04, 2.46461714e-04, 1.57707464e-03, 2.62832735e-03,\n",
              "        1.87768019e-04, 4.67168065e-05, 8.34853016e-03, 1.92018721e-04,\n",
              "        3.28812312e-05, 1.44156395e-03, 5.30490206e-06, 4.17359639e-03,\n",
              "        1.57674789e-04, 7.10649882e-04, 8.66338087e-04, 1.07398862e-03,\n",
              "        1.69626743e-04, 6.41046208e-04, 2.91331147e-04, 5.79427870e-04,\n",
              "        5.16871747e-04, 8.66992690e-04, 3.59800499e-04, 4.74342320e-04,\n",
              "        1.92750667e-04, 1.02989993e-03, 3.73664603e-04, 2.57706223e-03,\n",
              "        4.52913780e-04, 7.33346042e-06, 2.20710863e-04, 2.28764737e-04,\n",
              "        4.49018000e-04, 2.23221941e-04, 8.19468914e-05, 5.28913573e-04,\n",
              "        3.02183355e-04, 4.24113750e-05, 1.81209922e-04, 3.93575465e-06,\n",
              "        1.78584538e-04, 1.11759908e-03, 2.75228609e-04, 4.88201076e-05,\n",
              "        1.48043591e-06, 5.40936890e-05, 3.73505347e-04, 3.38948937e-03,\n",
              "        2.18591114e-04, 1.74750268e-04, 1.58516850e-04, 1.83467357e-03,\n",
              "        1.08904438e-04, 3.34382174e-04, 1.00187308e-05, 1.51930595e-04,\n",
              "        3.25265064e-05, 1.97301215e-05, 1.84100165e-04, 2.46589698e-05,\n",
              "        5.79433690e-04, 3.03097549e-05, 3.68511304e-03, 2.00168710e-04,\n",
              "        4.46388949e-05, 6.42853044e-03, 5.82470633e-02, 1.78912771e-03,\n",
              "        3.73431249e-05, 9.22609703e-04, 8.23903771e-04, 1.12951652e-03,\n",
              "        6.25433493e-03, 2.34079307e-05, 1.79664159e-04, 9.97687341e-04,\n",
              "        7.26777434e-05, 6.63386600e-04, 7.84761738e-04, 7.27774095e-05,\n",
              "        8.76904687e-06, 2.27458077e-03, 8.00484035e-04, 9.13455460e-06,\n",
              "        8.66547518e-04, 3.37617734e-04, 3.43220890e-05, 1.56253547e-04,\n",
              "        2.83824775e-04, 1.09082612e-04, 1.32813348e-05, 1.05499756e-03,\n",
              "        6.89151115e-04, 8.86506808e-04, 2.16347937e-04, 6.74249954e-04,\n",
              "        8.38670021e-05, 9.25332934e-05, 1.61394782e-04, 8.43984017e-05,\n",
              "        5.65576879e-03, 6.43998734e-04, 6.42900937e-04, 3.41048813e-04,\n",
              "        3.99702622e-05, 3.09779425e-04, 1.04727187e-05, 2.54929910e-04,\n",
              "        8.25855095e-05, 1.94568165e-05, 6.20014546e-03, 5.53532271e-04,\n",
              "        4.79691429e-04, 1.01914059e-03, 6.13464741e-04, 3.68208950e-03,\n",
              "        5.67987445e-05, 1.37950818e-03, 2.08026249e-04, 3.45995613e-05,\n",
              "        7.68448517e-04, 9.28007576e-05, 2.23544157e-05, 3.32317031e-05,\n",
              "        9.72521302e-05, 1.01099513e-03, 2.23449297e-05, 1.95861037e-04,\n",
              "        2.24621108e-04, 9.43669409e-04, 2.55989912e-03, 1.05807179e-04,\n",
              "        1.74421933e-03, 2.28764402e-05, 2.67060168e-05, 8.76472404e-05,\n",
              "        3.68593988e-04, 4.03731938e-05, 6.95881863e-06, 2.92427576e-05,\n",
              "        1.62557105e-03, 1.67874608e-03, 1.06328174e-04, 5.10314421e-04,\n",
              "        1.17751991e-03, 4.25042635e-05, 1.35211658e-05, 3.53161478e-04,\n",
              "        1.53098546e-04, 2.85742190e-05, 6.76383643e-05, 5.81274981e-05,\n",
              "        7.38139846e-04, 5.35929902e-03, 1.06594031e-04, 6.17397425e-04,\n",
              "        1.78594331e-04, 4.41083212e-05, 5.94945217e-04, 1.84186123e-04,\n",
              "        9.94176953e-05, 2.95713136e-04, 3.05296671e-05, 3.28131893e-04,\n",
              "        8.53636651e-04, 5.28800047e-06, 7.54808116e-06, 8.19234469e-04,\n",
              "        1.05351421e-04, 5.54785838e-05, 5.36239240e-04, 5.40564826e-04,\n",
              "        1.20235095e-03, 7.01179306e-05, 5.17327862e-05, 1.49700209e-04,\n",
              "        1.45728163e-05, 9.31380273e-05, 5.60028537e-04, 1.18488424e-04,\n",
              "        4.84811142e-04, 8.20802059e-04, 1.06715470e-05, 3.52799434e-05,\n",
              "        2.07256438e-04, 9.64975159e-04, 1.34681046e-04, 2.63191178e-03,\n",
              "        1.26628764e-03, 7.48275852e-05, 1.21137942e-04, 3.22390988e-04,\n",
              "        8.23375885e-05, 1.02449878e-04, 1.34794228e-03, 1.91680191e-03,\n",
              "        2.91859760e-04, 6.16768899e-04, 6.48072455e-04, 5.47309646e-05,\n",
              "        1.56596056e-04, 8.97911741e-05, 1.59492338e-04, 6.17140438e-04,\n",
              "        1.09461718e-03, 8.76198756e-04, 1.43942435e-03, 4.33520938e-04,\n",
              "        2.78423377e-05, 5.50267177e-05, 1.09322392e-03, 2.11549737e-03,\n",
              "        4.56896797e-03, 1.11646790e-04, 2.58507353e-05, 1.09440269e-04,\n",
              "        4.62184020e-04, 6.57355133e-03, 1.55756483e-03, 1.18298852e-03,\n",
              "        4.26076527e-04, 9.91545152e-04, 2.12090206e-03, 2.14802846e-03,\n",
              "        2.24620788e-04, 2.48909404e-04, 2.65704497e-04, 1.87593326e-03,\n",
              "        3.11743279e-05, 6.86056010e-05, 2.97165243e-04, 3.62703548e-04,\n",
              "        3.00595450e-04, 2.03770632e-03, 3.71144924e-05, 8.16779084e-06,\n",
              "        2.42366823e-05, 7.96308013e-05, 2.17394040e-06, 3.96139594e-03,\n",
              "        1.17167867e-04, 1.00969235e-04, 5.32563899e-05, 5.13954728e-04,\n",
              "        5.04719140e-03, 2.04317781e-04, 3.68382985e-04, 5.97594597e-04,\n",
              "        3.47923022e-04, 8.15219188e-04, 2.35427474e-03, 2.41455319e-03,\n",
              "        4.96821885e-05, 6.86182990e-04, 3.22035485e-04, 3.42973872e-05,\n",
              "        6.07109512e-04, 2.67352327e-04, 3.42423678e-03, 3.86737869e-04,\n",
              "        1.59509154e-03, 4.55806352e-04, 1.33359237e-04, 8.76702761e-05,\n",
              "        1.62932003e-04, 1.80478401e-05, 3.85391235e-04, 4.61135525e-03,\n",
              "        2.38077737e-05, 9.15814962e-05, 5.14770218e-04, 8.35504034e-05,\n",
              "        3.35800396e-05, 1.43253317e-04, 8.60501255e-04, 2.98400322e-04,\n",
              "        1.28014002e-03, 3.59225698e-04, 7.68005266e-04, 3.12397897e-04,\n",
              "        2.61120527e-04, 4.28495201e-04, 9.99126583e-04, 7.04563354e-05,\n",
              "        1.00495628e-04, 2.75654922e-04, 4.06586187e-05, 1.02917524e-03,\n",
              "        8.01736955e-04, 7.86358956e-04, 1.03649276e-03, 3.81762475e-05,\n",
              "        2.18775356e-04, 3.67174835e-05, 1.43550569e-04, 1.17410877e-04,\n",
              "        3.67461820e-03, 1.12291760e-04, 1.28047273e-03, 2.60799250e-04,\n",
              "        1.01704871e-04, 1.22496532e-03, 5.43171664e-05, 1.85280242e-05,\n",
              "        2.52044701e-05, 2.98134633e-04, 2.48258184e-05, 4.33039968e-05,\n",
              "        2.04532873e-03, 6.48788526e-04, 2.00141425e-04, 9.67141168e-05,\n",
              "        3.56342643e-04, 1.22079079e-03, 7.46583682e-05, 8.14470040e-05,\n",
              "        2.70343007e-04, 6.38086756e-04, 1.52044668e-04, 8.74546677e-05,\n",
              "        1.65124249e-04, 1.08885420e-02, 6.59842481e-05, 4.69278166e-04,\n",
              "        8.71006690e-04, 3.47763780e-05, 1.64149838e-04, 3.47989233e-04,\n",
              "        7.05590064e-05, 3.21324053e-03, 4.28488420e-05, 7.12886162e-04,\n",
              "        9.45638658e-06, 1.15927297e-03, 6.17411206e-05, 7.56512018e-05,\n",
              "        3.60821054e-04, 4.46286605e-04, 6.00839803e-06, 7.42676202e-04,\n",
              "        2.21531675e-03, 1.63514563e-03, 7.91929153e-07, 1.28263410e-03,\n",
              "        1.79892100e-04, 2.10451399e-05, 5.75599784e-04, 3.33780335e-04,\n",
              "        1.25719853e-05, 8.33516751e-05, 2.98545783e-04, 4.26911756e-05,\n",
              "        1.01697270e-03, 1.13510585e-04, 2.78222462e-04, 6.47436827e-04,\n",
              "        3.29620270e-05, 1.21362833e-03, 5.14633284e-05, 7.07965053e-04,\n",
              "        5.17015433e-05, 5.84078680e-06, 1.86983636e-03, 1.31392630e-03,\n",
              "        1.08631747e-03, 5.99449675e-04, 3.87521111e-04, 3.72799650e-06,\n",
              "        3.89414420e-03, 8.99865932e-04, 2.13604944e-04, 9.00809100e-05,\n",
              "        1.11402816e-03, 3.28850886e-03, 2.95097852e-04, 1.44734513e-03,\n",
              "        1.31041789e-03, 2.30951428e-05, 5.31919533e-04, 4.44557285e-04,\n",
              "        5.43959613e-05, 1.00497541e-03, 3.04274698e-04, 9.97482915e-04,\n",
              "        1.17934605e-05, 3.80787067e-04, 2.23175180e-03, 4.44957288e-03,\n",
              "        4.81138522e-05, 4.80982009e-03, 6.29364687e-04, 1.52422499e-05,\n",
              "        2.95507751e-04, 2.97241932e-04, 1.21679528e-04, 3.37453908e-03,\n",
              "        2.67007330e-04, 1.55144066e-04, 3.55308352e-04, 1.54605473e-03,\n",
              "        3.36798024e-04, 3.10840958e-04, 5.28418468e-06, 6.50500942e-06,\n",
              "        3.28417882e-05, 8.33774742e-04, 4.28078747e-05, 2.21238242e-05,\n",
              "        4.67758538e-04, 2.39137924e-04, 3.13127617e-04, 5.63901442e-04,\n",
              "        2.60260451e-04, 4.28352592e-04, 2.49808095e-02, 3.81984974e-05,\n",
              "        3.99158476e-03, 1.60091917e-03, 6.07965863e-04, 2.19439426e-05,\n",
              "        4.44334140e-03, 6.92481408e-05, 4.31819217e-06, 2.23436946e-05,\n",
              "        9.32847033e-04, 6.75070682e-04, 1.29732274e-04, 1.82630738e-05,\n",
              "        1.69959909e-04, 5.88721450e-05, 2.60290835e-06, 1.45008415e-03,\n",
              "        4.13554779e-04, 2.44509538e-05, 6.12471299e-03, 2.07544130e-04,\n",
              "        7.96934037e-05, 1.04146183e-03, 3.50583461e-04, 2.60874222e-05,\n",
              "        6.53573428e-04, 3.04807945e-05, 3.05126567e-04, 3.31603165e-04,\n",
              "        4.44203848e-04, 9.94273141e-05, 3.88088265e-05, 3.71377944e-04,\n",
              "        9.71128815e-04, 2.19173700e-04, 6.85682826e-05, 1.83261721e-03,\n",
              "        9.46510772e-05, 2.99218314e-04, 1.13669992e-03, 3.53821553e-04,\n",
              "        8.96711601e-04, 9.22963882e-05, 3.73581611e-03, 3.23258391e-05,\n",
              "        8.93690274e-04, 1.20774705e-04, 6.07421098e-04, 7.52475462e-05,\n",
              "        1.80232018e-04, 1.88111293e-03, 1.53929600e-03, 1.10432645e-03,\n",
              "        3.80638412e-05, 9.12225369e-05, 4.14263137e-04, 1.23396795e-03,\n",
              "        6.16311445e-04, 5.16962682e-05, 1.76969668e-04, 4.69081849e-03,\n",
              "        2.45225325e-04, 1.68343063e-03, 1.43854984e-03, 4.22431098e-04,\n",
              "        1.83509619e-04, 2.19696295e-03, 4.58706927e-04, 7.98025809e-04,\n",
              "        1.59487008e-05, 6.72589231e-04, 4.49794607e-04, 1.12737813e-04,\n",
              "        5.17386885e-04, 1.21275592e-03, 7.72267304e-05, 7.77222100e-04,\n",
              "        2.38139811e-03, 2.04439988e-04, 2.45105592e-04, 6.50369155e-04,\n",
              "        6.20176579e-05, 7.43935874e-04, 9.47036751e-05, 5.37887681e-04,\n",
              "        6.17478101e-04, 3.60795733e-04, 8.49367279e-05, 4.03199531e-03,\n",
              "        6.92028203e-04, 1.44036558e-05, 1.76892721e-03, 4.47772509e-05,\n",
              "        6.92977264e-05, 6.15102181e-05, 1.44125743e-05, 1.66526642e-02,\n",
              "        6.59948564e-04, 1.90015067e-04, 2.66438699e-04, 5.79647254e-04,\n",
              "        2.88265501e-03, 8.90126321e-05, 2.32670704e-04, 2.21473529e-04,\n",
              "        9.97051029e-05, 1.11526599e-04, 6.01837179e-04, 3.80768579e-05,\n",
              "        4.49612962e-05, 1.12430751e-02, 7.77854148e-05, 3.43715365e-04,\n",
              "        1.21990894e-03, 7.58766362e-07, 2.40036788e-05, 2.09506426e-04,\n",
              "        3.28246606e-05, 6.65355055e-03, 1.87004596e-04, 1.86886557e-03,\n",
              "        3.90824210e-03, 1.48861553e-04, 1.24571612e-04, 2.50016397e-04,\n",
              "        4.62947506e-03, 1.97091977e-05, 1.36061222e-03, 8.35470019e-06,\n",
              "        5.57390786e-06, 6.60832156e-05, 3.16999707e-04, 3.34808836e-03,\n",
              "        5.24741365e-03, 3.65054089e-04, 1.36748102e-04, 1.33088359e-03,\n",
              "        4.31217177e-06, 5.77054125e-05, 3.37055564e-04, 2.47845281e-04,\n",
              "        1.58936455e-05, 4.11590045e-05, 3.48349313e-05, 1.65394705e-03,\n",
              "        4.00640492e-05, 3.98926379e-04, 7.03869807e-03, 9.30296301e-06,\n",
              "        1.51365704e-04, 1.33310983e-04, 4.94521577e-03, 1.00228490e-05,\n",
              "        2.37044078e-04, 2.38970460e-05, 2.49793793e-05, 5.79947773e-05,\n",
              "        8.73164463e-05, 8.64612157e-05, 6.18425474e-05, 2.55003222e-04,\n",
              "        6.59733021e-04, 1.82823511e-03, 3.49796959e-03, 5.11762570e-04,\n",
              "        3.29555551e-05, 1.87638507e-04, 5.49173055e-05, 1.82678108e-03,\n",
              "        1.10163353e-03, 1.14873590e-04, 4.31617918e-05, 3.59989417e-06,\n",
              "        4.96508612e-04, 3.23078886e-04, 3.59953061e-04, 1.37573559e-04,\n",
              "        1.27338833e-04, 2.71226205e-02, 6.99620286e-04, 1.32391986e-03,\n",
              "        6.68813474e-04, 3.05622671e-04, 1.06914064e-04, 7.48843479e-04,\n",
              "        4.07977874e-04, 3.65633168e-05, 5.98514569e-04, 8.18873232e-04,\n",
              "        6.16136356e-04, 3.95313145e-05, 2.62617705e-05, 2.82118970e-04,\n",
              "        4.41557448e-03, 2.74404476e-04, 4.34109243e-04, 2.77985200e-05,\n",
              "        1.18194248e-05, 1.42435354e-04, 7.03737373e-04, 8.40908542e-05,\n",
              "        3.45830689e-04, 1.12846668e-04, 1.78517529e-03, 6.55277545e-05,\n",
              "        9.15244804e-04, 2.58069515e-04, 1.11734914e-03, 2.08425598e-04,\n",
              "        7.04953200e-05, 8.30199453e-04, 9.71971487e-04, 1.87711720e-03,\n",
              "        1.99992413e-04, 2.32425999e-04, 3.57427525e-05, 8.40766996e-04,\n",
              "        2.30411254e-03, 3.16112564e-05, 3.28197167e-03, 2.01730101e-04,\n",
              "        1.06670695e-05, 1.44059843e-04, 1.08980888e-03, 6.82878715e-04,\n",
              "        1.16288662e-03, 5.44180104e-04, 8.58426301e-06, 6.33798656e-04,\n",
              "        1.40539405e-03, 2.04561884e-03, 2.20667207e-04, 2.08008496e-05,\n",
              "        6.00388776e-05, 1.32863584e-04, 2.04142602e-03, 1.15596034e-04,\n",
              "        1.37525740e-05, 5.14083149e-05, 1.03133883e-04, 1.13926164e-03,\n",
              "        4.87585261e-04, 1.81076994e-05, 1.77183720e-05, 2.24324479e-03,\n",
              "        4.25910373e-04, 1.07889668e-04, 9.91967900e-05, 1.34402304e-04,\n",
              "        2.31781505e-05, 4.05479695e-05, 5.50818477e-05, 4.12194349e-05,\n",
              "        2.65177310e-04, 1.32504472e-04, 3.25769215e-05, 2.72707432e-04,\n",
              "        6.01034990e-05, 6.20754654e-05, 7.55505229e-04, 3.09423869e-03,\n",
              "        5.94724006e-05, 1.35550057e-04, 3.81552643e-04, 9.16537974e-05,\n",
              "        1.20576638e-04, 1.92199994e-04, 3.17552040e-05, 2.39507208e-04,\n",
              "        1.39961689e-04, 7.61011470e-05, 3.60249396e-05, 5.46313357e-03,\n",
              "        1.03356260e-05, 2.35764030e-03, 7.01781071e-04, 6.68374181e-04,\n",
              "        1.51174264e-02, 5.77188912e-04, 1.63629666e-05, 3.56313947e-04,\n",
              "        5.49510703e-04, 4.54722212e-05, 7.55825255e-04, 6.62378327e-04,\n",
              "        8.66164162e-04, 3.25294398e-03, 3.07094015e-04, 3.19192077e-05,\n",
              "        4.09443834e-04, 2.70096515e-03, 1.31217646e-04, 8.48132913e-05,\n",
              "        2.10006675e-03, 2.89634204e-06, 5.46792115e-04, 2.51280057e-04,\n",
              "        1.29221880e-04, 7.06068677e-05, 7.90350838e-04, 2.18614980e-04,\n",
              "        1.18463533e-03, 3.48183443e-04, 1.15128001e-03, 9.09195980e-04,\n",
              "        3.84934130e-04, 1.90846098e-04, 1.06071733e-04, 1.06272062e-04,\n",
              "        3.35784753e-05, 6.93429727e-04, 5.26734730e-05, 8.53112142e-05,\n",
              "        6.79011224e-04, 5.17256594e-05, 1.63967570e-03, 6.77666918e-04,\n",
              "        8.89591247e-05, 5.83731511e-04, 4.56673733e-05, 1.29733176e-03,\n",
              "        4.09779511e-03, 4.21848963e-04, 1.58540590e-03, 1.04778982e-03,\n",
              "        1.45243803e-05, 4.05843930e-05, 9.34483542e-04, 6.70441939e-03,\n",
              "        3.67198838e-04, 5.63179434e-04, 2.29237121e-04, 1.70918254e-04,\n",
              "        4.49530227e-04, 2.65195663e-03, 1.97543530e-04, 1.82352189e-04,\n",
              "        2.31631475e-05, 4.33315508e-05, 4.56053967e-05, 1.87542071e-04,\n",
              "        1.69761269e-03, 1.82472562e-04, 1.02818199e-03, 1.37051256e-05,\n",
              "        9.54002171e-05, 4.23770951e-04, 8.87314600e-05, 1.38195071e-04,\n",
              "        5.34283114e-04, 5.43030765e-05, 1.13440678e-03, 1.13611299e-04,\n",
              "        9.59475292e-04, 1.54509558e-03, 5.68326068e-05, 3.94509872e-04,\n",
              "        1.17875298e-03, 7.54934717e-06, 8.02215002e-03, 1.30812141e-05,\n",
              "        2.60631259e-05, 9.42266139e-04, 1.25408464e-03, 8.61747074e-04,\n",
              "        2.30092410e-04, 3.31893767e-04, 2.38943685e-05, 2.76123779e-03,\n",
              "        4.17703181e-04, 1.42276369e-03, 1.73823140e-03, 2.16253771e-04,\n",
              "        1.65772822e-03, 6.14579418e-04, 4.82093637e-05, 1.53664114e-05,\n",
              "        6.90325251e-05, 2.31446325e-06, 9.50323651e-04, 1.37711511e-04,\n",
              "        3.12327582e-04, 3.93815164e-04, 8.99934530e-05, 1.27302401e-05,\n",
              "        1.61230710e-04, 2.85291007e-05, 1.91091793e-04, 2.25731656e-05,\n",
              "        3.73455638e-04, 4.90077255e-05, 5.02610230e-04, 5.46483789e-04,\n",
              "        1.13592505e-04, 5.47457894e-04, 4.66066971e-02, 2.10929057e-03,\n",
              "        2.55818213e-05, 1.11441113e-04, 3.07941868e-04, 1.25659441e-04,\n",
              "        5.04876999e-03, 1.22060142e-02, 7.26751110e-04, 9.93656577e-04,\n",
              "        3.09775554e-04, 1.88196009e-05, 2.36519860e-04, 8.77522107e-04,\n",
              "        3.61482240e-03, 7.19578293e-06, 6.24529726e-04, 2.61594052e-03,\n",
              "        1.60091612e-02, 5.91158692e-04, 8.48252047e-03, 3.02657922e-04,\n",
              "        8.00408816e-05, 5.89929812e-04, 2.64895760e-04, 2.28131939e-05,\n",
              "        1.98143425e-05, 1.63993842e-04, 2.28643476e-04, 1.10013301e-04,\n",
              "        2.42069538e-04, 1.20095341e-02, 6.52241148e-03, 1.52068660e-05,\n",
              "        2.91116157e-05, 9.40426107e-05, 2.79130436e-05, 3.23304819e-04,\n",
              "        3.08413553e-04, 3.35785240e-04, 8.56440456e-05, 2.04758529e-04,\n",
              "        1.05310377e-04, 5.18320012e-04, 3.24857865e-05, 3.46194487e-03,\n",
              "        4.03690012e-03, 1.65874502e-04, 2.93875783e-04, 7.88335223e-04,\n",
              "        1.57370872e-04, 1.34311456e-04, 3.61769089e-05, 1.69184386e-05,\n",
              "        1.16505566e-04, 9.80958721e-05, 1.45637023e-05, 1.30934322e-05,\n",
              "        7.74615110e-05, 1.42131743e-04, 1.27274485e-04, 1.29532811e-04,\n",
              "        4.99901143e-05, 1.47291226e-03, 3.94346600e-04, 1.61149469e-03,\n",
              "        9.75939474e-05, 6.14133533e-05, 6.60333200e-04, 1.40720411e-04,\n",
              "        8.02397088e-04, 1.42401399e-03, 4.44287725e-05, 2.87979539e-03,\n",
              "        6.38266327e-04, 8.89979070e-04, 1.62886081e-05, 3.01921944e-04,\n",
              "        7.00708042e-05, 4.71262232e-04, 7.04353384e-04, 3.29378003e-04,\n",
              "        1.64176618e-05, 1.17522164e-03, 4.01219586e-05, 1.07255764e-04,\n",
              "        4.34827321e-04, 5.72637418e-06, 6.87709980e-05, 7.18007213e-05,\n",
              "        2.07642722e-03, 5.45344374e-05, 5.73232188e-04, 1.84011697e-05,\n",
              "        8.44838854e-04, 1.52031879e-03, 4.61586897e-05, 3.79296392e-03,\n",
              "        1.87524987e-04, 1.57162407e-03, 1.73899825e-04, 1.44428445e-03,\n",
              "        2.47940072e-03, 1.37378142e-04, 3.42918606e-03, 3.38237151e-04,\n",
              "        1.17734977e-04, 4.90706043e-05, 1.01084996e-04, 1.78236759e-03,\n",
              "        1.46656632e-04, 5.35922241e-04, 1.43517647e-03, 1.52231695e-03,\n",
              "        2.01842107e-04, 1.56482754e-04, 7.38855044e-04, 1.85786397e-04,\n",
              "        1.37234034e-04, 8.51998280e-04, 9.04111857e-06, 9.18090336e-06,\n",
              "        2.32259132e-04, 5.88200521e-03, 5.23410017e-05, 5.99342457e-04,\n",
              "        2.35287007e-04, 4.01672878e-04, 5.60970744e-03, 6.98205185e-05,\n",
              "        7.77240552e-04, 3.82676837e-04, 1.73640135e-03, 1.28395652e-04,\n",
              "        3.31711210e-03, 9.65456653e-04, 3.96594580e-04, 8.01783986e-04,\n",
              "        1.46224611e-02, 4.59591299e-03, 1.89708706e-04, 5.68614778e-05,\n",
              "        2.34184132e-04, 3.53372365e-04, 1.78597737e-04, 4.60177143e-05,\n",
              "        8.64801405e-05, 1.15670475e-04, 2.04495955e-04, 7.48984121e-06,\n",
              "        4.76170273e-04, 6.19586324e-04, 8.92654498e-05, 3.99666792e-03,\n",
              "        1.19169557e-03, 1.89978105e-04, 2.29058019e-03, 2.76620500e-04,\n",
              "        1.40448939e-02, 4.36904384e-06, 3.44294240e-05, 2.41373142e-04,\n",
              "        6.63958816e-03, 3.70323287e-05, 4.44300022e-05, 2.24039632e-05,\n",
              "        4.40235977e-04, 7.53039028e-04, 1.46746845e-03, 8.04114898e-05,\n",
              "        3.01585387e-04, 6.42725034e-04, 8.94910263e-05, 5.87406030e-05]],\n",
              "      dtype=float32)"
            ]
          },
          "metadata": {},
          "execution_count": 44
        }
      ]
    },
    {
      "cell_type": "code",
      "source": [
        "from keras.applications.imagenet_utils import decode_predictions"
      ],
      "metadata": {
        "id": "iWkAgaeJmSUD"
      },
      "execution_count": null,
      "outputs": []
    },
    {
      "cell_type": "code",
      "source": [
        "decode_predictions(y_pred)"
      ],
      "metadata": {
        "colab": {
          "base_uri": "https://localhost:8080/"
        },
        "id": "mu4RehcoygFO",
        "outputId": "5e4ebd79-1d09-43f3-a1fd-51c711a9cf84"
      },
      "execution_count": null,
      "outputs": [
        {
          "output_type": "execute_result",
          "data": {
            "text/plain": [
              "[[('n01797886', 'ruffed_grouse', 0.058247063),\n",
              "  ('n04328186', 'stopwatch', 0.046606697),\n",
              "  ('n03594945', 'jeep', 0.02712262),\n",
              "  ('n02802426', 'basketball', 0.02498081),\n",
              "  ('n03180011', 'desktop_computer', 0.016652664)]]"
            ]
          },
          "metadata": {},
          "execution_count": 46
        }
      ]
    },
    {
      "cell_type": "code",
      "source": [],
      "metadata": {
        "id": "xa1JUsaznkEz"
      },
      "execution_count": null,
      "outputs": []
    }
  ]
}