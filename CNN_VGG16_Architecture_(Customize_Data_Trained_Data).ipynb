{
  "nbformat": 4,
  "nbformat_minor": 0,
  "metadata": {
    "colab": {
      "provenance": [],
      "authorship_tag": "ABX9TyMtYF/IC/upk9l4Qo+F9+Co",
      "include_colab_link": true
    },
    "kernelspec": {
      "name": "python3",
      "display_name": "Python 3"
    },
    "language_info": {
      "name": "python"
    },
    "gpuClass": "standard",
    "accelerator": "GPU"
  },
  "cells": [
    {
      "cell_type": "markdown",
      "metadata": {
        "id": "view-in-github",
        "colab_type": "text"
      },
      "source": [
        "<a href=\"https://colab.research.google.com/github/Sourav-Manik/AI_Deep_Learning/blob/main/CNN_VGG16_Architecture_(Customize_Data_Trained_Data).ipynb\" target=\"_parent\"><img src=\"https://colab.research.google.com/assets/colab-badge.svg\" alt=\"Open In Colab\"/></a>"
      ]
    },
    {
      "cell_type": "code",
      "execution_count": null,
      "metadata": {
        "colab": {
          "base_uri": "https://localhost:8080/"
        },
        "id": "gYIBUd_S5r6f",
        "outputId": "65ca66cb-b894-4317-cd71-16abad61dcb9"
      },
      "outputs": [
        {
          "output_type": "stream",
          "name": "stdout",
          "text": [
            "Drive already mounted at /content/drive; to attempt to forcibly remount, call drive.mount(\"/content/drive\", force_remount=True).\n"
          ]
        }
      ],
      "source": [
        "from google.colab import drive\n",
        "drive.mount('/content/drive')"
      ]
    },
    {
      "cell_type": "code",
      "source": [
        "import keras,os\n",
        "from keras.models import Sequential\n",
        "from keras.layers import Dense, Conv2D, MaxPool2D, Flatten\n",
        "from keras.models import Model\n",
        "from keras.preprocessing.image import ImageDataGenerator\n",
        "import numpy as np\n",
        "from keras.applications.vgg16 import VGG16"
      ],
      "metadata": {
        "id": "rTP21Pwo7z9s"
      },
      "execution_count": null,
      "outputs": []
    },
    {
      "cell_type": "code",
      "source": [
        "trdata = ImageDataGenerator()\n",
        "train_data = trdata.flow_from_directory(directory='/content/drive/MyDrive/AI/CNN_train_test_img/train_data',target_size=(224,224))\n",
        "\n",
        "tsdata = ImageDataGenerator()\n",
        "test_data = tsdata.flow_from_directory(directory='/content/drive/MyDrive/AI/CNN_train_test_img/test_data',target_size=(224,224))"
      ],
      "metadata": {
        "colab": {
          "base_uri": "https://localhost:8080/"
        },
        "id": "sb8DALlf-EK9",
        "outputId": "4d1916dc-b6af-42e3-e10e-03d2d7db0d3b"
      },
      "execution_count": null,
      "outputs": [
        {
          "output_type": "stream",
          "name": "stdout",
          "text": [
            "Found 40 images belonging to 4 classes.\n",
            "Found 16 images belonging to 4 classes.\n"
          ]
        }
      ]
    },
    {
      "cell_type": "code",
      "source": [
        "train_data.class_indices"
      ],
      "metadata": {
        "colab": {
          "base_uri": "https://localhost:8080/"
        },
        "id": "T93UoGq6KV9h",
        "outputId": "f504bc11-248b-4d39-ef89-0bb3d8867b96"
      },
      "execution_count": null,
      "outputs": [
        {
          "output_type": "execute_result",
          "data": {
            "text/plain": [
              "{'Messi': 0, 'Modi': 1, 'Ritik': 2, 'Virat_Kholi': 3}"
            ]
          },
          "metadata": {},
          "execution_count": 4
        }
      ]
    },
    {
      "cell_type": "code",
      "source": [
        "test_data.image_shape"
      ],
      "metadata": {
        "colab": {
          "base_uri": "https://localhost:8080/"
        },
        "id": "gcsrnt9f_n1-",
        "outputId": "52666365-5978-475e-a971-9c08c9144d6d"
      },
      "execution_count": null,
      "outputs": [
        {
          "output_type": "execute_result",
          "data": {
            "text/plain": [
              "(224, 224, 3)"
            ]
          },
          "metadata": {},
          "execution_count": 12
        }
      ]
    },
    {
      "cell_type": "code",
      "source": [
        "#remove the dense layers\n",
        "vgg16 = VGG16(input_shape = (224,224,3),weights = 'imagenet', include_top = False)"
      ],
      "metadata": {
        "id": "zJbbwB4_RVMw"
      },
      "execution_count": null,
      "outputs": []
    },
    {
      "cell_type": "code",
      "source": [
        "#don't train existing weights\n",
        "for layer in vgg16.layers:\n",
        "  layer.trainable = False"
      ],
      "metadata": {
        "id": "Vn_0Fg_x70Hl"
      },
      "execution_count": null,
      "outputs": []
    },
    {
      "cell_type": "code",
      "source": [
        "#our layers - we can add more if we want\n",
        "x = Flatten()(vgg16.output)"
      ],
      "metadata": {
        "id": "7FbFChIG70Kl"
      },
      "execution_count": null,
      "outputs": []
    },
    {
      "cell_type": "code",
      "source": [
        "prediction = Dense(4,activation = 'softmax')(x)"
      ],
      "metadata": {
        "id": "J9NU-9xW9nFP"
      },
      "execution_count": null,
      "outputs": []
    },
    {
      "cell_type": "code",
      "source": [
        "#create a model object\n",
        "model = Model(inputs=vgg16.input,outputs= prediction)"
      ],
      "metadata": {
        "id": "h-UQUYo494Hy"
      },
      "execution_count": null,
      "outputs": []
    },
    {
      "cell_type": "code",
      "source": [
        "model.summary()"
      ],
      "metadata": {
        "colab": {
          "base_uri": "https://localhost:8080/"
        },
        "id": "DXTOU46d-DTO",
        "outputId": "8801671d-b2f5-4929-f69a-7007837cc9c0"
      },
      "execution_count": null,
      "outputs": [
        {
          "output_type": "stream",
          "name": "stdout",
          "text": [
            "Model: \"model\"\n",
            "_________________________________________________________________\n",
            " Layer (type)                Output Shape              Param #   \n",
            "=================================================================\n",
            " input_1 (InputLayer)        [(None, 224, 224, 3)]     0         \n",
            "                                                                 \n",
            " block1_conv1 (Conv2D)       (None, 224, 224, 64)      1792      \n",
            "                                                                 \n",
            " block1_conv2 (Conv2D)       (None, 224, 224, 64)      36928     \n",
            "                                                                 \n",
            " block1_pool (MaxPooling2D)  (None, 112, 112, 64)      0         \n",
            "                                                                 \n",
            " block2_conv1 (Conv2D)       (None, 112, 112, 128)     73856     \n",
            "                                                                 \n",
            " block2_conv2 (Conv2D)       (None, 112, 112, 128)     147584    \n",
            "                                                                 \n",
            " block2_pool (MaxPooling2D)  (None, 56, 56, 128)       0         \n",
            "                                                                 \n",
            " block3_conv1 (Conv2D)       (None, 56, 56, 256)       295168    \n",
            "                                                                 \n",
            " block3_conv2 (Conv2D)       (None, 56, 56, 256)       590080    \n",
            "                                                                 \n",
            " block3_conv3 (Conv2D)       (None, 56, 56, 256)       590080    \n",
            "                                                                 \n",
            " block3_pool (MaxPooling2D)  (None, 28, 28, 256)       0         \n",
            "                                                                 \n",
            " block4_conv1 (Conv2D)       (None, 28, 28, 512)       1180160   \n",
            "                                                                 \n",
            " block4_conv2 (Conv2D)       (None, 28, 28, 512)       2359808   \n",
            "                                                                 \n",
            " block4_conv3 (Conv2D)       (None, 28, 28, 512)       2359808   \n",
            "                                                                 \n",
            " block4_pool (MaxPooling2D)  (None, 14, 14, 512)       0         \n",
            "                                                                 \n",
            " block5_conv1 (Conv2D)       (None, 14, 14, 512)       2359808   \n",
            "                                                                 \n",
            " block5_conv2 (Conv2D)       (None, 14, 14, 512)       2359808   \n",
            "                                                                 \n",
            " block5_conv3 (Conv2D)       (None, 14, 14, 512)       2359808   \n",
            "                                                                 \n",
            " block5_pool (MaxPooling2D)  (None, 7, 7, 512)         0         \n",
            "                                                                 \n",
            " flatten (Flatten)           (None, 25088)             0         \n",
            "                                                                 \n",
            " dense (Dense)               (None, 4)                 100356    \n",
            "                                                                 \n",
            "=================================================================\n",
            "Total params: 14,815,044\n",
            "Trainable params: 100,356\n",
            "Non-trainable params: 14,714,688\n",
            "_________________________________________________________________\n"
          ]
        }
      ]
    },
    {
      "cell_type": "code",
      "source": [
        "model.compile(optimizer='adam',loss= 'categorical_crossentropy',metrics='accuracy')"
      ],
      "metadata": {
        "id": "uLb5Njo8-EIN"
      },
      "execution_count": null,
      "outputs": []
    },
    {
      "cell_type": "code",
      "source": [
        "model.fit(train_data,epochs = 15,validation_data = train_data,validation_steps=5, verbose=1)"
      ],
      "metadata": {
        "colab": {
          "base_uri": "https://localhost:8080/"
        },
        "id": "04veWiDM_n5H",
        "outputId": "466392ae-fa97-4e03-eda6-8debbbe6ef0f"
      },
      "execution_count": null,
      "outputs": [
        {
          "output_type": "stream",
          "name": "stdout",
          "text": [
            "Epoch 1/15\n",
            "2/2 [==============================] - ETA: 0s - loss: 24.9085 - accuracy: 0.3500"
          ]
        },
        {
          "output_type": "stream",
          "name": "stderr",
          "text": [
            "WARNING:tensorflow:Your input ran out of data; interrupting training. Make sure that your dataset or generator can generate at least `steps_per_epoch * epochs` batches (in this case, 5 batches). You may need to use the repeat() function when building your dataset.\n"
          ]
        },
        {
          "output_type": "stream",
          "name": "stdout",
          "text": [
            "\b\b\b\b\b\b\b\b\b\b\b\b\b\b\b\b\b\b\b\b\b\b\b\b\b\b\b\b\b\b\b\b\b\b\b\b\b\b\b\b\b\b\b\b\b\b\b\b\b\b\b\b\b\b\b\b\b\b\b\b\b\b\b\b\b\b\b\b\b\b\b\b\b\b\b\b\b\b\b\b\b\r2/2 [==============================] - 8s 4s/step - loss: 24.9085 - accuracy: 0.3500 - val_loss: 10.0834 - val_accuracy: 0.5500\n",
            "Epoch 2/15\n",
            "2/2 [==============================] - 0s 74ms/step - loss: 9.6001 - accuracy: 0.6000\n",
            "Epoch 3/15\n",
            "2/2 [==============================] - 0s 264ms/step - loss: 0.4645 - accuracy: 0.8750\n",
            "Epoch 4/15\n",
            "2/2 [==============================] - 0s 73ms/step - loss: 1.2815e-07 - accuracy: 1.0000\n",
            "Epoch 5/15\n",
            "2/2 [==============================] - 0s 284ms/step - loss: 5.9605e-09 - accuracy: 1.0000\n",
            "Epoch 6/15\n",
            "2/2 [==============================] - 0s 74ms/step - loss: 2.9802e-09 - accuracy: 1.0000\n",
            "Epoch 7/15\n",
            "2/2 [==============================] - 0s 75ms/step - loss: 0.0000e+00 - accuracy: 1.0000\n",
            "Epoch 8/15\n",
            "2/2 [==============================] - 0s 73ms/step - loss: 0.0000e+00 - accuracy: 1.0000\n",
            "Epoch 9/15\n",
            "2/2 [==============================] - 0s 290ms/step - loss: 0.0000e+00 - accuracy: 1.0000\n",
            "Epoch 10/15\n",
            "2/2 [==============================] - 0s 290ms/step - loss: 0.0000e+00 - accuracy: 1.0000\n",
            "Epoch 11/15\n",
            "2/2 [==============================] - 0s 293ms/step - loss: 0.0000e+00 - accuracy: 1.0000\n",
            "Epoch 12/15\n",
            "2/2 [==============================] - 0s 74ms/step - loss: 2.9802e-09 - accuracy: 1.0000\n",
            "Epoch 13/15\n",
            "2/2 [==============================] - 0s 288ms/step - loss: 5.9605e-09 - accuracy: 1.0000\n",
            "Epoch 14/15\n",
            "2/2 [==============================] - 0s 300ms/step - loss: 1.4901e-08 - accuracy: 1.0000\n",
            "Epoch 15/15\n",
            "2/2 [==============================] - 0s 260ms/step - loss: 1.4901e-08 - accuracy: 1.0000\n"
          ]
        },
        {
          "output_type": "execute_result",
          "data": {
            "text/plain": [
              "<keras.callbacks.History at 0x7f924a30bd90>"
            ]
          },
          "metadata": {},
          "execution_count": 13
        }
      ]
    },
    {
      "cell_type": "code",
      "source": [
        "model.save('multiclassmodel.h5')"
      ],
      "metadata": {
        "id": "eAFs5svC_n80"
      },
      "execution_count": null,
      "outputs": []
    },
    {
      "cell_type": "code",
      "source": [
        "from keras.models import load_model\n",
        "import numpy as np\n",
        "from tensorflow.keras.preprocessing import image"
      ],
      "metadata": {
        "id": "ZHBZSTlsANbb"
      },
      "execution_count": null,
      "outputs": []
    },
    {
      "cell_type": "code",
      "source": [
        "test_image  = image.load_img('/content/drive/MyDrive/AI/CNN_train_test_img/th.jpg',target_size = (224,224))\n",
        "test_image = image.img_to_array(test_image)\n",
        "test_image = np.expand_dims(test_image, axis = 0)"
      ],
      "metadata": {
        "id": "_3DpmUJwANeb"
      },
      "execution_count": null,
      "outputs": []
    },
    {
      "cell_type": "code",
      "source": [
        "#Load Model\n",
        "model = load_model('multiclassmodel.h5')\n",
        "result = model.predict(test_image)\n",
        "print(result)"
      ],
      "metadata": {
        "colab": {
          "base_uri": "https://localhost:8080/"
        },
        "id": "B3Rq4jVUANhc",
        "outputId": "c50df51b-1427-40fd-bd02-f79f33beb85e"
      },
      "execution_count": null,
      "outputs": [
        {
          "output_type": "stream",
          "name": "stdout",
          "text": [
            "1/1 [==============================] - 1s 805ms/step\n",
            "[[1.000000e+00 0.000000e+00 2.909989e-38 7.424822e-24]]\n"
          ]
        }
      ]
    },
    {
      "cell_type": "code",
      "source": [
        "if result[0][0] ==1:\n",
        "  prediction = 'Messi'\n",
        "  print(prediction)\n",
        "\n",
        "elif result[0][1]==1:\n",
        "  prediction = 'Modi'\n",
        "  print(prediction)\n",
        "\n",
        "elif result[0][2]==1:\n",
        "  prediction = 'Ritik'\n",
        "  print(prediction)  \n",
        "\n",
        "else:\n",
        "  print('Virat')"
      ],
      "metadata": {
        "colab": {
          "base_uri": "https://localhost:8080/"
        },
        "id": "OYfchl5mANke",
        "outputId": "cac2f13b-9a39-41a2-969d-fd1b3de8e7e7"
      },
      "execution_count": null,
      "outputs": [
        {
          "output_type": "stream",
          "name": "stdout",
          "text": [
            "Messi\n"
          ]
        }
      ]
    },
    {
      "cell_type": "code",
      "source": [
        "#End"
      ],
      "metadata": {
        "id": "TbKAXx7nANn0"
      },
      "execution_count": null,
      "outputs": []
    }
  ]
}