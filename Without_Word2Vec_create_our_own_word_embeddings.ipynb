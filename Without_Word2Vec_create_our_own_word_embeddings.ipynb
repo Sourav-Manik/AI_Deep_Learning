{
  "nbformat": 4,
  "nbformat_minor": 0,
  "metadata": {
    "colab": {
      "provenance": [],
      "authorship_tag": "ABX9TyNjjrBLgfGSjIbekB79+8It",
      "include_colab_link": true
    },
    "kernelspec": {
      "name": "python3",
      "display_name": "Python 3"
    },
    "language_info": {
      "name": "python"
    },
    "accelerator": "GPU",
    "gpuClass": "standard"
  },
  "cells": [
    {
      "cell_type": "markdown",
      "metadata": {
        "id": "view-in-github",
        "colab_type": "text"
      },
      "source": [
        "<a href=\"https://colab.research.google.com/github/Sourav-Manik/AI_Deep_Learning/blob/main/Without_Word2Vec_create_our_own_word_embeddings.ipynb\" target=\"_parent\"><img src=\"https://colab.research.google.com/assets/colab-badge.svg\" alt=\"Open In Colab\"/></a>"
      ]
    },
    {
      "cell_type": "code",
      "execution_count": null,
      "metadata": {
        "id": "lBTH5a_2i0zj"
      },
      "outputs": [],
      "source": [
        "#With keras embedding layer we can create our own word embeddings"
      ]
    },
    {
      "cell_type": "code",
      "source": [
        "import keras"
      ],
      "metadata": {
        "id": "7np9PKF4k_YJ"
      },
      "execution_count": null,
      "outputs": []
    },
    {
      "cell_type": "code",
      "source": [
        "from numpy import array\n",
        "from keras.preprocessing.text import one_hot\n",
        "from keras.utils import pad_sequences\n",
        "from keras.models import Sequential\n",
        "from keras.layers import Dense, Flatten,Embedding"
      ],
      "metadata": {
        "id": "SEy575o1jQoj"
      },
      "execution_count": null,
      "outputs": []
    },
    {
      "cell_type": "code",
      "source": [
        "#Define your own documents\n",
        "sentences = ['hello how are you',\n",
        "             'how are you',\n",
        "             'whats going on',\n",
        "             'I am doing great',\n",
        "             'You are awesome',\n",
        "             'I really love you so much']"
      ],
      "metadata": {
        "id": "kniITpv2jQrf"
      },
      "execution_count": null,
      "outputs": []
    },
    {
      "cell_type": "code",
      "source": [
        "sent_labels = array([1,1,1,0,0,0])"
      ],
      "metadata": {
        "id": "cqXsbuimjQux"
      },
      "execution_count": null,
      "outputs": []
    },
    {
      "cell_type": "code",
      "source": [
        "vocab_size = 50 #dimension"
      ],
      "metadata": {
        "id": "5laAgpcwjQxe"
      },
      "execution_count": null,
      "outputs": []
    },
    {
      "cell_type": "code",
      "source": [
        "encoded_sent = [one_hot(i,vocab_size) for i in sentences]\n",
        "encoded_sent"
      ],
      "metadata": {
        "colab": {
          "base_uri": "https://localhost:8080/"
        },
        "id": "e8T2vFEKmaiG",
        "outputId": "110926fd-2da7-4adb-8720-14456f8ee027"
      },
      "execution_count": null,
      "outputs": [
        {
          "output_type": "execute_result",
          "data": {
            "text/plain": [
              "[[45, 11, 31, 41],\n",
              " [11, 31, 41],\n",
              " [46, 36, 5],\n",
              " [41, 44, 21, 10],\n",
              " [41, 31, 43],\n",
              " [41, 1, 7, 41, 29, 38]]"
            ]
          },
          "metadata": {},
          "execution_count": 14
        }
      ]
    },
    {
      "cell_type": "code",
      "source": [
        "#Now I want my nn to train, for that the size of the vector should be same.\n",
        "padded_sent = pad_sequences(encoded_sent,maxlen = 6, padding = 'pre')\n",
        "print(padded_sent)"
      ],
      "metadata": {
        "colab": {
          "base_uri": "https://localhost:8080/"
        },
        "id": "5pWOxdClmalP",
        "outputId": "bc153673-9391-4870-c045-70b73189046e"
      },
      "execution_count": null,
      "outputs": [
        {
          "output_type": "stream",
          "name": "stdout",
          "text": [
            "[[ 0  0 45 11 31 41]\n",
            " [ 0  0  0 11 31 41]\n",
            " [ 0  0  0 46 36  5]\n",
            " [ 0  0 41 44 21 10]\n",
            " [ 0  0  0 41 31 43]\n",
            " [41  1  7 41 29 38]]\n"
          ]
        }
      ]
    },
    {
      "cell_type": "code",
      "source": [
        "mymodel = Sequential()\n",
        "mymodel.add(Embedding(vocab_size,output_dim = 8,input_length = 6)) #6 sentences\n",
        "mymodel.add(Flatten())\n",
        "mymodel.add(Dense(1,activation = 'sigmoid')) #because target is categorical in nature"
      ],
      "metadata": {
        "id": "s8WJzKdMmaou"
      },
      "execution_count": null,
      "outputs": []
    },
    {
      "cell_type": "code",
      "source": [
        "mymodel.compile(optimizer = 'adam',loss = 'binary_crossentropy',metrics = ['accuracy'])"
      ],
      "metadata": {
        "id": "HQMmGKX0o-lW"
      },
      "execution_count": null,
      "outputs": []
    },
    {
      "cell_type": "code",
      "source": [
        "mymodel.fit(padded_sent,sent_labels,epochs = 30)"
      ],
      "metadata": {
        "id": "sd3X2h5uo-oW"
      },
      "execution_count": null,
      "outputs": []
    },
    {
      "cell_type": "code",
      "source": [
        "#Evalute the model\n",
        "mymodel.evaluate(padded_sent,sent_labels,verbose = 1)"
      ],
      "metadata": {
        "colab": {
          "base_uri": "https://localhost:8080/"
        },
        "id": "PQwQmrN2o-rU",
        "outputId": "bab4daa7-5c48-42c5-e25b-9bcf9c95c017"
      },
      "execution_count": null,
      "outputs": [
        {
          "output_type": "stream",
          "name": "stdout",
          "text": [
            "1/1 [==============================] - 0s 115ms/step - loss: 0.6238 - accuracy: 0.8333\n"
          ]
        },
        {
          "output_type": "execute_result",
          "data": {
            "text/plain": [
              "[0.6238057017326355, 0.8333333134651184]"
            ]
          },
          "metadata": {},
          "execution_count": 24
        }
      ]
    },
    {
      "cell_type": "code",
      "source": [
        "model_loss,model_accuracy = mymodel.evaluate(padded_sent,sent_labels,verbose = 1)\n",
        "print('Accuracy : %f' %(model_accuracy*100))"
      ],
      "metadata": {
        "colab": {
          "base_uri": "https://localhost:8080/"
        },
        "id": "ehdnemako-t-",
        "outputId": "0935696c-d5a9-4845-bef9-5d7fc18ab119"
      },
      "execution_count": null,
      "outputs": [
        {
          "output_type": "stream",
          "name": "stdout",
          "text": [
            "1/1 [==============================] - 0s 20ms/step - loss: 0.6238 - accuracy: 0.8333\n",
            "Accuracy : 83.333331\n"
          ]
        }
      ]
    },
    {
      "cell_type": "markdown",
      "source": [
        "The prediction Part"
      ],
      "metadata": {
        "id": "6vcfGayPqSyB"
      }
    },
    {
      "cell_type": "code",
      "source": [
        "sent_for_pred = ['hello how are you',\n",
        "                 'I am doing great']"
      ],
      "metadata": {
        "id": "jv__9ta0o-w-"
      },
      "execution_count": null,
      "outputs": []
    },
    {
      "cell_type": "code",
      "source": [
        "vocab_size = 50 \n",
        "encoded = [one_hot(i,vocab_size)for i in sent_for_pred]\n",
        "encoded"
      ],
      "metadata": {
        "colab": {
          "base_uri": "https://localhost:8080/"
        },
        "id": "PrtvbAETqVCZ",
        "outputId": "082dd110-f58e-45e9-cddf-b19294a045b3"
      },
      "execution_count": null,
      "outputs": [
        {
          "output_type": "execute_result",
          "data": {
            "text/plain": [
              "[[45, 11, 31, 41], [41, 44, 21, 10]]"
            ]
          },
          "metadata": {},
          "execution_count": 28
        }
      ]
    },
    {
      "cell_type": "code",
      "source": [
        "#Now I want my nn to train, for that the size of the vector should be same.\n",
        "padded_sent = pad_sequences(encoded,maxlen = 6, padding = 'pre')\n",
        "print(padded_sent)"
      ],
      "metadata": {
        "colab": {
          "base_uri": "https://localhost:8080/"
        },
        "id": "pEv3A1vVqVFg",
        "outputId": "6a409db2-a6be-43ab-92e5-043ce96eb195"
      },
      "execution_count": null,
      "outputs": [
        {
          "output_type": "stream",
          "name": "stdout",
          "text": [
            "[[ 0  0 45 11 31 41]\n",
            " [ 0  0 41 44 21 10]]\n"
          ]
        }
      ]
    },
    {
      "cell_type": "code",
      "source": [
        "predict_x = mymodel.predict(padded_sent)\n",
        "predict_x"
      ],
      "metadata": {
        "colab": {
          "base_uri": "https://localhost:8080/"
        },
        "id": "Gaf6-EK2qVIM",
        "outputId": "7fdefc03-636e-40cd-ad9e-cb3033fa303c"
      },
      "execution_count": null,
      "outputs": [
        {
          "output_type": "stream",
          "name": "stdout",
          "text": [
            "1/1 [==============================] - 0s 58ms/step\n"
          ]
        },
        {
          "output_type": "execute_result",
          "data": {
            "text/plain": [
              "array([[0.5361289],\n",
              "       [0.4518984]], dtype=float32)"
            ]
          },
          "metadata": {},
          "execution_count": 31
        }
      ]
    },
    {
      "cell_type": "code",
      "source": [
        "#For sentence 1 the accuracy is more than 0.5 thus it will belong to class 1 and for sentence 2 it's vice versa.\n"
      ],
      "metadata": {
        "id": "7DTTk4wbqVMt"
      },
      "execution_count": null,
      "outputs": []
    },
    {
      "cell_type": "code",
      "source": [
        "#Conclusion - As the vocal is so small, the model performance won't be that great."
      ],
      "metadata": {
        "id": "3KEMVBR3rqRb"
      },
      "execution_count": null,
      "outputs": []
    }
  ]
}