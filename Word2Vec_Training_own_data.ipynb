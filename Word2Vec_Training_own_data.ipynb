{
  "nbformat": 4,
  "nbformat_minor": 0,
  "metadata": {
    "colab": {
      "provenance": [],
      "authorship_tag": "ABX9TyMFEjeGQFrPqP+JNL+IrM66",
      "include_colab_link": true
    },
    "kernelspec": {
      "name": "python3",
      "display_name": "Python 3"
    },
    "language_info": {
      "name": "python"
    }
  },
  "cells": [
    {
      "cell_type": "markdown",
      "metadata": {
        "id": "view-in-github",
        "colab_type": "text"
      },
      "source": [
        "<a href=\"https://colab.research.google.com/github/Sourav-Manik/AI_Deep_Learning/blob/main/Word2Vec_Training_own_data.ipynb\" target=\"_parent\"><img src=\"https://colab.research.google.com/assets/colab-badge.svg\" alt=\"Open In Colab\"/></a>"
      ]
    },
    {
      "cell_type": "code",
      "execution_count": null,
      "metadata": {
        "colab": {
          "base_uri": "https://localhost:8080/"
        },
        "id": "2WmVzSK3zXmy",
        "outputId": "329cfdb4-2a99-4b80-c028-50350f7419a7"
      },
      "outputs": [
        {
          "output_type": "stream",
          "name": "stdout",
          "text": [
            "Looking in indexes: https://pypi.org/simple, https://us-python.pkg.dev/colab-wheels/public/simple/\n",
            "Requirement already satisfied: gensim in /usr/local/lib/python3.8/dist-packages (3.6.0)\n",
            "Requirement already satisfied: numpy>=1.11.3 in /usr/local/lib/python3.8/dist-packages (from gensim) (1.21.6)\n",
            "Requirement already satisfied: scipy>=0.18.1 in /usr/local/lib/python3.8/dist-packages (from gensim) (1.7.3)\n",
            "Requirement already satisfied: six>=1.5.0 in /usr/local/lib/python3.8/dist-packages (from gensim) (1.15.0)\n",
            "Requirement already satisfied: smart-open>=1.2.1 in /usr/local/lib/python3.8/dist-packages (from gensim) (5.2.1)\n"
          ]
        }
      ],
      "source": [
        "#Importing necessary libraries\n",
        "!pip install gensim\n",
        "from gensim.models import Word2Vec"
      ]
    },
    {
      "cell_type": "code",
      "source": [
        "#define training data for training\n",
        "tokenized_sentences = [['if','you','can','dream','it','you','can','do','it'],\n",
        "             ['Do','good','for','others','it','will','come','back','in','unexpected','ways'],\n",
        "             ['being','happy','never','goes','out','of','style'],\n",
        "             ['Hello','Welcome','back']]             "
      ],
      "metadata": {
        "id": "5BtFfXrJz5UW"
      },
      "execution_count": null,
      "outputs": []
    },
    {
      "cell_type": "code",
      "source": [
        "#train word2vec model\n",
        "model = Word2Vec(sentences = tokenized_sentences, min_count = 1)\n",
        "#take all the words which has been occured 1 time. If you give it 2, in this whole vocab, the words which has been occured 2 times only be considered."
      ],
      "metadata": {
        "colab": {
          "base_uri": "https://localhost:8080/"
        },
        "id": "pk526uex0oGk",
        "outputId": "d80c5bf6-d599-4a2a-eb38-ce688d4459cf"
      },
      "execution_count": null,
      "outputs": [
        {
          "output_type": "stream",
          "name": "stderr",
          "text": [
            "WARNING:gensim.models.base_any2vec:under 10 jobs per worker: consider setting a smaller `batch_words' for smoother alpha decay\n"
          ]
        }
      ]
    },
    {
      "cell_type": "code",
      "source": [
        "print(model) #size = 100 features/characteristics for one word"
      ],
      "metadata": {
        "colab": {
          "base_uri": "https://localhost:8080/"
        },
        "id": "vBtLIqQY_t_5",
        "outputId": "091a5401-912b-42ec-9482-18a7b4dee443"
      },
      "execution_count": null,
      "outputs": [
        {
          "output_type": "stream",
          "name": "stdout",
          "text": [
            "Word2Vec(vocab=25, size=100, alpha=0.025)\n"
          ]
        }
      ]
    },
    {
      "cell_type": "code",
      "source": [
        "words = list(model.wv.vocab)\n",
        "words"
      ],
      "metadata": {
        "colab": {
          "base_uri": "https://localhost:8080/"
        },
        "id": "00w91Tlo_uCw",
        "outputId": "7707c987-7834-425d-e03a-4780e2dbb821"
      },
      "execution_count": null,
      "outputs": [
        {
          "output_type": "execute_result",
          "data": {
            "text/plain": [
              "['if',\n",
              " 'you',\n",
              " 'can',\n",
              " 'dream',\n",
              " 'it',\n",
              " 'do',\n",
              " 'Do',\n",
              " 'good',\n",
              " 'for',\n",
              " 'others',\n",
              " 'will',\n",
              " 'come',\n",
              " 'back',\n",
              " 'in',\n",
              " 'unexpected',\n",
              " 'ways',\n",
              " 'being',\n",
              " 'happy',\n",
              " 'never',\n",
              " 'goes',\n",
              " 'out',\n",
              " 'of',\n",
              " 'style',\n",
              " 'Hello',\n",
              " 'Welcome']"
            ]
          },
          "metadata": {},
          "execution_count": 5
        }
      ]
    },
    {
      "cell_type": "code",
      "source": [
        "#To see the vector of 'welcome'\n",
        "print(model['Welcome'])  #rated on different features\n",
        "#Encoded value for program"
      ],
      "metadata": {
        "colab": {
          "base_uri": "https://localhost:8080/"
        },
        "id": "wKAhdBu8_uHZ",
        "outputId": "7573b334-7fd4-4614-be9c-7ef8c8386f9c"
      },
      "execution_count": null,
      "outputs": [
        {
          "output_type": "stream",
          "name": "stdout",
          "text": [
            "[ 3.7229019e-03  2.9710443e-03 -8.7037560e-04  2.1037643e-03\n",
            "  2.9950934e-03  1.0200134e-03  9.2352252e-04  2.4154957e-03\n",
            "  2.9441926e-03  2.9813728e-04 -1.8884802e-04 -1.9886272e-04\n",
            "  2.3938683e-03 -3.2240695e-03 -2.9353437e-03  9.2232320e-04\n",
            "  4.2924689e-04  4.8084772e-04  3.1567756e-03  4.6908339e-03\n",
            "  7.1145454e-04 -2.2435940e-03 -3.2472715e-04 -3.0778861e-03\n",
            " -2.8822965e-03 -3.7447951e-04  9.0160960e-04 -9.1592770e-04\n",
            " -5.7280716e-04  9.2906586e-05 -3.1290022e-03  9.6233300e-04\n",
            "  2.7210785e-03 -3.2274607e-03 -6.7620818e-04  4.0385206e-03\n",
            " -1.4149309e-03  4.8076902e-03  3.7847122e-03  1.8402131e-03\n",
            "  4.9389745e-03  9.2234899e-04 -3.4279036e-04 -3.8844738e-03\n",
            "  1.1171042e-03  3.5222669e-03 -1.8785534e-03 -7.2719163e-04\n",
            " -1.2249103e-03 -4.0390338e-03  4.7976119e-03  4.3974523e-03\n",
            " -4.7832183e-03  3.5825525e-03 -3.5297913e-03 -3.0531250e-03\n",
            "  4.6537230e-03 -3.8637533e-03 -1.2314329e-03 -3.8613027e-03\n",
            "  4.6683321e-04 -5.8912375e-04  1.0906677e-03  2.2867336e-03\n",
            "  1.9442494e-04  4.8741079e-03 -3.4913321e-03 -2.4154340e-03\n",
            " -2.1429574e-03 -1.8566260e-03 -6.4538082e-04 -4.1813245e-03\n",
            "  3.8533714e-03  1.2921111e-03  3.7693386e-03  2.3471410e-03\n",
            " -4.6933391e-03 -2.8824131e-03  5.1597145e-04  4.9316916e-03\n",
            "  2.9029755e-03 -1.6563875e-03  1.6982667e-03 -2.3344650e-03\n",
            " -3.5824503e-03 -2.7197993e-03  4.3956223e-03  4.8767193e-03\n",
            "  3.7282989e-03  4.2038537e-03 -3.9546457e-03  1.6912993e-03\n",
            "  3.0206835e-03  1.2900893e-03  7.7081867e-04  3.3416634e-04\n",
            " -4.4977630e-04 -4.5589372e-03  3.2686777e-03  7.4571848e-04]\n"
          ]
        },
        {
          "output_type": "stream",
          "name": "stderr",
          "text": [
            "<ipython-input-6-cb2dbbe9949f>:2: DeprecationWarning: Call to deprecated `__getitem__` (Method will be removed in 4.0.0, use self.wv.__getitem__() instead).\n",
            "  print(model['Welcome'])\n"
          ]
        }
      ]
    },
    {
      "cell_type": "code",
      "source": [
        "model.most_similar('if') #the vector of 'if' is compared with all other words"
      ],
      "metadata": {
        "colab": {
          "base_uri": "https://localhost:8080/"
        },
        "id": "BJQoevf-BCMg",
        "outputId": "4d144bba-c150-4dd5-9c47-67314a4d74f1"
      },
      "execution_count": null,
      "outputs": [
        {
          "output_type": "stream",
          "name": "stderr",
          "text": [
            "<ipython-input-7-629a0eebf8a6>:1: DeprecationWarning: Call to deprecated `most_similar` (Method will be removed in 4.0.0, use self.wv.most_similar() instead).\n",
            "  model.most_similar('if')\n"
          ]
        },
        {
          "output_type": "execute_result",
          "data": {
            "text/plain": [
              "[('Welcome', 0.10579083859920502),\n",
              " ('being', 0.09994879364967346),\n",
              " ('happy', 0.07382941991090775),\n",
              " ('in', 0.0723821148276329),\n",
              " ('of', 0.06091470271348953),\n",
              " ('it', 0.049243953078985214),\n",
              " ('back', 0.036439936608076096),\n",
              " ('ways', 0.030866414308547974),\n",
              " ('never', 0.014399228617548943),\n",
              " ('good', 0.01004510372877121)]"
            ]
          },
          "metadata": {},
          "execution_count": 7
        }
      ]
    },
    {
      "cell_type": "code",
      "source": [
        "#Conclusion - here the big limitation is that we have to train our model by our own from scratch. Model is not able to identify any new word. That is the disadvantage when we train our own network.  "
      ],
      "metadata": {
        "id": "k6cAK4-tCkh5"
      },
      "execution_count": null,
      "outputs": []
    }
  ]
}