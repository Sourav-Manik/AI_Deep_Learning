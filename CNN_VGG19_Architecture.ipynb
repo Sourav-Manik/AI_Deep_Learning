{
  "nbformat": 4,
  "nbformat_minor": 0,
  "metadata": {
    "colab": {
      "provenance": [],
      "toc_visible": true,
      "authorship_tag": "ABX9TyNIeXPA1fqWnuetlouKKhl2",
      "include_colab_link": true
    },
    "kernelspec": {
      "name": "python3",
      "display_name": "Python 3"
    },
    "language_info": {
      "name": "python"
    }
  },
  "cells": [
    {
      "cell_type": "markdown",
      "metadata": {
        "id": "view-in-github",
        "colab_type": "text"
      },
      "source": [
        "<a href=\"https://colab.research.google.com/github/Sourav-Manik/AI_Deep_Learning/blob/main/CNN_VGG19_Architecture.ipynb\" target=\"_parent\"><img src=\"https://colab.research.google.com/assets/colab-badge.svg\" alt=\"Open In Colab\"/></a>"
      ]
    },
    {
      "cell_type": "code",
      "execution_count": null,
      "metadata": {
        "colab": {
          "base_uri": "https://localhost:8080/"
        },
        "id": "gYIBUd_S5r6f",
        "outputId": "257c27e9-5b72-4382-b3e6-d58fc53dac50"
      },
      "outputs": [
        {
          "output_type": "stream",
          "name": "stdout",
          "text": [
            "Mounted at /content/drive\n"
          ]
        }
      ],
      "source": [
        "from google.colab import drive\n",
        "drive.mount('/content/drive')"
      ]
    },
    {
      "cell_type": "code",
      "source": [
        "import keras,os\n",
        "from keras.models import Sequential\n",
        "from keras.layers import Dense, Conv2D, MaxPool2D, Flatten\n",
        "from keras.models import Model\n",
        "from keras.preprocessing.image import ImageDataGenerator\n",
        "import numpy as np\n",
        "from keras.applications.vgg19 import VGG19"
      ],
      "metadata": {
        "id": "rTP21Pwo7z9s"
      },
      "execution_count": null,
      "outputs": []
    },
    {
      "cell_type": "code",
      "source": [
        "trdata = ImageDataGenerator()\n",
        "train_data = trdata.flow_from_directory(directory='/content/drive/MyDrive/AI/CNN_train_test_img/train_data',target_size=(224,224))\n",
        "\n",
        "tsdata = ImageDataGenerator()\n",
        "test_data = tsdata.flow_from_directory(directory='/content/drive/MyDrive/AI/CNN_train_test_img/test_data',target_size=(224,224))"
      ],
      "metadata": {
        "colab": {
          "base_uri": "https://localhost:8080/"
        },
        "id": "sb8DALlf-EK9",
        "outputId": "e2e40767-6f49-4719-dd4e-8284e9e108b7"
      },
      "execution_count": null,
      "outputs": [
        {
          "output_type": "stream",
          "name": "stdout",
          "text": [
            "Found 40 images belonging to 4 classes.\n",
            "Found 16 images belonging to 4 classes.\n"
          ]
        }
      ]
    },
    {
      "cell_type": "code",
      "source": [
        "train_data.class_indices"
      ],
      "metadata": {
        "colab": {
          "base_uri": "https://localhost:8080/"
        },
        "id": "T93UoGq6KV9h",
        "outputId": "ff29ac41-9244-4690-b37d-b0cb0dacef61"
      },
      "execution_count": null,
      "outputs": [
        {
          "output_type": "execute_result",
          "data": {
            "text/plain": [
              "{'Messi': 0, 'Modi': 1, 'Ritik': 2, 'Virat_Kholi': 3}"
            ]
          },
          "metadata": {},
          "execution_count": 4
        }
      ]
    },
    {
      "cell_type": "code",
      "source": [
        "test_data.image_shape"
      ],
      "metadata": {
        "colab": {
          "base_uri": "https://localhost:8080/"
        },
        "id": "gcsrnt9f_n1-",
        "outputId": "87f170cb-09b2-4923-cd31-163bf7dfeeec"
      },
      "execution_count": null,
      "outputs": [
        {
          "output_type": "execute_result",
          "data": {
            "text/plain": [
              "(224, 224, 3)"
            ]
          },
          "metadata": {},
          "execution_count": 5
        }
      ]
    },
    {
      "cell_type": "code",
      "source": [
        "#remove the dense layers\n",
        "vgg19 = VGG19(input_shape = (224,224,3),weights = 'imagenet', include_top = False)"
      ],
      "metadata": {
        "id": "zJbbwB4_RVMw",
        "colab": {
          "base_uri": "https://localhost:8080/"
        },
        "outputId": "54cbcae5-3ba2-4bc0-db31-bbf99609cbc6"
      },
      "execution_count": null,
      "outputs": [
        {
          "output_type": "stream",
          "name": "stdout",
          "text": [
            "Downloading data from https://storage.googleapis.com/tensorflow/keras-applications/vgg19/vgg19_weights_tf_dim_ordering_tf_kernels_notop.h5\n",
            "80134624/80134624 [==============================] - 0s 0us/step\n"
          ]
        }
      ]
    },
    {
      "cell_type": "code",
      "source": [
        "#don't train existing weights\n",
        "for layer in vgg19.layers:\n",
        "  layer.trainable = False"
      ],
      "metadata": {
        "id": "Vn_0Fg_x70Hl"
      },
      "execution_count": null,
      "outputs": []
    },
    {
      "cell_type": "code",
      "source": [
        "#our layers - we can add more if we want\n",
        "x = Flatten()(vgg19.output)"
      ],
      "metadata": {
        "id": "7FbFChIG70Kl"
      },
      "execution_count": null,
      "outputs": []
    },
    {
      "cell_type": "code",
      "source": [
        "prediction = Dense(4,activation = 'softmax')(x)"
      ],
      "metadata": {
        "id": "J9NU-9xW9nFP"
      },
      "execution_count": null,
      "outputs": []
    },
    {
      "cell_type": "code",
      "source": [
        "#create a model object\n",
        "model = Model(inputs=vgg19.input,outputs= prediction)"
      ],
      "metadata": {
        "id": "h-UQUYo494Hy"
      },
      "execution_count": null,
      "outputs": []
    },
    {
      "cell_type": "code",
      "source": [
        "model.summary()"
      ],
      "metadata": {
        "colab": {
          "base_uri": "https://localhost:8080/"
        },
        "id": "DXTOU46d-DTO",
        "outputId": "29b6cbbd-f45f-4c89-fb94-106ed7bb81ff"
      },
      "execution_count": null,
      "outputs": [
        {
          "output_type": "stream",
          "name": "stdout",
          "text": [
            "Model: \"model\"\n",
            "_________________________________________________________________\n",
            " Layer (type)                Output Shape              Param #   \n",
            "=================================================================\n",
            " input_1 (InputLayer)        [(None, 224, 224, 3)]     0         \n",
            "                                                                 \n",
            " block1_conv1 (Conv2D)       (None, 224, 224, 64)      1792      \n",
            "                                                                 \n",
            " block1_conv2 (Conv2D)       (None, 224, 224, 64)      36928     \n",
            "                                                                 \n",
            " block1_pool (MaxPooling2D)  (None, 112, 112, 64)      0         \n",
            "                                                                 \n",
            " block2_conv1 (Conv2D)       (None, 112, 112, 128)     73856     \n",
            "                                                                 \n",
            " block2_conv2 (Conv2D)       (None, 112, 112, 128)     147584    \n",
            "                                                                 \n",
            " block2_pool (MaxPooling2D)  (None, 56, 56, 128)       0         \n",
            "                                                                 \n",
            " block3_conv1 (Conv2D)       (None, 56, 56, 256)       295168    \n",
            "                                                                 \n",
            " block3_conv2 (Conv2D)       (None, 56, 56, 256)       590080    \n",
            "                                                                 \n",
            " block3_conv3 (Conv2D)       (None, 56, 56, 256)       590080    \n",
            "                                                                 \n",
            " block3_conv4 (Conv2D)       (None, 56, 56, 256)       590080    \n",
            "                                                                 \n",
            " block3_pool (MaxPooling2D)  (None, 28, 28, 256)       0         \n",
            "                                                                 \n",
            " block4_conv1 (Conv2D)       (None, 28, 28, 512)       1180160   \n",
            "                                                                 \n",
            " block4_conv2 (Conv2D)       (None, 28, 28, 512)       2359808   \n",
            "                                                                 \n",
            " block4_conv3 (Conv2D)       (None, 28, 28, 512)       2359808   \n",
            "                                                                 \n",
            " block4_conv4 (Conv2D)       (None, 28, 28, 512)       2359808   \n",
            "                                                                 \n",
            " block4_pool (MaxPooling2D)  (None, 14, 14, 512)       0         \n",
            "                                                                 \n",
            " block5_conv1 (Conv2D)       (None, 14, 14, 512)       2359808   \n",
            "                                                                 \n",
            " block5_conv2 (Conv2D)       (None, 14, 14, 512)       2359808   \n",
            "                                                                 \n",
            " block5_conv3 (Conv2D)       (None, 14, 14, 512)       2359808   \n",
            "                                                                 \n",
            " block5_conv4 (Conv2D)       (None, 14, 14, 512)       2359808   \n",
            "                                                                 \n",
            " block5_pool (MaxPooling2D)  (None, 7, 7, 512)         0         \n",
            "                                                                 \n",
            " flatten (Flatten)           (None, 25088)             0         \n",
            "                                                                 \n",
            " dense (Dense)               (None, 4)                 100356    \n",
            "                                                                 \n",
            "=================================================================\n",
            "Total params: 20,124,740\n",
            "Trainable params: 100,356\n",
            "Non-trainable params: 20,024,384\n",
            "_________________________________________________________________\n"
          ]
        }
      ]
    },
    {
      "cell_type": "code",
      "source": [
        "model.compile(optimizer='adam',loss= 'categorical_crossentropy',metrics='accuracy')"
      ],
      "metadata": {
        "id": "uLb5Njo8-EIN"
      },
      "execution_count": null,
      "outputs": []
    },
    {
      "cell_type": "code",
      "source": [
        "model.fit(train_data,epochs = 15,validation_data = train_data,validation_steps=5, verbose=1)"
      ],
      "metadata": {
        "colab": {
          "base_uri": "https://localhost:8080/"
        },
        "id": "04veWiDM_n5H",
        "outputId": "9116fea6-13f6-40dd-ee4e-f2cbdd3fc3b2"
      },
      "execution_count": null,
      "outputs": [
        {
          "output_type": "stream",
          "name": "stdout",
          "text": [
            "Epoch 1/15\n",
            "2/2 [==============================] - ETA: 0s - loss: 20.5525 - accuracy: 0.2250"
          ]
        },
        {
          "output_type": "stream",
          "name": "stderr",
          "text": [
            "WARNING:tensorflow:Your input ran out of data; interrupting training. Make sure that your dataset or generator can generate at least `steps_per_epoch * epochs` batches (in this case, 5 batches). You may need to use the repeat() function when building your dataset.\n"
          ]
        },
        {
          "output_type": "stream",
          "name": "stdout",
          "text": [
            "\b\b\b\b\b\b\b\b\b\b\b\b\b\b\b\b\b\b\b\b\b\b\b\b\b\b\b\b\b\b\b\b\b\b\b\b\b\b\b\b\b\b\b\b\b\b\b\b\b\b\b\b\b\b\b\b\b\b\b\b\b\b\b\b\b\b\b\b\b\b\b\b\b\b\b\b\b\b\b\b\b\r2/2 [==============================] - 70s 62s/step - loss: 20.5525 - accuracy: 0.2250 - val_loss: 4.4981 - val_accuracy: 0.7250\n",
            "Epoch 2/15\n",
            "2/2 [==============================] - 26s 20s/step - loss: 1.3203 - accuracy: 0.8500\n",
            "Epoch 3/15\n",
            "2/2 [==============================] - 26s 20s/step - loss: 0.0565 - accuracy: 0.9750\n",
            "Epoch 4/15\n",
            "2/2 [==============================] - 26s 20s/step - loss: 0.0533 - accuracy: 0.9750\n",
            "Epoch 5/15\n",
            "2/2 [==============================] - 26s 20s/step - loss: 0.0000e+00 - accuracy: 1.0000\n",
            "Epoch 6/15\n",
            "2/2 [==============================] - 27s 6s/step - loss: 0.0000e+00 - accuracy: 1.0000\n",
            "Epoch 7/15\n",
            "2/2 [==============================] - 31s 5s/step - loss: 0.0000e+00 - accuracy: 1.0000\n",
            "Epoch 8/15\n",
            "2/2 [==============================] - 26s 5s/step - loss: 0.0000e+00 - accuracy: 1.0000\n",
            "Epoch 9/15\n",
            "2/2 [==============================] - 26s 5s/step - loss: 0.0000e+00 - accuracy: 1.0000\n",
            "Epoch 10/15\n",
            "2/2 [==============================] - 26s 5s/step - loss: 0.0000e+00 - accuracy: 1.0000\n",
            "Epoch 11/15\n",
            "2/2 [==============================] - 26s 5s/step - loss: 0.0000e+00 - accuracy: 1.0000\n",
            "Epoch 12/15\n",
            "2/2 [==============================] - 26s 20s/step - loss: 0.0000e+00 - accuracy: 1.0000\n",
            "Epoch 13/15\n",
            "2/2 [==============================] - 26s 21s/step - loss: 0.0000e+00 - accuracy: 1.0000\n",
            "Epoch 14/15\n",
            "2/2 [==============================] - 29s 23s/step - loss: 0.0000e+00 - accuracy: 1.0000\n",
            "Epoch 15/15\n",
            "2/2 [==============================] - 26s 5s/step - loss: 0.0000e+00 - accuracy: 1.0000\n"
          ]
        },
        {
          "output_type": "execute_result",
          "data": {
            "text/plain": [
              "<keras.callbacks.History at 0x7fa8b6413d90>"
            ]
          },
          "metadata": {},
          "execution_count": 13
        }
      ]
    },
    {
      "cell_type": "code",
      "source": [
        "model.save('multiclassmodel.h5')"
      ],
      "metadata": {
        "id": "eAFs5svC_n80"
      },
      "execution_count": null,
      "outputs": []
    },
    {
      "cell_type": "code",
      "source": [
        "from keras.models import load_model\n",
        "import numpy as np\n",
        "from tensorflow.keras.preprocessing import image"
      ],
      "metadata": {
        "id": "ZHBZSTlsANbb"
      },
      "execution_count": null,
      "outputs": []
    },
    {
      "cell_type": "code",
      "source": [
        "test_image  = image.load_img('/content/drive/MyDrive/AI/CNN_train_test_img/th.jpg',target_size = (224,224))\n",
        "test_image = image.img_to_array(test_image)\n",
        "test_image = np.expand_dims(test_image, axis = 0)"
      ],
      "metadata": {
        "id": "_3DpmUJwANeb"
      },
      "execution_count": null,
      "outputs": []
    },
    {
      "cell_type": "code",
      "source": [
        "#Load Model\n",
        "model = load_model('multiclassmodel.h5')\n",
        "result = model.predict(test_image)\n",
        "print(result)"
      ],
      "metadata": {
        "colab": {
          "base_uri": "https://localhost:8080/"
        },
        "id": "B3Rq4jVUANhc",
        "outputId": "ec24570d-2eec-4a1b-b254-8b04c16af163"
      },
      "execution_count": null,
      "outputs": [
        {
          "output_type": "stream",
          "name": "stdout",
          "text": [
            "1/1 [==============================] - 1s 923ms/step\n",
            "[[1.0070699e-24 1.0000000e+00 1.5677392e-15 0.0000000e+00]]\n"
          ]
        }
      ]
    },
    {
      "cell_type": "code",
      "source": [
        "result[0][0]"
      ],
      "metadata": {
        "colab": {
          "base_uri": "https://localhost:8080/"
        },
        "id": "piRexXCtg8l2",
        "outputId": "7de1a519-941b-4167-ce74-debbf74d2d84"
      },
      "execution_count": null,
      "outputs": [
        {
          "output_type": "execute_result",
          "data": {
            "text/plain": [
              "1.0070699e-24"
            ]
          },
          "metadata": {},
          "execution_count": 20
        }
      ]
    },
    {
      "cell_type": "code",
      "source": [
        "result[0][1]"
      ],
      "metadata": {
        "colab": {
          "base_uri": "https://localhost:8080/"
        },
        "id": "KOE1cgEfhEMy",
        "outputId": "99c3894e-d65d-4619-ad1d-9125d2c49552"
      },
      "execution_count": null,
      "outputs": [
        {
          "output_type": "execute_result",
          "data": {
            "text/plain": [
              "1.0"
            ]
          },
          "metadata": {},
          "execution_count": 21
        }
      ]
    },
    {
      "cell_type": "code",
      "source": [
        "result[0][2]"
      ],
      "metadata": {
        "colab": {
          "base_uri": "https://localhost:8080/"
        },
        "id": "IcF5Xx6mhNS4",
        "outputId": "613a79d1-bf5e-48a2-8da2-05bd260beda0"
      },
      "execution_count": null,
      "outputs": [
        {
          "output_type": "execute_result",
          "data": {
            "text/plain": [
              "1.5677392e-15"
            ]
          },
          "metadata": {},
          "execution_count": 22
        }
      ]
    },
    {
      "cell_type": "code",
      "source": [
        "if result[0][0] ==1:\n",
        "  prediction = 'Messi'\n",
        "  print(prediction)\n",
        "\n",
        "elif result[0][1]==1:\n",
        "  prediction = 'Modi'\n",
        "  print(prediction)\n",
        "\n",
        "elif result[0][2]==1:\n",
        "  prediction = 'Ritik'\n",
        "  print(prediction)  \n",
        "\n",
        "else:\n",
        "  print('Virat')"
      ],
      "metadata": {
        "colab": {
          "base_uri": "https://localhost:8080/"
        },
        "id": "OYfchl5mANke",
        "outputId": "ffa7d9d0-e5a2-4f9f-ad8c-464195cb755d"
      },
      "execution_count": null,
      "outputs": [
        {
          "output_type": "stream",
          "name": "stdout",
          "text": [
            "Modi\n"
          ]
        }
      ]
    },
    {
      "cell_type": "code",
      "source": [
        "#End"
      ],
      "metadata": {
        "id": "SJYcG9rVIZSB"
      },
      "execution_count": null,
      "outputs": []
    }
  ]
}