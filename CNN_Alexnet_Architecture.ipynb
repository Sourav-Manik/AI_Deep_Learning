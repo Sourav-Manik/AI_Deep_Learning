{
  "nbformat": 4,
  "nbformat_minor": 0,
  "metadata": {
    "colab": {
      "provenance": [],
      "toc_visible": true,
      "authorship_tag": "ABX9TyOjyWUg9Etm5T2FjvJJmXdU",
      "include_colab_link": true
    },
    "kernelspec": {
      "name": "python3",
      "display_name": "Python 3"
    },
    "language_info": {
      "name": "python"
    },
    "accelerator": "GPU",
    "gpuClass": "standard"
  },
  "cells": [
    {
      "cell_type": "markdown",
      "metadata": {
        "id": "view-in-github",
        "colab_type": "text"
      },
      "source": [
        "<a href=\"https://colab.research.google.com/github/Sourav-Manik/AI_Deep_Learning/blob/main/CNN_Alexnet_Architecture.ipynb\" target=\"_parent\"><img src=\"https://colab.research.google.com/assets/colab-badge.svg\" alt=\"Open In Colab\"/></a>"
      ]
    },
    {
      "cell_type": "markdown",
      "source": [
        "#1. Import Libraries"
      ],
      "metadata": {
        "id": "2qeKtD9_lYrW"
      }
    },
    {
      "cell_type": "code",
      "execution_count": null,
      "metadata": {
        "id": "sbrHfiirlR4t"
      },
      "outputs": [],
      "source": [
        "from tensorflow import keras\n",
        "from keras.models import Sequential\n",
        "from keras.layers import Conv2D, MaxPooling2D,Dense, Flatten, Dropout, Activation, MaxPool2D\n",
        "import numpy as np\n",
        "from matplotlib import pyplot as plt"
      ]
    },
    {
      "cell_type": "markdown",
      "source": [
        "#2. Import Dataset"
      ],
      "metadata": {
        "id": "DaqU43Zxl4k-"
      }
    },
    {
      "cell_type": "code",
      "source": [
        "(X_train, y_train), (X_test,y_test) = keras.datasets.cifar10.load_data()"
      ],
      "metadata": {
        "id": "0zD8mQMVl3WM",
        "colab": {
          "base_uri": "https://localhost:8080/"
        },
        "outputId": "358bc147-24e6-428c-b7b8-cc0b5aab963c"
      },
      "execution_count": null,
      "outputs": [
        {
          "output_type": "stream",
          "name": "stdout",
          "text": [
            "Downloading data from https://www.cs.toronto.edu/~kriz/cifar-10-python.tar.gz\n",
            "170498071/170498071 [==============================] - 2s 0us/step\n"
          ]
        }
      ]
    },
    {
      "cell_type": "markdown",
      "source": [
        "#3. Data Understanding"
      ],
      "metadata": {
        "id": "-LzLIcjDmGrG"
      }
    },
    {
      "cell_type": "code",
      "source": [
        "X_train.shape, y_train.shape"
      ],
      "metadata": {
        "colab": {
          "base_uri": "https://localhost:8080/"
        },
        "id": "GA-hoiFzmFus",
        "outputId": "3a03a8e2-341f-4bfd-95ee-bd59aad6f419"
      },
      "execution_count": null,
      "outputs": [
        {
          "output_type": "execute_result",
          "data": {
            "text/plain": [
              "((50000, 32, 32, 3), (50000, 1))"
            ]
          },
          "metadata": {},
          "execution_count": 3
        }
      ]
    },
    {
      "cell_type": "code",
      "source": [
        "X_test.shape, y_test.shape"
      ],
      "metadata": {
        "colab": {
          "base_uri": "https://localhost:8080/"
        },
        "id": "sJprckN1mLbX",
        "outputId": "06701c2b-5891-4458-f201-fed592aae0d2"
      },
      "execution_count": null,
      "outputs": [
        {
          "output_type": "execute_result",
          "data": {
            "text/plain": [
              "((10000, 32, 32, 3), (10000, 1))"
            ]
          },
          "metadata": {},
          "execution_count": 4
        }
      ]
    },
    {
      "cell_type": "code",
      "source": [
        "X_train.std(), X_test.std()"
      ],
      "metadata": {
        "colab": {
          "base_uri": "https://localhost:8080/"
        },
        "id": "fV1m2n2PmLea",
        "outputId": "e9c56cbd-9ada-49a5-d4bc-43204977f6a8"
      },
      "execution_count": null,
      "outputs": [
        {
          "output_type": "execute_result",
          "data": {
            "text/plain": [
              "(64.1500758911213, 64.06097012299574)"
            ]
          },
          "metadata": {},
          "execution_count": 5
        }
      ]
    },
    {
      "cell_type": "markdown",
      "source": [
        "Apply Normalization for better learning"
      ],
      "metadata": {
        "id": "2tJ_VTsZrPd9"
      }
    },
    {
      "cell_type": "code",
      "source": [
        "X_train = X_train.astype('float')\n",
        "X_test = X_test.astype('float')"
      ],
      "metadata": {
        "id": "6vgMmugYrrNc"
      },
      "execution_count": null,
      "outputs": []
    },
    {
      "cell_type": "code",
      "source": [
        "X_train = X_train/255\n",
        "X_test = X_test/255"
      ],
      "metadata": {
        "id": "QSIJAvm2r3ur"
      },
      "execution_count": null,
      "outputs": []
    },
    {
      "cell_type": "markdown",
      "source": [
        "#4. Model Building"
      ],
      "metadata": {
        "id": "T-xBJ4yammSW"
      }
    },
    {
      "cell_type": "code",
      "source": [
        "model = Sequential()\n",
        "model.add(Conv2D(input_shape = (32,32,3),filters = 96,kernel_size = 11,strides = 4,padding = 'same',activation = 'relu'))\n",
        "model.add(MaxPooling2D(pool_size = (3,3),strides = (2,2),padding ='same'))\n",
        "model.add(Conv2D(filters = 256,kernel_size = 5,strides = 1,padding = 'same',activation = 'relu'))\n",
        "model.add(MaxPooling2D(pool_size = (3,3),strides = (2,2),padding ='same'))\n",
        "\n",
        "model.add(Conv2D(filters = 384,kernel_size = 3,strides = 1,padding = 'same',activation = 'relu'))\n",
        "model.add(Conv2D(filters = 384,kernel_size = 3,strides = 1,padding = 'same',activation = 'relu'))\n",
        "model.add(Conv2D(filters = 256,kernel_size = 3,strides = 1,padding = 'same',activation = 'relu'))\n",
        "model.add(MaxPooling2D(pool_size = (3,3),strides = (2,2),padding ='same'))\n",
        "\n",
        "model.add(Flatten())\n",
        "model.add(Dense(units = 4096, activation = 'tanh'))\n",
        "model.add(Dropout(rate = 0.30))\n",
        "model.add(Dense(units = 4096, activation = 'tanh'))\n",
        "model.add(Dropout(rate = 0.30))\n",
        "model.add(Dense(units = 4096, activation = 'softmax'))\n",
        "model.summary()"
      ],
      "metadata": {
        "colab": {
          "base_uri": "https://localhost:8080/"
        },
        "id": "L1HVFhEemLhG",
        "outputId": "f89f42dd-0beb-43ad-b319-fddf6ed7637c"
      },
      "execution_count": null,
      "outputs": [
        {
          "output_type": "stream",
          "name": "stdout",
          "text": [
            "Model: \"sequential\"\n",
            "_________________________________________________________________\n",
            " Layer (type)                Output Shape              Param #   \n",
            "=================================================================\n",
            " conv2d (Conv2D)             (None, 8, 8, 96)          34944     \n",
            "                                                                 \n",
            " max_pooling2d (MaxPooling2D  (None, 4, 4, 96)         0         \n",
            " )                                                               \n",
            "                                                                 \n",
            " conv2d_1 (Conv2D)           (None, 4, 4, 256)         614656    \n",
            "                                                                 \n",
            " max_pooling2d_1 (MaxPooling  (None, 2, 2, 256)        0         \n",
            " 2D)                                                             \n",
            "                                                                 \n",
            " conv2d_2 (Conv2D)           (None, 2, 2, 384)         885120    \n",
            "                                                                 \n",
            " conv2d_3 (Conv2D)           (None, 2, 2, 384)         1327488   \n",
            "                                                                 \n",
            " conv2d_4 (Conv2D)           (None, 2, 2, 256)         884992    \n",
            "                                                                 \n",
            " max_pooling2d_2 (MaxPooling  (None, 1, 1, 256)        0         \n",
            " 2D)                                                             \n",
            "                                                                 \n",
            " flatten (Flatten)           (None, 256)               0         \n",
            "                                                                 \n",
            " dense (Dense)               (None, 4096)              1052672   \n",
            "                                                                 \n",
            " dropout (Dropout)           (None, 4096)              0         \n",
            "                                                                 \n",
            " dense_1 (Dense)             (None, 4096)              16781312  \n",
            "                                                                 \n",
            " dropout_1 (Dropout)         (None, 4096)              0         \n",
            "                                                                 \n",
            " dense_2 (Dense)             (None, 4096)              16781312  \n",
            "                                                                 \n",
            "=================================================================\n",
            "Total params: 38,362,496\n",
            "Trainable params: 38,362,496\n",
            "Non-trainable params: 0\n",
            "_________________________________________________________________\n"
          ]
        }
      ]
    },
    {
      "cell_type": "markdown",
      "source": [
        "Model Compilation"
      ],
      "metadata": {
        "id": "C0hl_mR9ocH4"
      }
    },
    {
      "cell_type": "code",
      "source": [
        "model.compile(optimizer = 'sgd',loss = 'sparse_categorical_crossentropy',metrics='sparse_categorical_accuracy')"
      ],
      "metadata": {
        "id": "N-dd5WaNmLj4"
      },
      "execution_count": null,
      "outputs": []
    },
    {
      "cell_type": "markdown",
      "source": [
        "# 5. Model Training"
      ],
      "metadata": {
        "id": "Dls7GQygo1Jl"
      }
    },
    {
      "cell_type": "code",
      "source": [
        "model_training = model.fit(x=X_train,y=y_train,batch_size = 32,epochs = 25, validation_data=(X_test,y_test),verbose = 2)"
      ],
      "metadata": {
        "colab": {
          "base_uri": "https://localhost:8080/"
        },
        "id": "pp9LpTUrmLoX",
        "outputId": "367366c6-c3b0-4383-b131-433cf95f51aa"
      },
      "execution_count": null,
      "outputs": [
        {
          "output_type": "stream",
          "name": "stdout",
          "text": [
            "Epoch 1/25\n",
            "1563/1563 - 30s - loss: 2.6481 - sparse_categorical_accuracy: 0.1318 - val_loss: 2.0976 - val_sparse_categorical_accuracy: 0.1751 - 30s/epoch - 19ms/step\n",
            "Epoch 2/25\n",
            "1563/1563 - 18s - loss: 2.0182 - sparse_categorical_accuracy: 0.2226 - val_loss: 1.8447 - val_sparse_categorical_accuracy: 0.3022 - 18s/epoch - 11ms/step\n",
            "Epoch 3/25\n",
            "1563/1563 - 18s - loss: 1.7587 - sparse_categorical_accuracy: 0.3315 - val_loss: 2.0275 - val_sparse_categorical_accuracy: 0.2867 - 18s/epoch - 11ms/step\n",
            "Epoch 4/25\n",
            "1563/1563 - 18s - loss: 1.5569 - sparse_categorical_accuracy: 0.4217 - val_loss: 1.7189 - val_sparse_categorical_accuracy: 0.3659 - 18s/epoch - 11ms/step\n",
            "Epoch 5/25\n",
            "1563/1563 - 18s - loss: 1.4345 - sparse_categorical_accuracy: 0.4732 - val_loss: 1.4693 - val_sparse_categorical_accuracy: 0.4623 - 18s/epoch - 11ms/step\n",
            "Epoch 6/25\n",
            "1563/1563 - 19s - loss: 1.3429 - sparse_categorical_accuracy: 0.5095 - val_loss: 1.3389 - val_sparse_categorical_accuracy: 0.5096 - 19s/epoch - 12ms/step\n",
            "Epoch 7/25\n",
            "1563/1563 - 19s - loss: 1.2655 - sparse_categorical_accuracy: 0.5393 - val_loss: 1.3084 - val_sparse_categorical_accuracy: 0.5325 - 19s/epoch - 12ms/step\n",
            "Epoch 8/25\n",
            "1563/1563 - 18s - loss: 1.1877 - sparse_categorical_accuracy: 0.5705 - val_loss: 1.2066 - val_sparse_categorical_accuracy: 0.5646 - 18s/epoch - 11ms/step\n",
            "Epoch 9/25\n",
            "1563/1563 - 19s - loss: 1.1180 - sparse_categorical_accuracy: 0.5973 - val_loss: 1.3688 - val_sparse_categorical_accuracy: 0.5450 - 19s/epoch - 12ms/step\n",
            "Epoch 10/25\n",
            "1563/1563 - 18s - loss: 1.0526 - sparse_categorical_accuracy: 0.6204 - val_loss: 1.1201 - val_sparse_categorical_accuracy: 0.6021 - 18s/epoch - 11ms/step\n",
            "Epoch 11/25\n",
            "1563/1563 - 19s - loss: 0.9900 - sparse_categorical_accuracy: 0.6450 - val_loss: 1.1216 - val_sparse_categorical_accuracy: 0.6065 - 19s/epoch - 12ms/step\n",
            "Epoch 12/25\n",
            "1563/1563 - 19s - loss: 0.9323 - sparse_categorical_accuracy: 0.6659 - val_loss: 1.0852 - val_sparse_categorical_accuracy: 0.6228 - 19s/epoch - 12ms/step\n",
            "Epoch 13/25\n",
            "1563/1563 - 19s - loss: 0.8743 - sparse_categorical_accuracy: 0.6874 - val_loss: 1.1262 - val_sparse_categorical_accuracy: 0.6171 - 19s/epoch - 12ms/step\n",
            "Epoch 14/25\n",
            "1563/1563 - 19s - loss: 0.8192 - sparse_categorical_accuracy: 0.7070 - val_loss: 1.0915 - val_sparse_categorical_accuracy: 0.6293 - 19s/epoch - 12ms/step\n",
            "Epoch 15/25\n",
            "1563/1563 - 18s - loss: 0.7637 - sparse_categorical_accuracy: 0.7276 - val_loss: 1.0967 - val_sparse_categorical_accuracy: 0.6235 - 18s/epoch - 11ms/step\n",
            "Epoch 16/25\n",
            "1563/1563 - 19s - loss: 0.7145 - sparse_categorical_accuracy: 0.7445 - val_loss: 1.0497 - val_sparse_categorical_accuracy: 0.6429 - 19s/epoch - 12ms/step\n",
            "Epoch 17/25\n",
            "1563/1563 - 19s - loss: 0.6580 - sparse_categorical_accuracy: 0.7635 - val_loss: 1.1307 - val_sparse_categorical_accuracy: 0.6363 - 19s/epoch - 12ms/step\n",
            "Epoch 18/25\n",
            "1563/1563 - 18s - loss: 0.6054 - sparse_categorical_accuracy: 0.7823 - val_loss: 1.6147 - val_sparse_categorical_accuracy: 0.5549 - 18s/epoch - 11ms/step\n",
            "Epoch 19/25\n",
            "1563/1563 - 18s - loss: 0.5487 - sparse_categorical_accuracy: 0.8022 - val_loss: 1.1662 - val_sparse_categorical_accuracy: 0.6299 - 18s/epoch - 11ms/step\n",
            "Epoch 20/25\n",
            "1563/1563 - 18s - loss: 0.5002 - sparse_categorical_accuracy: 0.8180 - val_loss: 1.3351 - val_sparse_categorical_accuracy: 0.6092 - 18s/epoch - 11ms/step\n",
            "Epoch 21/25\n",
            "1563/1563 - 18s - loss: 0.4525 - sparse_categorical_accuracy: 0.8368 - val_loss: 1.5313 - val_sparse_categorical_accuracy: 0.5801 - 18s/epoch - 11ms/step\n",
            "Epoch 22/25\n",
            "1563/1563 - 19s - loss: 0.4085 - sparse_categorical_accuracy: 0.8520 - val_loss: 1.8235 - val_sparse_categorical_accuracy: 0.5595 - 19s/epoch - 12ms/step\n",
            "Epoch 23/25\n",
            "1563/1563 - 18s - loss: 0.3648 - sparse_categorical_accuracy: 0.8669 - val_loss: 1.4698 - val_sparse_categorical_accuracy: 0.6292 - 18s/epoch - 11ms/step\n",
            "Epoch 24/25\n",
            "1563/1563 - 17s - loss: 0.3219 - sparse_categorical_accuracy: 0.8829 - val_loss: 1.3855 - val_sparse_categorical_accuracy: 0.6255 - 17s/epoch - 11ms/step\n",
            "Epoch 25/25\n",
            "1563/1563 - 19s - loss: 0.2902 - sparse_categorical_accuracy: 0.8957 - val_loss: 1.4741 - val_sparse_categorical_accuracy: 0.6240 - 19s/epoch - 12ms/step\n"
          ]
        }
      ]
    },
    {
      "cell_type": "markdown",
      "source": [
        "# 6. Model Evaluation"
      ],
      "metadata": {
        "id": "yFpqAr0OsHaS"
      }
    },
    {
      "cell_type": "code",
      "source": [
        "plt.imshow(X_train[0])\n",
        "plt.show"
      ],
      "metadata": {
        "colab": {
          "base_uri": "https://localhost:8080/",
          "height": 284
        },
        "id": "RCsz_fz7rUgc",
        "outputId": "6d8960e8-2e1b-4c90-c19b-e4149fe35966"
      },
      "execution_count": null,
      "outputs": [
        {
          "output_type": "execute_result",
          "data": {
            "text/plain": [
              "<function matplotlib.pyplot.show(*args, **kw)>"
            ]
          },
          "metadata": {},
          "execution_count": 11
        },
        {
          "output_type": "display_data",
          "data": {
            "text/plain": [
              "<Figure size 432x288 with 1 Axes>"
            ],
            "image/png": "[encoded data removed]"
          },
          "metadata": {
            "needs_background": "light"
          }
        }
      ]
    },
    {
      "cell_type": "code",
      "source": [
        "y_train[0]"
      ],
      "metadata": {
        "colab": {
          "base_uri": "https://localhost:8080/"
        },
        "id": "kFF9ENPFmI8y",
        "outputId": "931863be-f52e-4a3e-dc20-13ab43f42e36"
      },
      "execution_count": null,
      "outputs": [
        {
          "output_type": "execute_result",
          "data": {
            "text/plain": [
              "array([6], dtype=uint8)"
            ]
          },
          "metadata": {},
          "execution_count": 12
        }
      ]
    },
    {
      "cell_type": "code",
      "source": [
        "class_names = ['airplane','automobile','bird','cat','deer','dog','frog','horse','ship','truck']\n",
        "class_names"
      ],
      "metadata": {
        "colab": {
          "base_uri": "https://localhost:8080/"
        },
        "id": "kc9pys-XrUjS",
        "outputId": "6580e1b0-3321-4e65-9baf-0c36291d0e9e"
      },
      "execution_count": null,
      "outputs": [
        {
          "output_type": "execute_result",
          "data": {
            "text/plain": [
              "['airplane',\n",
              " 'automobile',\n",
              " 'bird',\n",
              " 'cat',\n",
              " 'deer',\n",
              " 'dog',\n",
              " 'frog',\n",
              " 'horse',\n",
              " 'ship',\n",
              " 'truck']"
            ]
          },
          "metadata": {},
          "execution_count": 13
        }
      ]
    },
    {
      "cell_type": "code",
      "source": [
        "y_train.shape"
      ],
      "metadata": {
        "colab": {
          "base_uri": "https://localhost:8080/"
        },
        "id": "pF5TCAQnrUmm",
        "outputId": "cd4889ce-17f1-431a-bd9f-387b379c8de4"
      },
      "execution_count": null,
      "outputs": [
        {
          "output_type": "execute_result",
          "data": {
            "text/plain": [
              "(50000, 1)"
            ]
          },
          "metadata": {},
          "execution_count": 14
        }
      ]
    },
    {
      "cell_type": "code",
      "source": [
        "y_train = np.reshape(a= y_train, newshape = -1,)\n",
        "y_test = np.reshape(a=y_test,newshape = -1,)\n",
        "y_train.shape,y_test.shape"
      ],
      "metadata": {
        "colab": {
          "base_uri": "https://localhost:8080/"
        },
        "id": "jVD_EceorUpS",
        "outputId": "37708e82-5574-45cb-da64-91c9f4414d95"
      },
      "execution_count": null,
      "outputs": [
        {
          "output_type": "execute_result",
          "data": {
            "text/plain": [
              "((50000,), (10000,))"
            ]
          },
          "metadata": {},
          "execution_count": 15
        }
      ]
    },
    {
      "cell_type": "code",
      "source": [
        "class_names[y_train[0]]"
      ],
      "metadata": {
        "colab": {
          "base_uri": "https://localhost:8080/",
          "height": 36
        },
        "id": "xnnrgUyqrUsO",
        "outputId": "42452dfd-2087-412b-d29c-44d425d13caa"
      },
      "execution_count": null,
      "outputs": [
        {
          "output_type": "execute_result",
          "data": {
            "text/plain": [
              "'frog'"
            ],
            "application/vnd.google.colaboratory.intrinsic+json": {
              "type": "string"
            }
          },
          "metadata": {},
          "execution_count": 16
        }
      ]
    },
    {
      "cell_type": "code",
      "source": [
        "y_pred_test = model.predict(X_test)\n",
        "y_pred_train = model.predict(X_train)"
      ],
      "metadata": {
        "colab": {
          "base_uri": "https://localhost:8080/"
        },
        "id": "HTFJkQRvtfNM",
        "outputId": "62c5ddda-54f1-4e6e-f405-86a4cef2bb54"
      },
      "execution_count": null,
      "outputs": [
        {
          "output_type": "stream",
          "name": "stdout",
          "text": [
            "313/313 [==============================] - 1s 4ms/step\n",
            "1563/1563 [==============================] - 5s 3ms/step\n"
          ]
        }
      ]
    },
    {
      "cell_type": "code",
      "source": [
        "plt.imshow(X_test[1000])\n",
        "plt.show"
      ],
      "metadata": {
        "colab": {
          "base_uri": "https://localhost:8080/",
          "height": 284
        },
        "id": "IZ8a8ePRdyH4",
        "outputId": "705d34a2-351e-4d0d-facf-b014a6530236"
      },
      "execution_count": null,
      "outputs": [
        {
          "output_type": "execute_result",
          "data": {
            "text/plain": [
              "<function matplotlib.pyplot.show(*args, **kw)>"
            ]
          },
          "metadata": {},
          "execution_count": 18
        },
        {
          "output_type": "display_data",
          "data": {
            "text/plain": [
              "<Figure size 432x288 with 1 Axes>"
            ],
            "image/png": "[encoded data removed]"
          },
          "metadata": {
            "needs_background": "light"
          }
        }
      ]
    },
    {
      "cell_type": "code",
      "source": [
        "np.argmax(y_test[1000])"
      ],
      "metadata": {
        "colab": {
          "base_uri": "https://localhost:8080/"
        },
        "id": "47o5a4nKtfQD",
        "outputId": "1ca94cb5-e23d-4d2a-bd9e-f8c9c17c81ee"
      },
      "execution_count": null,
      "outputs": [
        {
          "output_type": "execute_result",
          "data": {
            "text/plain": [
              "0"
            ]
          },
          "metadata": {},
          "execution_count": 19
        }
      ]
    },
    {
      "cell_type": "markdown",
      "source": [
        "# 7. Model Prediction"
      ],
      "metadata": {
        "id": "9LmgigPxqLbP"
      }
    },
    {
      "cell_type": "code",
      "source": [
        "prediction = model.predict(X_test)\n",
        "prediction\n",
        "print(np.argmax(prediction[29]))"
      ],
      "metadata": {
        "id": "B38dmLsvoM_8",
        "colab": {
          "base_uri": "https://localhost:8080/"
        },
        "outputId": "634d3fff-9387-4891-974f-9e9235954533"
      },
      "execution_count": null,
      "outputs": [
        {
          "output_type": "stream",
          "name": "stdout",
          "text": [
            "313/313 [==============================] - 1s 3ms/step\n",
            "6\n"
          ]
        }
      ]
    },
    {
      "cell_type": "code",
      "source": [
        "y_test[29]"
      ],
      "metadata": {
        "id": "N_JYgOOMoNCr",
        "colab": {
          "base_uri": "https://localhost:8080/"
        },
        "outputId": "f02ce747-26d1-44fb-912c-c06eda51b276"
      },
      "execution_count": null,
      "outputs": [
        {
          "output_type": "execute_result",
          "data": {
            "text/plain": [
              "6"
            ]
          },
          "metadata": {},
          "execution_count": 21
        }
      ]
    },
    {
      "cell_type": "markdown",
      "source": [
        "# 8. Model Performance"
      ],
      "metadata": {
        "id": "i-qnQeV0qhgr"
      }
    },
    {
      "cell_type": "markdown",
      "source": [
        "## Model Accuracy Performance"
      ],
      "metadata": {
        "id": "yKwhLl1rqtY-"
      }
    },
    {
      "cell_type": "code",
      "source": [
        "plt.plot(model_training.history['sparse_categorical_accuracy'],label = 'Train accuracy')\n",
        "\n",
        "plt.plot(model_training.history['val_sparse_categorical_accuracy'],label='Test accuracy')\n",
        "\n",
        "plt.xlabel('Epochs')\n",
        "plt.ylabel('Accuracy')\n",
        "plt.title('Model Accuracy Performance')\n",
        "plt.legend()\n",
        "plt.show()"
      ],
      "metadata": {
        "id": "rbvg3Dd0oNF5",
        "colab": {
          "base_uri": "https://localhost:8080/",
          "height": 295
        },
        "outputId": "d2f0117b-649a-42e6-9fd6-666f867c290b"
      },
      "execution_count": null,
      "outputs": [
        {
          "output_type": "display_data",
          "data": {
            "text/plain": [
              "<Figure size 432x288 with 1 Axes>"
            ],
            "image/png": "[encoded data removed]"
          },
          "metadata": {
            "needs_background": "light"
          }
        }
      ]
    },
    {
      "cell_type": "markdown",
      "source": [
        "##Model Loss Performance"
      ],
      "metadata": {
        "id": "-zqMhicircww"
      }
    },
    {
      "cell_type": "code",
      "source": [
        "plt.plot(model_training.history['loss'],label = 'Train loss')\n",
        "\n",
        "plt.plot(model_training.history['val_loss'],label='Test loss')\n",
        "\n",
        "plt.xlabel('Epochs')\n",
        "plt.ylabel('Loss')\n",
        "plt.title('Model loss Performance')\n",
        "plt.legend()\n",
        "plt.show()"
      ],
      "metadata": {
        "id": "Q8XoGaQkoNIa",
        "colab": {
          "base_uri": "https://localhost:8080/",
          "height": 295
        },
        "outputId": "be8a5c00-13fe-43e4-999c-684cf864e636"
      },
      "execution_count": null,
      "outputs": [
        {
          "output_type": "display_data",
          "data": {
            "text/plain": [
              "<Figure size 432x288 with 1 Axes>"
            ],
            "image/png": "[encoded data removed]"
          },
          "metadata": {
            "needs_background": "light"
          }
        }
      ]
    }
  ]
}