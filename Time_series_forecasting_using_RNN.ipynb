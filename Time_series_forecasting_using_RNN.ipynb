{
  "nbformat": 4,
  "nbformat_minor": 0,
  "metadata": {
    "colab": {
      "provenance": [],
      "authorship_tag": "ABX9TyP68PBFXxNDcg+6vaFWypzc",
      "include_colab_link": true
    },
    "kernelspec": {
      "name": "python3",
      "display_name": "Python 3"
    },
    "language_info": {
      "name": "python"
    },
    "accelerator": "GPU",
    "gpuClass": "standard"
  },
  "cells": [
    {
      "cell_type": "markdown",
      "metadata": {
        "id": "view-in-github",
        "colab_type": "text"
      },
      "source": [
        "<a href=\"https://colab.research.google.com/github/Sourav-Manik/AI_Deep_Learning/blob/main/Time_series_forecasting_using_RNN.ipynb\" target=\"_parent\"><img src=\"https://colab.research.google.com/assets/colab-badge.svg\" alt=\"Open In Colab\"/></a>"
      ]
    },
    {
      "cell_type": "markdown",
      "source": [
        "##1. Import Libraries##"
      ],
      "metadata": {
        "id": "P2BxALrUEBkr"
      }
    },
    {
      "cell_type": "code",
      "source": [
        "import pandas as pd\n",
        "import warnings\n",
        "warnings.filterwarnings('ignore')\n",
        "import numpy as np\n",
        "import matplotlib\n",
        "from matplotlib import pyplot as plt"
      ],
      "metadata": {
        "id": "DfjlTT70EBks"
      },
      "execution_count": null,
      "outputs": []
    },
    {
      "cell_type": "markdown",
      "source": [
        "##2. Import Data##"
      ],
      "metadata": {
        "id": "sRzlfM03EBks"
      }
    },
    {
      "cell_type": "code",
      "source": [
        "jena_climate_data = pd.read_csv('/content/jena_climate_2009_2016.csv')\n",
        "jena_climate_data"
      ],
      "metadata": {
        "colab": {
          "base_uri": "https://localhost:8080/",
          "height": 658
        },
        "outputId": "d9ba47b9-d2a4-408e-f640-c8231f2ba2a9",
        "id": "KAt8XVdkEBks"
      },
      "execution_count": null,
      "outputs": [
        {
          "output_type": "execute_result",
          "data": {
            "text/plain": [
              "                  Date Time  p (mbar)  T (degC)  Tpot (K)  Tdew (degC)  \\\n",
              "0       01.01.2009 00:10:00    996.52     -8.02    265.40        -8.90   \n",
              "1       01.01.2009 00:20:00    996.57     -8.41    265.01        -9.28   \n",
              "2       01.01.2009 00:30:00    996.53     -8.51    264.91        -9.31   \n",
              "3       01.01.2009 00:40:00    996.51     -8.31    265.12        -9.07   \n",
              "4       01.01.2009 00:50:00    996.51     -8.27    265.15        -9.04   \n",
              "...                     ...       ...       ...       ...          ...   \n",
              "420546  31.12.2016 23:20:00   1000.07     -4.05    269.10        -8.13   \n",
              "420547  31.12.2016 23:30:00    999.93     -3.35    269.81        -8.06   \n",
              "420548  31.12.2016 23:40:00    999.82     -3.16    270.01        -8.21   \n",
              "420549  31.12.2016 23:50:00    999.81     -4.23    268.94        -8.53   \n",
              "420550  01.01.2017 00:00:00    999.82     -4.82    268.36        -8.42   \n",
              "\n",
              "        rh (%)  VPmax (mbar)  VPact (mbar)  VPdef (mbar)  sh (g/kg)  \\\n",
              "0        93.30          3.33          3.11          0.22       1.94   \n",
              "1        93.40          3.23          3.02          0.21       1.89   \n",
              "2        93.90          3.21          3.01          0.20       1.88   \n",
              "3        94.20          3.26          3.07          0.19       1.92   \n",
              "4        94.10          3.27          3.08          0.19       1.92   \n",
              "...        ...           ...           ...           ...        ...   \n",
              "420546   73.10          4.52          3.30          1.22       2.06   \n",
              "420547   69.71          4.77          3.32          1.44       2.07   \n",
              "420548   67.91          4.84          3.28          1.55       2.05   \n",
              "420549   71.80          4.46          3.20          1.26       1.99   \n",
              "420550   75.70          4.27          3.23          1.04       2.01   \n",
              "\n",
              "        H2OC (mmol/mol)  rho (g/m**3)  wv (m/s)  max. wv (m/s)  wd (deg)  \n",
              "0                  3.12       1307.75      1.03           1.75     152.3  \n",
              "1                  3.03       1309.80      0.72           1.50     136.1  \n",
              "2                  3.02       1310.24      0.19           0.63     171.6  \n",
              "3                  3.08       1309.19      0.34           0.50     198.0  \n",
              "4                  3.09       1309.00      0.32           0.63     214.3  \n",
              "...                 ...           ...       ...            ...       ...  \n",
              "420546             3.30       1292.98      0.67           1.52     240.0  \n",
              "420547             3.32       1289.44      1.14           1.92     234.3  \n",
              "420548             3.28       1288.39      1.08           2.00     215.2  \n",
              "420549             3.20       1293.56      1.49           2.16     225.8  \n",
              "420550             3.23       1296.38      1.23           1.96     184.9  \n",
              "\n",
              "[420551 rows x 15 columns]"
            ],
            "text/html": [
              "\n",
              "  <div id=\"df-ab9690ac-7591-40d6-b004-4868f3000ab6\">\n",
              "    <div class=\"colab-df-container\">\n",
              "      <div>\n",
              "<style scoped>\n",
              "    .dataframe tbody tr th:only-of-type {\n",
              "        vertical-align: middle;\n",
              "    }\n",
              "\n",
              "    .dataframe tbody tr th {\n",
              "        vertical-align: top;\n",
              "    }\n",
              "\n",
              "    .dataframe thead th {\n",
              "        text-align: right;\n",
              "    }\n",
              "</style>\n",
              "<table border=\"1\" class=\"dataframe\">\n",
              "  <thead>\n",
              "    <tr style=\"text-align: right;\">\n",
              "      <th></th>\n",
              "      <th>Date Time</th>\n",
              "      <th>p (mbar)</th>\n",
              "      <th>T (degC)</th>\n",
              "      <th>Tpot (K)</th>\n",
              "      <th>Tdew (degC)</th>\n",
              "      <th>rh (%)</th>\n",
              "      <th>VPmax (mbar)</th>\n",
              "      <th>VPact (mbar)</th>\n",
              "      <th>VPdef (mbar)</th>\n",
              "      <th>sh (g/kg)</th>\n",
              "      <th>H2OC (mmol/mol)</th>\n",
              "      <th>rho (g/m**3)</th>\n",
              "      <th>wv (m/s)</th>\n",
              "      <th>max. wv (m/s)</th>\n",
              "      <th>wd (deg)</th>\n",
              "    </tr>\n",
              "  </thead>\n",
              "  <tbody>\n",
              "    <tr>\n",
              "      <th>0</th>\n",
              "      <td>01.01.2009 00:10:00</td>\n",
              "      <td>996.52</td>\n",
              "      <td>-8.02</td>\n",
              "      <td>265.40</td>\n",
              "      <td>-8.90</td>\n",
              "      <td>93.30</td>\n",
              "      <td>3.33</td>\n",
              "      <td>3.11</td>\n",
              "      <td>0.22</td>\n",
              "      <td>1.94</td>\n",
              "      <td>3.12</td>\n",
              "      <td>1307.75</td>\n",
              "      <td>1.03</td>\n",
              "      <td>1.75</td>\n",
              "      <td>152.3</td>\n",
              "    </tr>\n",
              "    <tr>\n",
              "      <th>1</th>\n",
              "      <td>01.01.2009 00:20:00</td>\n",
              "      <td>996.57</td>\n",
              "      <td>-8.41</td>\n",
              "      <td>265.01</td>\n",
              "      <td>-9.28</td>\n",
              "      <td>93.40</td>\n",
              "      <td>3.23</td>\n",
              "      <td>3.02</td>\n",
              "      <td>0.21</td>\n",
              "      <td>1.89</td>\n",
              "      <td>3.03</td>\n",
              "      <td>1309.80</td>\n",
              "      <td>0.72</td>\n",
              "      <td>1.50</td>\n",
              "      <td>136.1</td>\n",
              "    </tr>\n",
              "    <tr>\n",
              "      <th>2</th>\n",
              "      <td>01.01.2009 00:30:00</td>\n",
              "      <td>996.53</td>\n",
              "      <td>-8.51</td>\n",
              "      <td>264.91</td>\n",
              "      <td>-9.31</td>\n",
              "      <td>93.90</td>\n",
              "      <td>3.21</td>\n",
              "      <td>3.01</td>\n",
              "      <td>0.20</td>\n",
              "      <td>1.88</td>\n",
              "      <td>3.02</td>\n",
              "      <td>1310.24</td>\n",
              "      <td>0.19</td>\n",
              "      <td>0.63</td>\n",
              "      <td>171.6</td>\n",
              "    </tr>\n",
              "    <tr>\n",
              "      <th>3</th>\n",
              "      <td>01.01.2009 00:40:00</td>\n",
              "      <td>996.51</td>\n",
              "      <td>-8.31</td>\n",
              "      <td>265.12</td>\n",
              "      <td>-9.07</td>\n",
              "      <td>94.20</td>\n",
              "      <td>3.26</td>\n",
              "      <td>3.07</td>\n",
              "      <td>0.19</td>\n",
              "      <td>1.92</td>\n",
              "      <td>3.08</td>\n",
              "      <td>1309.19</td>\n",
              "      <td>0.34</td>\n",
              "      <td>0.50</td>\n",
              "      <td>198.0</td>\n",
              "    </tr>\n",
              "    <tr>\n",
              "      <th>4</th>\n",
              "      <td>01.01.2009 00:50:00</td>\n",
              "      <td>996.51</td>\n",
              "      <td>-8.27</td>\n",
              "      <td>265.15</td>\n",
              "      <td>-9.04</td>\n",
              "      <td>94.10</td>\n",
              "      <td>3.27</td>\n",
              "      <td>3.08</td>\n",
              "      <td>0.19</td>\n",
              "      <td>1.92</td>\n",
              "      <td>3.09</td>\n",
              "      <td>1309.00</td>\n",
              "      <td>0.32</td>\n",
              "      <td>0.63</td>\n",
              "      <td>214.3</td>\n",
              "    </tr>\n",
              "    <tr>\n",
              "      <th>...</th>\n",
              "      <td>...</td>\n",
              "      <td>...</td>\n",
              "      <td>...</td>\n",
              "      <td>...</td>\n",
              "      <td>...</td>\n",
              "      <td>...</td>\n",
              "      <td>...</td>\n",
              "      <td>...</td>\n",
              "      <td>...</td>\n",
              "      <td>...</td>\n",
              "      <td>...</td>\n",
              "      <td>...</td>\n",
              "      <td>...</td>\n",
              "      <td>...</td>\n",
              "      <td>...</td>\n",
              "    </tr>\n",
              "    <tr>\n",
              "      <th>420546</th>\n",
              "      <td>31.12.2016 23:20:00</td>\n",
              "      <td>1000.07</td>\n",
              "      <td>-4.05</td>\n",
              "      <td>269.10</td>\n",
              "      <td>-8.13</td>\n",
              "      <td>73.10</td>\n",
              "      <td>4.52</td>\n",
              "      <td>3.30</td>\n",
              "      <td>1.22</td>\n",
              "      <td>2.06</td>\n",
              "      <td>3.30</td>\n",
              "      <td>1292.98</td>\n",
              "      <td>0.67</td>\n",
              "      <td>1.52</td>\n",
              "      <td>240.0</td>\n",
              "    </tr>\n",
              "    <tr>\n",
              "      <th>420547</th>\n",
              "      <td>31.12.2016 23:30:00</td>\n",
              "      <td>999.93</td>\n",
              "      <td>-3.35</td>\n",
              "      <td>269.81</td>\n",
              "      <td>-8.06</td>\n",
              "      <td>69.71</td>\n",
              "      <td>4.77</td>\n",
              "      <td>3.32</td>\n",
              "      <td>1.44</td>\n",
              "      <td>2.07</td>\n",
              "      <td>3.32</td>\n",
              "      <td>1289.44</td>\n",
              "      <td>1.14</td>\n",
              "      <td>1.92</td>\n",
              "      <td>234.3</td>\n",
              "    </tr>\n",
              "    <tr>\n",
              "      <th>420548</th>\n",
              "      <td>31.12.2016 23:40:00</td>\n",
              "      <td>999.82</td>\n",
              "      <td>-3.16</td>\n",
              "      <td>270.01</td>\n",
              "      <td>-8.21</td>\n",
              "      <td>67.91</td>\n",
              "      <td>4.84</td>\n",
              "      <td>3.28</td>\n",
              "      <td>1.55</td>\n",
              "      <td>2.05</td>\n",
              "      <td>3.28</td>\n",
              "      <td>1288.39</td>\n",
              "      <td>1.08</td>\n",
              "      <td>2.00</td>\n",
              "      <td>215.2</td>\n",
              "    </tr>\n",
              "    <tr>\n",
              "      <th>420549</th>\n",
              "      <td>31.12.2016 23:50:00</td>\n",
              "      <td>999.81</td>\n",
              "      <td>-4.23</td>\n",
              "      <td>268.94</td>\n",
              "      <td>-8.53</td>\n",
              "      <td>71.80</td>\n",
              "      <td>4.46</td>\n",
              "      <td>3.20</td>\n",
              "      <td>1.26</td>\n",
              "      <td>1.99</td>\n",
              "      <td>3.20</td>\n",
              "      <td>1293.56</td>\n",
              "      <td>1.49</td>\n",
              "      <td>2.16</td>\n",
              "      <td>225.8</td>\n",
              "    </tr>\n",
              "    <tr>\n",
              "      <th>420550</th>\n",
              "      <td>01.01.2017 00:00:00</td>\n",
              "      <td>999.82</td>\n",
              "      <td>-4.82</td>\n",
              "      <td>268.36</td>\n",
              "      <td>-8.42</td>\n",
              "      <td>75.70</td>\n",
              "      <td>4.27</td>\n",
              "      <td>3.23</td>\n",
              "      <td>1.04</td>\n",
              "      <td>2.01</td>\n",
              "      <td>3.23</td>\n",
              "      <td>1296.38</td>\n",
              "      <td>1.23</td>\n",
              "      <td>1.96</td>\n",
              "      <td>184.9</td>\n",
              "    </tr>\n",
              "  </tbody>\n",
              "</table>\n",
              "<p>420551 rows × 15 columns</p>\n",
              "</div>\n",
              "      <button class=\"colab-df-convert\" onclick=\"convertToInteractive('df-ab9690ac-7591-40d6-b004-4868f3000ab6')\"\n",
              "              title=\"Convert this dataframe to an interactive table.\"\n",
              "              style=\"display:none;\">\n",
              "        \n",
              "  <svg xmlns=\"http://www.w3.org/2000/svg\" height=\"24px\"viewBox=\"0 0 24 24\"\n",
              "       width=\"24px\">\n",
              "    <path d=\"M0 0h24v24H0V0z\" fill=\"none\"/>\n",
              "    <path d=\"M18.56 5.44l.94 2.06.94-2.06 2.06-.94-2.06-.94-.94-2.06-.94 2.06-2.06.94zm-11 1L8.5 8.5l.94-2.06 2.06-.94-2.06-.94L8.5 2.5l-.94 2.06-2.06.94zm10 10l.94 2.06.94-2.06 2.06-.94-2.06-.94-.94-2.06-.94 2.06-2.06.94z\"/><path d=\"M17.41 7.96l-1.37-1.37c-.4-.4-.92-.59-1.43-.59-.52 0-1.04.2-1.43.59L10.3 9.45l-7.72 7.72c-.78.78-.78 2.05 0 2.83L4 21.41c.39.39.9.59 1.41.59.51 0 1.02-.2 1.41-.59l7.78-7.78 2.81-2.81c.8-.78.8-2.07 0-2.86zM5.41 20L4 18.59l7.72-7.72 1.47 1.35L5.41 20z\"/>\n",
              "  </svg>\n",
              "      </button>\n",
              "      \n",
              "  <style>\n",
              "    .colab-df-container {\n",
              "      display:flex;\n",
              "      flex-wrap:wrap;\n",
              "      gap: 12px;\n",
              "    }\n",
              "\n",
              "    .colab-df-convert {\n",
              "      background-color: #E8F0FE;\n",
              "      border: none;\n",
              "      border-radius: 50%;\n",
              "      cursor: pointer;\n",
              "      display: none;\n",
              "      fill: #1967D2;\n",
              "      height: 32px;\n",
              "      padding: 0 0 0 0;\n",
              "      width: 32px;\n",
              "    }\n",
              "\n",
              "    .colab-df-convert:hover {\n",
              "      background-color: #E2EBFA;\n",
              "      box-shadow: 0px 1px 2px rgba(60, 64, 67, 0.3), 0px 1px 3px 1px rgba(60, 64, 67, 0.15);\n",
              "      fill: #174EA6;\n",
              "    }\n",
              "\n",
              "    [theme=dark] .colab-df-convert {\n",
              "      background-color: #3B4455;\n",
              "      fill: #D2E3FC;\n",
              "    }\n",
              "\n",
              "    [theme=dark] .colab-df-convert:hover {\n",
              "      background-color: #434B5C;\n",
              "      box-shadow: 0px 1px 3px 1px rgba(0, 0, 0, 0.15);\n",
              "      filter: drop-shadow(0px 1px 2px rgba(0, 0, 0, 0.3));\n",
              "      fill: #FFFFFF;\n",
              "    }\n",
              "  </style>\n",
              "\n",
              "      <script>\n",
              "        const buttonEl =\n",
              "          document.querySelector('#df-ab9690ac-7591-40d6-b004-4868f3000ab6 button.colab-df-convert');\n",
              "        buttonEl.style.display =\n",
              "          google.colab.kernel.accessAllowed ? 'block' : 'none';\n",
              "\n",
              "        async function convertToInteractive(key) {\n",
              "          const element = document.querySelector('#df-ab9690ac-7591-40d6-b004-4868f3000ab6');\n",
              "          const dataTable =\n",
              "            await google.colab.kernel.invokeFunction('convertToInteractive',\n",
              "                                                     [key], {});\n",
              "          if (!dataTable) return;\n",
              "\n",
              "          const docLinkHtml = 'Like what you see? Visit the ' +\n",
              "            '<a target=\"_blank\" href=https://colab.research.google.com/notebooks/data_table.ipynb>data table notebook</a>'\n",
              "            + ' to learn more about interactive tables.';\n",
              "          element.innerHTML = '';\n",
              "          dataTable['output_type'] = 'display_data';\n",
              "          await google.colab.output.renderOutput(dataTable, element);\n",
              "          const docLink = document.createElement('div');\n",
              "          docLink.innerHTML = docLinkHtml;\n",
              "          element.appendChild(docLink);\n",
              "        }\n",
              "      </script>\n",
              "    </div>\n",
              "  </div>\n",
              "  "
            ]
          },
          "metadata": {},
          "execution_count": 2
        }
      ]
    },
    {
      "cell_type": "markdown",
      "source": [
        "##3. Data Understanding##"
      ],
      "metadata": {
        "id": "XvMw_LhUEBks"
      }
    },
    {
      "cell_type": "markdown",
      "source": [
        "![image.png](data:image/png;base64,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)"
      ],
      "metadata": {
        "id": "bbae37gNEBks"
      }
    },
    {
      "cell_type": "code",
      "source": [
        "jena_climate_data.dtypes"
      ],
      "metadata": {
        "colab": {
          "base_uri": "https://localhost:8080/"
        },
        "outputId": "e42b203a-ac3f-4706-909f-7c8c1978be08",
        "id": "Ox4ERKGEEBkx"
      },
      "execution_count": null,
      "outputs": [
        {
          "output_type": "execute_result",
          "data": {
            "text/plain": [
              "Date Time           object\n",
              "p (mbar)           float64\n",
              "T (degC)           float64\n",
              "Tpot (K)           float64\n",
              "Tdew (degC)        float64\n",
              "rh (%)             float64\n",
              "VPmax (mbar)       float64\n",
              "VPact (mbar)       float64\n",
              "VPdef (mbar)       float64\n",
              "sh (g/kg)          float64\n",
              "H2OC (mmol/mol)    float64\n",
              "rho (g/m**3)       float64\n",
              "wv (m/s)           float64\n",
              "max. wv (m/s)      float64\n",
              "wd (deg)           float64\n",
              "dtype: object"
            ]
          },
          "metadata": {},
          "execution_count": 3
        }
      ]
    },
    {
      "cell_type": "markdown",
      "source": [
        "##4. Data Preparation##"
      ],
      "metadata": {
        "id": "CzYrcvQgEBkx"
      }
    },
    {
      "cell_type": "code",
      "source": [
        "jena_temp = jena_climate_data[['Date Time','T (degC)']]\n",
        "jena_temp"
      ],
      "metadata": {
        "colab": {
          "base_uri": "https://localhost:8080/",
          "height": 424
        },
        "outputId": "59fd61b3-5f31-4023-9412-2913344ff3eb",
        "id": "fC3SLQZBEBkx"
      },
      "execution_count": null,
      "outputs": [
        {
          "output_type": "execute_result",
          "data": {
            "text/plain": [
              "                  Date Time  T (degC)\n",
              "0       01.01.2009 00:10:00     -8.02\n",
              "1       01.01.2009 00:20:00     -8.41\n",
              "2       01.01.2009 00:30:00     -8.51\n",
              "3       01.01.2009 00:40:00     -8.31\n",
              "4       01.01.2009 00:50:00     -8.27\n",
              "...                     ...       ...\n",
              "420546  31.12.2016 23:20:00     -4.05\n",
              "420547  31.12.2016 23:30:00     -3.35\n",
              "420548  31.12.2016 23:40:00     -3.16\n",
              "420549  31.12.2016 23:50:00     -4.23\n",
              "420550  01.01.2017 00:00:00     -4.82\n",
              "\n",
              "[420551 rows x 2 columns]"
            ],
            "text/html": [
              "\n",
              "  <div id=\"df-ad1f430a-ced0-457d-aca8-2021a898dfea\">\n",
              "    <div class=\"colab-df-container\">\n",
              "      <div>\n",
              "<style scoped>\n",
              "    .dataframe tbody tr th:only-of-type {\n",
              "        vertical-align: middle;\n",
              "    }\n",
              "\n",
              "    .dataframe tbody tr th {\n",
              "        vertical-align: top;\n",
              "    }\n",
              "\n",
              "    .dataframe thead th {\n",
              "        text-align: right;\n",
              "    }\n",
              "</style>\n",
              "<table border=\"1\" class=\"dataframe\">\n",
              "  <thead>\n",
              "    <tr style=\"text-align: right;\">\n",
              "      <th></th>\n",
              "      <th>Date Time</th>\n",
              "      <th>T (degC)</th>\n",
              "    </tr>\n",
              "  </thead>\n",
              "  <tbody>\n",
              "    <tr>\n",
              "      <th>0</th>\n",
              "      <td>01.01.2009 00:10:00</td>\n",
              "      <td>-8.02</td>\n",
              "    </tr>\n",
              "    <tr>\n",
              "      <th>1</th>\n",
              "      <td>01.01.2009 00:20:00</td>\n",
              "      <td>-8.41</td>\n",
              "    </tr>\n",
              "    <tr>\n",
              "      <th>2</th>\n",
              "      <td>01.01.2009 00:30:00</td>\n",
              "      <td>-8.51</td>\n",
              "    </tr>\n",
              "    <tr>\n",
              "      <th>3</th>\n",
              "      <td>01.01.2009 00:40:00</td>\n",
              "      <td>-8.31</td>\n",
              "    </tr>\n",
              "    <tr>\n",
              "      <th>4</th>\n",
              "      <td>01.01.2009 00:50:00</td>\n",
              "      <td>-8.27</td>\n",
              "    </tr>\n",
              "    <tr>\n",
              "      <th>...</th>\n",
              "      <td>...</td>\n",
              "      <td>...</td>\n",
              "    </tr>\n",
              "    <tr>\n",
              "      <th>420546</th>\n",
              "      <td>31.12.2016 23:20:00</td>\n",
              "      <td>-4.05</td>\n",
              "    </tr>\n",
              "    <tr>\n",
              "      <th>420547</th>\n",
              "      <td>31.12.2016 23:30:00</td>\n",
              "      <td>-3.35</td>\n",
              "    </tr>\n",
              "    <tr>\n",
              "      <th>420548</th>\n",
              "      <td>31.12.2016 23:40:00</td>\n",
              "      <td>-3.16</td>\n",
              "    </tr>\n",
              "    <tr>\n",
              "      <th>420549</th>\n",
              "      <td>31.12.2016 23:50:00</td>\n",
              "      <td>-4.23</td>\n",
              "    </tr>\n",
              "    <tr>\n",
              "      <th>420550</th>\n",
              "      <td>01.01.2017 00:00:00</td>\n",
              "      <td>-4.82</td>\n",
              "    </tr>\n",
              "  </tbody>\n",
              "</table>\n",
              "<p>420551 rows × 2 columns</p>\n",
              "</div>\n",
              "      <button class=\"colab-df-convert\" onclick=\"convertToInteractive('df-ad1f430a-ced0-457d-aca8-2021a898dfea')\"\n",
              "              title=\"Convert this dataframe to an interactive table.\"\n",
              "              style=\"display:none;\">\n",
              "        \n",
              "  <svg xmlns=\"http://www.w3.org/2000/svg\" height=\"24px\"viewBox=\"0 0 24 24\"\n",
              "       width=\"24px\">\n",
              "    <path d=\"M0 0h24v24H0V0z\" fill=\"none\"/>\n",
              "    <path d=\"M18.56 5.44l.94 2.06.94-2.06 2.06-.94-2.06-.94-.94-2.06-.94 2.06-2.06.94zm-11 1L8.5 8.5l.94-2.06 2.06-.94-2.06-.94L8.5 2.5l-.94 2.06-2.06.94zm10 10l.94 2.06.94-2.06 2.06-.94-2.06-.94-.94-2.06-.94 2.06-2.06.94z\"/><path d=\"M17.41 7.96l-1.37-1.37c-.4-.4-.92-.59-1.43-.59-.52 0-1.04.2-1.43.59L10.3 9.45l-7.72 7.72c-.78.78-.78 2.05 0 2.83L4 21.41c.39.39.9.59 1.41.59.51 0 1.02-.2 1.41-.59l7.78-7.78 2.81-2.81c.8-.78.8-2.07 0-2.86zM5.41 20L4 18.59l7.72-7.72 1.47 1.35L5.41 20z\"/>\n",
              "  </svg>\n",
              "      </button>\n",
              "      \n",
              "  <style>\n",
              "    .colab-df-container {\n",
              "      display:flex;\n",
              "      flex-wrap:wrap;\n",
              "      gap: 12px;\n",
              "    }\n",
              "\n",
              "    .colab-df-convert {\n",
              "      background-color: #E8F0FE;\n",
              "      border: none;\n",
              "      border-radius: 50%;\n",
              "      cursor: pointer;\n",
              "      display: none;\n",
              "      fill: #1967D2;\n",
              "      height: 32px;\n",
              "      padding: 0 0 0 0;\n",
              "      width: 32px;\n",
              "    }\n",
              "\n",
              "    .colab-df-convert:hover {\n",
              "      background-color: #E2EBFA;\n",
              "      box-shadow: 0px 1px 2px rgba(60, 64, 67, 0.3), 0px 1px 3px 1px rgba(60, 64, 67, 0.15);\n",
              "      fill: #174EA6;\n",
              "    }\n",
              "\n",
              "    [theme=dark] .colab-df-convert {\n",
              "      background-color: #3B4455;\n",
              "      fill: #D2E3FC;\n",
              "    }\n",
              "\n",
              "    [theme=dark] .colab-df-convert:hover {\n",
              "      background-color: #434B5C;\n",
              "      box-shadow: 0px 1px 3px 1px rgba(0, 0, 0, 0.15);\n",
              "      filter: drop-shadow(0px 1px 2px rgba(0, 0, 0, 0.3));\n",
              "      fill: #FFFFFF;\n",
              "    }\n",
              "  </style>\n",
              "\n",
              "      <script>\n",
              "        const buttonEl =\n",
              "          document.querySelector('#df-ad1f430a-ced0-457d-aca8-2021a898dfea button.colab-df-convert');\n",
              "        buttonEl.style.display =\n",
              "          google.colab.kernel.accessAllowed ? 'block' : 'none';\n",
              "\n",
              "        async function convertToInteractive(key) {\n",
              "          const element = document.querySelector('#df-ad1f430a-ced0-457d-aca8-2021a898dfea');\n",
              "          const dataTable =\n",
              "            await google.colab.kernel.invokeFunction('convertToInteractive',\n",
              "                                                     [key], {});\n",
              "          if (!dataTable) return;\n",
              "\n",
              "          const docLinkHtml = 'Like what you see? Visit the ' +\n",
              "            '<a target=\"_blank\" href=https://colab.research.google.com/notebooks/data_table.ipynb>data table notebook</a>'\n",
              "            + ' to learn more about interactive tables.';\n",
              "          element.innerHTML = '';\n",
              "          dataTable['output_type'] = 'display_data';\n",
              "          await google.colab.output.renderOutput(dataTable, element);\n",
              "          const docLink = document.createElement('div');\n",
              "          docLink.innerHTML = docLinkHtml;\n",
              "          element.appendChild(docLink);\n",
              "        }\n",
              "      </script>\n",
              "    </div>\n",
              "  </div>\n",
              "  "
            ]
          },
          "metadata": {},
          "execution_count": 4
        }
      ]
    },
    {
      "cell_type": "code",
      "source": [
        "hourly_temp_jena_data = jena_temp[5::6]\n",
        "hourly_temp_jena_data"
      ],
      "metadata": {
        "colab": {
          "base_uri": "https://localhost:8080/",
          "height": 424
        },
        "outputId": "6d7bafd8-1a28-4c7b-b50e-a92410ebed27",
        "id": "lN7c11avEBky"
      },
      "execution_count": null,
      "outputs": [
        {
          "output_type": "execute_result",
          "data": {
            "text/plain": [
              "                  Date Time  T (degC)\n",
              "5       01.01.2009 01:00:00     -8.05\n",
              "11      01.01.2009 02:00:00     -8.88\n",
              "17      01.01.2009 03:00:00     -8.81\n",
              "23      01.01.2009 04:00:00     -9.05\n",
              "29      01.01.2009 05:00:00     -9.63\n",
              "...                     ...       ...\n",
              "420521  31.12.2016 19:10:00     -0.98\n",
              "420527  31.12.2016 20:10:00     -1.40\n",
              "420533  31.12.2016 21:10:00     -2.75\n",
              "420539  31.12.2016 22:10:00     -2.89\n",
              "420545  31.12.2016 23:10:00     -3.93\n",
              "\n",
              "[70091 rows x 2 columns]"
            ],
            "text/html": [
              "\n",
              "  <div id=\"df-6aad62d8-f0de-4508-9c31-5ce9616ff313\">\n",
              "    <div class=\"colab-df-container\">\n",
              "      <div>\n",
              "<style scoped>\n",
              "    .dataframe tbody tr th:only-of-type {\n",
              "        vertical-align: middle;\n",
              "    }\n",
              "\n",
              "    .dataframe tbody tr th {\n",
              "        vertical-align: top;\n",
              "    }\n",
              "\n",
              "    .dataframe thead th {\n",
              "        text-align: right;\n",
              "    }\n",
              "</style>\n",
              "<table border=\"1\" class=\"dataframe\">\n",
              "  <thead>\n",
              "    <tr style=\"text-align: right;\">\n",
              "      <th></th>\n",
              "      <th>Date Time</th>\n",
              "      <th>T (degC)</th>\n",
              "    </tr>\n",
              "  </thead>\n",
              "  <tbody>\n",
              "    <tr>\n",
              "      <th>5</th>\n",
              "      <td>01.01.2009 01:00:00</td>\n",
              "      <td>-8.05</td>\n",
              "    </tr>\n",
              "    <tr>\n",
              "      <th>11</th>\n",
              "      <td>01.01.2009 02:00:00</td>\n",
              "      <td>-8.88</td>\n",
              "    </tr>\n",
              "    <tr>\n",
              "      <th>17</th>\n",
              "      <td>01.01.2009 03:00:00</td>\n",
              "      <td>-8.81</td>\n",
              "    </tr>\n",
              "    <tr>\n",
              "      <th>23</th>\n",
              "      <td>01.01.2009 04:00:00</td>\n",
              "      <td>-9.05</td>\n",
              "    </tr>\n",
              "    <tr>\n",
              "      <th>29</th>\n",
              "      <td>01.01.2009 05:00:00</td>\n",
              "      <td>-9.63</td>\n",
              "    </tr>\n",
              "    <tr>\n",
              "      <th>...</th>\n",
              "      <td>...</td>\n",
              "      <td>...</td>\n",
              "    </tr>\n",
              "    <tr>\n",
              "      <th>420521</th>\n",
              "      <td>31.12.2016 19:10:00</td>\n",
              "      <td>-0.98</td>\n",
              "    </tr>\n",
              "    <tr>\n",
              "      <th>420527</th>\n",
              "      <td>31.12.2016 20:10:00</td>\n",
              "      <td>-1.40</td>\n",
              "    </tr>\n",
              "    <tr>\n",
              "      <th>420533</th>\n",
              "      <td>31.12.2016 21:10:00</td>\n",
              "      <td>-2.75</td>\n",
              "    </tr>\n",
              "    <tr>\n",
              "      <th>420539</th>\n",
              "      <td>31.12.2016 22:10:00</td>\n",
              "      <td>-2.89</td>\n",
              "    </tr>\n",
              "    <tr>\n",
              "      <th>420545</th>\n",
              "      <td>31.12.2016 23:10:00</td>\n",
              "      <td>-3.93</td>\n",
              "    </tr>\n",
              "  </tbody>\n",
              "</table>\n",
              "<p>70091 rows × 2 columns</p>\n",
              "</div>\n",
              "      <button class=\"colab-df-convert\" onclick=\"convertToInteractive('df-6aad62d8-f0de-4508-9c31-5ce9616ff313')\"\n",
              "              title=\"Convert this dataframe to an interactive table.\"\n",
              "              style=\"display:none;\">\n",
              "        \n",
              "  <svg xmlns=\"http://www.w3.org/2000/svg\" height=\"24px\"viewBox=\"0 0 24 24\"\n",
              "       width=\"24px\">\n",
              "    <path d=\"M0 0h24v24H0V0z\" fill=\"none\"/>\n",
              "    <path d=\"M18.56 5.44l.94 2.06.94-2.06 2.06-.94-2.06-.94-.94-2.06-.94 2.06-2.06.94zm-11 1L8.5 8.5l.94-2.06 2.06-.94-2.06-.94L8.5 2.5l-.94 2.06-2.06.94zm10 10l.94 2.06.94-2.06 2.06-.94-2.06-.94-.94-2.06-.94 2.06-2.06.94z\"/><path d=\"M17.41 7.96l-1.37-1.37c-.4-.4-.92-.59-1.43-.59-.52 0-1.04.2-1.43.59L10.3 9.45l-7.72 7.72c-.78.78-.78 2.05 0 2.83L4 21.41c.39.39.9.59 1.41.59.51 0 1.02-.2 1.41-.59l7.78-7.78 2.81-2.81c.8-.78.8-2.07 0-2.86zM5.41 20L4 18.59l7.72-7.72 1.47 1.35L5.41 20z\"/>\n",
              "  </svg>\n",
              "      </button>\n",
              "      \n",
              "  <style>\n",
              "    .colab-df-container {\n",
              "      display:flex;\n",
              "      flex-wrap:wrap;\n",
              "      gap: 12px;\n",
              "    }\n",
              "\n",
              "    .colab-df-convert {\n",
              "      background-color: #E8F0FE;\n",
              "      border: none;\n",
              "      border-radius: 50%;\n",
              "      cursor: pointer;\n",
              "      display: none;\n",
              "      fill: #1967D2;\n",
              "      height: 32px;\n",
              "      padding: 0 0 0 0;\n",
              "      width: 32px;\n",
              "    }\n",
              "\n",
              "    .colab-df-convert:hover {\n",
              "      background-color: #E2EBFA;\n",
              "      box-shadow: 0px 1px 2px rgba(60, 64, 67, 0.3), 0px 1px 3px 1px rgba(60, 64, 67, 0.15);\n",
              "      fill: #174EA6;\n",
              "    }\n",
              "\n",
              "    [theme=dark] .colab-df-convert {\n",
              "      background-color: #3B4455;\n",
              "      fill: #D2E3FC;\n",
              "    }\n",
              "\n",
              "    [theme=dark] .colab-df-convert:hover {\n",
              "      background-color: #434B5C;\n",
              "      box-shadow: 0px 1px 3px 1px rgba(0, 0, 0, 0.15);\n",
              "      filter: drop-shadow(0px 1px 2px rgba(0, 0, 0, 0.3));\n",
              "      fill: #FFFFFF;\n",
              "    }\n",
              "  </style>\n",
              "\n",
              "      <script>\n",
              "        const buttonEl =\n",
              "          document.querySelector('#df-6aad62d8-f0de-4508-9c31-5ce9616ff313 button.colab-df-convert');\n",
              "        buttonEl.style.display =\n",
              "          google.colab.kernel.accessAllowed ? 'block' : 'none';\n",
              "\n",
              "        async function convertToInteractive(key) {\n",
              "          const element = document.querySelector('#df-6aad62d8-f0de-4508-9c31-5ce9616ff313');\n",
              "          const dataTable =\n",
              "            await google.colab.kernel.invokeFunction('convertToInteractive',\n",
              "                                                     [key], {});\n",
              "          if (!dataTable) return;\n",
              "\n",
              "          const docLinkHtml = 'Like what you see? Visit the ' +\n",
              "            '<a target=\"_blank\" href=https://colab.research.google.com/notebooks/data_table.ipynb>data table notebook</a>'\n",
              "            + ' to learn more about interactive tables.';\n",
              "          element.innerHTML = '';\n",
              "          dataTable['output_type'] = 'display_data';\n",
              "          await google.colab.output.renderOutput(dataTable, element);\n",
              "          const docLink = document.createElement('div');\n",
              "          docLink.innerHTML = docLinkHtml;\n",
              "          element.appendChild(docLink);\n",
              "        }\n",
              "      </script>\n",
              "    </div>\n",
              "  </div>\n",
              "  "
            ]
          },
          "metadata": {},
          "execution_count": 5
        }
      ]
    },
    {
      "cell_type": "code",
      "source": [
        "hourly_temp_jena_data.dtypes"
      ],
      "metadata": {
        "colab": {
          "base_uri": "https://localhost:8080/"
        },
        "outputId": "8ca7ffc4-6dbe-4a21-aa28-2c40a41a1b1c",
        "id": "nya_Y8b8EBky"
      },
      "execution_count": null,
      "outputs": [
        {
          "output_type": "execute_result",
          "data": {
            "text/plain": [
              "Date Time     object\n",
              "T (degC)     float64\n",
              "dtype: object"
            ]
          },
          "metadata": {},
          "execution_count": 6
        }
      ]
    },
    {
      "cell_type": "code",
      "source": [
        "hourly_temp_jena_data['Date Time'] = pd.to_datetime(hourly_temp_jena_data['Date Time'])\n",
        "hourly_temp_jena_data"
      ],
      "metadata": {
        "colab": {
          "base_uri": "https://localhost:8080/",
          "height": 424
        },
        "outputId": "94d76525-0e51-4dc3-a7d8-d53687c6d916",
        "id": "gSm9zLssEBky"
      },
      "execution_count": null,
      "outputs": [
        {
          "output_type": "execute_result",
          "data": {
            "text/plain": [
              "                 Date Time  T (degC)\n",
              "5      2009-01-01 01:00:00     -8.05\n",
              "11     2009-01-01 02:00:00     -8.88\n",
              "17     2009-01-01 03:00:00     -8.81\n",
              "23     2009-01-01 04:00:00     -9.05\n",
              "29     2009-01-01 05:00:00     -9.63\n",
              "...                    ...       ...\n",
              "420521 2016-12-31 19:10:00     -0.98\n",
              "420527 2016-12-31 20:10:00     -1.40\n",
              "420533 2016-12-31 21:10:00     -2.75\n",
              "420539 2016-12-31 22:10:00     -2.89\n",
              "420545 2016-12-31 23:10:00     -3.93\n",
              "\n",
              "[70091 rows x 2 columns]"
            ],
            "text/html": [
              "\n",
              "  <div id=\"df-85c3f9c9-02b4-435a-8655-5d0344f9a4c9\">\n",
              "    <div class=\"colab-df-container\">\n",
              "      <div>\n",
              "<style scoped>\n",
              "    .dataframe tbody tr th:only-of-type {\n",
              "        vertical-align: middle;\n",
              "    }\n",
              "\n",
              "    .dataframe tbody tr th {\n",
              "        vertical-align: top;\n",
              "    }\n",
              "\n",
              "    .dataframe thead th {\n",
              "        text-align: right;\n",
              "    }\n",
              "</style>\n",
              "<table border=\"1\" class=\"dataframe\">\n",
              "  <thead>\n",
              "    <tr style=\"text-align: right;\">\n",
              "      <th></th>\n",
              "      <th>Date Time</th>\n",
              "      <th>T (degC)</th>\n",
              "    </tr>\n",
              "  </thead>\n",
              "  <tbody>\n",
              "    <tr>\n",
              "      <th>5</th>\n",
              "      <td>2009-01-01 01:00:00</td>\n",
              "      <td>-8.05</td>\n",
              "    </tr>\n",
              "    <tr>\n",
              "      <th>11</th>\n",
              "      <td>2009-01-01 02:00:00</td>\n",
              "      <td>-8.88</td>\n",
              "    </tr>\n",
              "    <tr>\n",
              "      <th>17</th>\n",
              "      <td>2009-01-01 03:00:00</td>\n",
              "      <td>-8.81</td>\n",
              "    </tr>\n",
              "    <tr>\n",
              "      <th>23</th>\n",
              "      <td>2009-01-01 04:00:00</td>\n",
              "      <td>-9.05</td>\n",
              "    </tr>\n",
              "    <tr>\n",
              "      <th>29</th>\n",
              "      <td>2009-01-01 05:00:00</td>\n",
              "      <td>-9.63</td>\n",
              "    </tr>\n",
              "    <tr>\n",
              "      <th>...</th>\n",
              "      <td>...</td>\n",
              "      <td>...</td>\n",
              "    </tr>\n",
              "    <tr>\n",
              "      <th>420521</th>\n",
              "      <td>2016-12-31 19:10:00</td>\n",
              "      <td>-0.98</td>\n",
              "    </tr>\n",
              "    <tr>\n",
              "      <th>420527</th>\n",
              "      <td>2016-12-31 20:10:00</td>\n",
              "      <td>-1.40</td>\n",
              "    </tr>\n",
              "    <tr>\n",
              "      <th>420533</th>\n",
              "      <td>2016-12-31 21:10:00</td>\n",
              "      <td>-2.75</td>\n",
              "    </tr>\n",
              "    <tr>\n",
              "      <th>420539</th>\n",
              "      <td>2016-12-31 22:10:00</td>\n",
              "      <td>-2.89</td>\n",
              "    </tr>\n",
              "    <tr>\n",
              "      <th>420545</th>\n",
              "      <td>2016-12-31 23:10:00</td>\n",
              "      <td>-3.93</td>\n",
              "    </tr>\n",
              "  </tbody>\n",
              "</table>\n",
              "<p>70091 rows × 2 columns</p>\n",
              "</div>\n",
              "      <button class=\"colab-df-convert\" onclick=\"convertToInteractive('df-85c3f9c9-02b4-435a-8655-5d0344f9a4c9')\"\n",
              "              title=\"Convert this dataframe to an interactive table.\"\n",
              "              style=\"display:none;\">\n",
              "        \n",
              "  <svg xmlns=\"http://www.w3.org/2000/svg\" height=\"24px\"viewBox=\"0 0 24 24\"\n",
              "       width=\"24px\">\n",
              "    <path d=\"M0 0h24v24H0V0z\" fill=\"none\"/>\n",
              "    <path d=\"M18.56 5.44l.94 2.06.94-2.06 2.06-.94-2.06-.94-.94-2.06-.94 2.06-2.06.94zm-11 1L8.5 8.5l.94-2.06 2.06-.94-2.06-.94L8.5 2.5l-.94 2.06-2.06.94zm10 10l.94 2.06.94-2.06 2.06-.94-2.06-.94-.94-2.06-.94 2.06-2.06.94z\"/><path d=\"M17.41 7.96l-1.37-1.37c-.4-.4-.92-.59-1.43-.59-.52 0-1.04.2-1.43.59L10.3 9.45l-7.72 7.72c-.78.78-.78 2.05 0 2.83L4 21.41c.39.39.9.59 1.41.59.51 0 1.02-.2 1.41-.59l7.78-7.78 2.81-2.81c.8-.78.8-2.07 0-2.86zM5.41 20L4 18.59l7.72-7.72 1.47 1.35L5.41 20z\"/>\n",
              "  </svg>\n",
              "      </button>\n",
              "      \n",
              "  <style>\n",
              "    .colab-df-container {\n",
              "      display:flex;\n",
              "      flex-wrap:wrap;\n",
              "      gap: 12px;\n",
              "    }\n",
              "\n",
              "    .colab-df-convert {\n",
              "      background-color: #E8F0FE;\n",
              "      border: none;\n",
              "      border-radius: 50%;\n",
              "      cursor: pointer;\n",
              "      display: none;\n",
              "      fill: #1967D2;\n",
              "      height: 32px;\n",
              "      padding: 0 0 0 0;\n",
              "      width: 32px;\n",
              "    }\n",
              "\n",
              "    .colab-df-convert:hover {\n",
              "      background-color: #E2EBFA;\n",
              "      box-shadow: 0px 1px 2px rgba(60, 64, 67, 0.3), 0px 1px 3px 1px rgba(60, 64, 67, 0.15);\n",
              "      fill: #174EA6;\n",
              "    }\n",
              "\n",
              "    [theme=dark] .colab-df-convert {\n",
              "      background-color: #3B4455;\n",
              "      fill: #D2E3FC;\n",
              "    }\n",
              "\n",
              "    [theme=dark] .colab-df-convert:hover {\n",
              "      background-color: #434B5C;\n",
              "      box-shadow: 0px 1px 3px 1px rgba(0, 0, 0, 0.15);\n",
              "      filter: drop-shadow(0px 1px 2px rgba(0, 0, 0, 0.3));\n",
              "      fill: #FFFFFF;\n",
              "    }\n",
              "  </style>\n",
              "\n",
              "      <script>\n",
              "        const buttonEl =\n",
              "          document.querySelector('#df-85c3f9c9-02b4-435a-8655-5d0344f9a4c9 button.colab-df-convert');\n",
              "        buttonEl.style.display =\n",
              "          google.colab.kernel.accessAllowed ? 'block' : 'none';\n",
              "\n",
              "        async function convertToInteractive(key) {\n",
              "          const element = document.querySelector('#df-85c3f9c9-02b4-435a-8655-5d0344f9a4c9');\n",
              "          const dataTable =\n",
              "            await google.colab.kernel.invokeFunction('convertToInteractive',\n",
              "                                                     [key], {});\n",
              "          if (!dataTable) return;\n",
              "\n",
              "          const docLinkHtml = 'Like what you see? Visit the ' +\n",
              "            '<a target=\"_blank\" href=https://colab.research.google.com/notebooks/data_table.ipynb>data table notebook</a>'\n",
              "            + ' to learn more about interactive tables.';\n",
              "          element.innerHTML = '';\n",
              "          dataTable['output_type'] = 'display_data';\n",
              "          await google.colab.output.renderOutput(dataTable, element);\n",
              "          const docLink = document.createElement('div');\n",
              "          docLink.innerHTML = docLinkHtml;\n",
              "          element.appendChild(docLink);\n",
              "        }\n",
              "      </script>\n",
              "    </div>\n",
              "  </div>\n",
              "  "
            ]
          },
          "metadata": {},
          "execution_count": 7
        }
      ]
    },
    {
      "cell_type": "code",
      "source": [
        "import warnings\n",
        "warnings.filterwarnings('ignore')"
      ],
      "metadata": {
        "id": "emZdzRp8EBkz"
      },
      "execution_count": null,
      "outputs": []
    },
    {
      "cell_type": "code",
      "source": [
        "hourly_temp_jena_data.dtypes"
      ],
      "metadata": {
        "colab": {
          "base_uri": "https://localhost:8080/"
        },
        "outputId": "34601deb-2d9b-469a-a7a1-ba3ed089f2b1",
        "id": "gbkwrC2PEBkz"
      },
      "execution_count": null,
      "outputs": [
        {
          "output_type": "execute_result",
          "data": {
            "text/plain": [
              "Date Time    datetime64[ns]\n",
              "T (degC)            float64\n",
              "dtype: object"
            ]
          },
          "metadata": {},
          "execution_count": 9
        }
      ]
    },
    {
      "cell_type": "code",
      "source": [
        "hourly_temp_jena_data.index = hourly_temp_jena_data['Date Time']"
      ],
      "metadata": {
        "id": "DzykmP5OEBk0"
      },
      "execution_count": null,
      "outputs": []
    },
    {
      "cell_type": "code",
      "source": [
        "hourly_temp_jena_data"
      ],
      "metadata": {
        "colab": {
          "base_uri": "https://localhost:8080/",
          "height": 455
        },
        "outputId": "ac398668-6ca7-4b9c-9875-a89997b09ff6",
        "id": "dbyB5gDNEBk0"
      },
      "execution_count": null,
      "outputs": [
        {
          "output_type": "execute_result",
          "data": {
            "text/plain": [
              "                              Date Time  T (degC)\n",
              "Date Time                                        \n",
              "2009-01-01 01:00:00 2009-01-01 01:00:00     -8.05\n",
              "2009-01-01 02:00:00 2009-01-01 02:00:00     -8.88\n",
              "2009-01-01 03:00:00 2009-01-01 03:00:00     -8.81\n",
              "2009-01-01 04:00:00 2009-01-01 04:00:00     -9.05\n",
              "2009-01-01 05:00:00 2009-01-01 05:00:00     -9.63\n",
              "...                                 ...       ...\n",
              "2016-12-31 19:10:00 2016-12-31 19:10:00     -0.98\n",
              "2016-12-31 20:10:00 2016-12-31 20:10:00     -1.40\n",
              "2016-12-31 21:10:00 2016-12-31 21:10:00     -2.75\n",
              "2016-12-31 22:10:00 2016-12-31 22:10:00     -2.89\n",
              "2016-12-31 23:10:00 2016-12-31 23:10:00     -3.93\n",
              "\n",
              "[70091 rows x 2 columns]"
            ],
            "text/html": [
              "\n",
              "  <div id=\"df-671ffdaa-f441-435f-b78a-e8163c11040f\">\n",
              "    <div class=\"colab-df-container\">\n",
              "      <div>\n",
              "<style scoped>\n",
              "    .dataframe tbody tr th:only-of-type {\n",
              "        vertical-align: middle;\n",
              "    }\n",
              "\n",
              "    .dataframe tbody tr th {\n",
              "        vertical-align: top;\n",
              "    }\n",
              "\n",
              "    .dataframe thead th {\n",
              "        text-align: right;\n",
              "    }\n",
              "</style>\n",
              "<table border=\"1\" class=\"dataframe\">\n",
              "  <thead>\n",
              "    <tr style=\"text-align: right;\">\n",
              "      <th></th>\n",
              "      <th>Date Time</th>\n",
              "      <th>T (degC)</th>\n",
              "    </tr>\n",
              "    <tr>\n",
              "      <th>Date Time</th>\n",
              "      <th></th>\n",
              "      <th></th>\n",
              "    </tr>\n",
              "  </thead>\n",
              "  <tbody>\n",
              "    <tr>\n",
              "      <th>2009-01-01 01:00:00</th>\n",
              "      <td>2009-01-01 01:00:00</td>\n",
              "      <td>-8.05</td>\n",
              "    </tr>\n",
              "    <tr>\n",
              "      <th>2009-01-01 02:00:00</th>\n",
              "      <td>2009-01-01 02:00:00</td>\n",
              "      <td>-8.88</td>\n",
              "    </tr>\n",
              "    <tr>\n",
              "      <th>2009-01-01 03:00:00</th>\n",
              "      <td>2009-01-01 03:00:00</td>\n",
              "      <td>-8.81</td>\n",
              "    </tr>\n",
              "    <tr>\n",
              "      <th>2009-01-01 04:00:00</th>\n",
              "      <td>2009-01-01 04:00:00</td>\n",
              "      <td>-9.05</td>\n",
              "    </tr>\n",
              "    <tr>\n",
              "      <th>2009-01-01 05:00:00</th>\n",
              "      <td>2009-01-01 05:00:00</td>\n",
              "      <td>-9.63</td>\n",
              "    </tr>\n",
              "    <tr>\n",
              "      <th>...</th>\n",
              "      <td>...</td>\n",
              "      <td>...</td>\n",
              "    </tr>\n",
              "    <tr>\n",
              "      <th>2016-12-31 19:10:00</th>\n",
              "      <td>2016-12-31 19:10:00</td>\n",
              "      <td>-0.98</td>\n",
              "    </tr>\n",
              "    <tr>\n",
              "      <th>2016-12-31 20:10:00</th>\n",
              "      <td>2016-12-31 20:10:00</td>\n",
              "      <td>-1.40</td>\n",
              "    </tr>\n",
              "    <tr>\n",
              "      <th>2016-12-31 21:10:00</th>\n",
              "      <td>2016-12-31 21:10:00</td>\n",
              "      <td>-2.75</td>\n",
              "    </tr>\n",
              "    <tr>\n",
              "      <th>2016-12-31 22:10:00</th>\n",
              "      <td>2016-12-31 22:10:00</td>\n",
              "      <td>-2.89</td>\n",
              "    </tr>\n",
              "    <tr>\n",
              "      <th>2016-12-31 23:10:00</th>\n",
              "      <td>2016-12-31 23:10:00</td>\n",
              "      <td>-3.93</td>\n",
              "    </tr>\n",
              "  </tbody>\n",
              "</table>\n",
              "<p>70091 rows × 2 columns</p>\n",
              "</div>\n",
              "      <button class=\"colab-df-convert\" onclick=\"convertToInteractive('df-671ffdaa-f441-435f-b78a-e8163c11040f')\"\n",
              "              title=\"Convert this dataframe to an interactive table.\"\n",
              "              style=\"display:none;\">\n",
              "        \n",
              "  <svg xmlns=\"http://www.w3.org/2000/svg\" height=\"24px\"viewBox=\"0 0 24 24\"\n",
              "       width=\"24px\">\n",
              "    <path d=\"M0 0h24v24H0V0z\" fill=\"none\"/>\n",
              "    <path d=\"M18.56 5.44l.94 2.06.94-2.06 2.06-.94-2.06-.94-.94-2.06-.94 2.06-2.06.94zm-11 1L8.5 8.5l.94-2.06 2.06-.94-2.06-.94L8.5 2.5l-.94 2.06-2.06.94zm10 10l.94 2.06.94-2.06 2.06-.94-2.06-.94-.94-2.06-.94 2.06-2.06.94z\"/><path d=\"M17.41 7.96l-1.37-1.37c-.4-.4-.92-.59-1.43-.59-.52 0-1.04.2-1.43.59L10.3 9.45l-7.72 7.72c-.78.78-.78 2.05 0 2.83L4 21.41c.39.39.9.59 1.41.59.51 0 1.02-.2 1.41-.59l7.78-7.78 2.81-2.81c.8-.78.8-2.07 0-2.86zM5.41 20L4 18.59l7.72-7.72 1.47 1.35L5.41 20z\"/>\n",
              "  </svg>\n",
              "      </button>\n",
              "      \n",
              "  <style>\n",
              "    .colab-df-container {\n",
              "      display:flex;\n",
              "      flex-wrap:wrap;\n",
              "      gap: 12px;\n",
              "    }\n",
              "\n",
              "    .colab-df-convert {\n",
              "      background-color: #E8F0FE;\n",
              "      border: none;\n",
              "      border-radius: 50%;\n",
              "      cursor: pointer;\n",
              "      display: none;\n",
              "      fill: #1967D2;\n",
              "      height: 32px;\n",
              "      padding: 0 0 0 0;\n",
              "      width: 32px;\n",
              "    }\n",
              "\n",
              "    .colab-df-convert:hover {\n",
              "      background-color: #E2EBFA;\n",
              "      box-shadow: 0px 1px 2px rgba(60, 64, 67, 0.3), 0px 1px 3px 1px rgba(60, 64, 67, 0.15);\n",
              "      fill: #174EA6;\n",
              "    }\n",
              "\n",
              "    [theme=dark] .colab-df-convert {\n",
              "      background-color: #3B4455;\n",
              "      fill: #D2E3FC;\n",
              "    }\n",
              "\n",
              "    [theme=dark] .colab-df-convert:hover {\n",
              "      background-color: #434B5C;\n",
              "      box-shadow: 0px 1px 3px 1px rgba(0, 0, 0, 0.15);\n",
              "      filter: drop-shadow(0px 1px 2px rgba(0, 0, 0, 0.3));\n",
              "      fill: #FFFFFF;\n",
              "    }\n",
              "  </style>\n",
              "\n",
              "      <script>\n",
              "        const buttonEl =\n",
              "          document.querySelector('#df-671ffdaa-f441-435f-b78a-e8163c11040f button.colab-df-convert');\n",
              "        buttonEl.style.display =\n",
              "          google.colab.kernel.accessAllowed ? 'block' : 'none';\n",
              "\n",
              "        async function convertToInteractive(key) {\n",
              "          const element = document.querySelector('#df-671ffdaa-f441-435f-b78a-e8163c11040f');\n",
              "          const dataTable =\n",
              "            await google.colab.kernel.invokeFunction('convertToInteractive',\n",
              "                                                     [key], {});\n",
              "          if (!dataTable) return;\n",
              "\n",
              "          const docLinkHtml = 'Like what you see? Visit the ' +\n",
              "            '<a target=\"_blank\" href=https://colab.research.google.com/notebooks/data_table.ipynb>data table notebook</a>'\n",
              "            + ' to learn more about interactive tables.';\n",
              "          element.innerHTML = '';\n",
              "          dataTable['output_type'] = 'display_data';\n",
              "          await google.colab.output.renderOutput(dataTable, element);\n",
              "          const docLink = document.createElement('div');\n",
              "          docLink.innerHTML = docLinkHtml;\n",
              "          element.appendChild(docLink);\n",
              "        }\n",
              "      </script>\n",
              "    </div>\n",
              "  </div>\n",
              "  "
            ]
          },
          "metadata": {},
          "execution_count": 11
        }
      ]
    },
    {
      "cell_type": "code",
      "source": [
        "del hourly_temp_jena_data['Date Time']"
      ],
      "metadata": {
        "id": "vSus7n-OEBk0"
      },
      "execution_count": null,
      "outputs": []
    },
    {
      "cell_type": "code",
      "source": [
        "hourly_temp_jena_data"
      ],
      "metadata": {
        "colab": {
          "base_uri": "https://localhost:8080/",
          "height": 455
        },
        "outputId": "1cba28c1-d346-4ef4-d29a-8bdf95f72d11",
        "id": "smRuY9WsEBk1"
      },
      "execution_count": null,
      "outputs": [
        {
          "output_type": "execute_result",
          "data": {
            "text/plain": [
              "                     T (degC)\n",
              "Date Time                    \n",
              "2009-01-01 01:00:00     -8.05\n",
              "2009-01-01 02:00:00     -8.88\n",
              "2009-01-01 03:00:00     -8.81\n",
              "2009-01-01 04:00:00     -9.05\n",
              "2009-01-01 05:00:00     -9.63\n",
              "...                       ...\n",
              "2016-12-31 19:10:00     -0.98\n",
              "2016-12-31 20:10:00     -1.40\n",
              "2016-12-31 21:10:00     -2.75\n",
              "2016-12-31 22:10:00     -2.89\n",
              "2016-12-31 23:10:00     -3.93\n",
              "\n",
              "[70091 rows x 1 columns]"
            ],
            "text/html": [
              "\n",
              "  <div id=\"df-0a8790c4-fcbe-47db-bc19-b5124c24049f\">\n",
              "    <div class=\"colab-df-container\">\n",
              "      <div>\n",
              "<style scoped>\n",
              "    .dataframe tbody tr th:only-of-type {\n",
              "        vertical-align: middle;\n",
              "    }\n",
              "\n",
              "    .dataframe tbody tr th {\n",
              "        vertical-align: top;\n",
              "    }\n",
              "\n",
              "    .dataframe thead th {\n",
              "        text-align: right;\n",
              "    }\n",
              "</style>\n",
              "<table border=\"1\" class=\"dataframe\">\n",
              "  <thead>\n",
              "    <tr style=\"text-align: right;\">\n",
              "      <th></th>\n",
              "      <th>T (degC)</th>\n",
              "    </tr>\n",
              "    <tr>\n",
              "      <th>Date Time</th>\n",
              "      <th></th>\n",
              "    </tr>\n",
              "  </thead>\n",
              "  <tbody>\n",
              "    <tr>\n",
              "      <th>2009-01-01 01:00:00</th>\n",
              "      <td>-8.05</td>\n",
              "    </tr>\n",
              "    <tr>\n",
              "      <th>2009-01-01 02:00:00</th>\n",
              "      <td>-8.88</td>\n",
              "    </tr>\n",
              "    <tr>\n",
              "      <th>2009-01-01 03:00:00</th>\n",
              "      <td>-8.81</td>\n",
              "    </tr>\n",
              "    <tr>\n",
              "      <th>2009-01-01 04:00:00</th>\n",
              "      <td>-9.05</td>\n",
              "    </tr>\n",
              "    <tr>\n",
              "      <th>2009-01-01 05:00:00</th>\n",
              "      <td>-9.63</td>\n",
              "    </tr>\n",
              "    <tr>\n",
              "      <th>...</th>\n",
              "      <td>...</td>\n",
              "    </tr>\n",
              "    <tr>\n",
              "      <th>2016-12-31 19:10:00</th>\n",
              "      <td>-0.98</td>\n",
              "    </tr>\n",
              "    <tr>\n",
              "      <th>2016-12-31 20:10:00</th>\n",
              "      <td>-1.40</td>\n",
              "    </tr>\n",
              "    <tr>\n",
              "      <th>2016-12-31 21:10:00</th>\n",
              "      <td>-2.75</td>\n",
              "    </tr>\n",
              "    <tr>\n",
              "      <th>2016-12-31 22:10:00</th>\n",
              "      <td>-2.89</td>\n",
              "    </tr>\n",
              "    <tr>\n",
              "      <th>2016-12-31 23:10:00</th>\n",
              "      <td>-3.93</td>\n",
              "    </tr>\n",
              "  </tbody>\n",
              "</table>\n",
              "<p>70091 rows × 1 columns</p>\n",
              "</div>\n",
              "      <button class=\"colab-df-convert\" onclick=\"convertToInteractive('df-0a8790c4-fcbe-47db-bc19-b5124c24049f')\"\n",
              "              title=\"Convert this dataframe to an interactive table.\"\n",
              "              style=\"display:none;\">\n",
              "        \n",
              "  <svg xmlns=\"http://www.w3.org/2000/svg\" height=\"24px\"viewBox=\"0 0 24 24\"\n",
              "       width=\"24px\">\n",
              "    <path d=\"M0 0h24v24H0V0z\" fill=\"none\"/>\n",
              "    <path d=\"M18.56 5.44l.94 2.06.94-2.06 2.06-.94-2.06-.94-.94-2.06-.94 2.06-2.06.94zm-11 1L8.5 8.5l.94-2.06 2.06-.94-2.06-.94L8.5 2.5l-.94 2.06-2.06.94zm10 10l.94 2.06.94-2.06 2.06-.94-2.06-.94-.94-2.06-.94 2.06-2.06.94z\"/><path d=\"M17.41 7.96l-1.37-1.37c-.4-.4-.92-.59-1.43-.59-.52 0-1.04.2-1.43.59L10.3 9.45l-7.72 7.72c-.78.78-.78 2.05 0 2.83L4 21.41c.39.39.9.59 1.41.59.51 0 1.02-.2 1.41-.59l7.78-7.78 2.81-2.81c.8-.78.8-2.07 0-2.86zM5.41 20L4 18.59l7.72-7.72 1.47 1.35L5.41 20z\"/>\n",
              "  </svg>\n",
              "      </button>\n",
              "      \n",
              "  <style>\n",
              "    .colab-df-container {\n",
              "      display:flex;\n",
              "      flex-wrap:wrap;\n",
              "      gap: 12px;\n",
              "    }\n",
              "\n",
              "    .colab-df-convert {\n",
              "      background-color: #E8F0FE;\n",
              "      border: none;\n",
              "      border-radius: 50%;\n",
              "      cursor: pointer;\n",
              "      display: none;\n",
              "      fill: #1967D2;\n",
              "      height: 32px;\n",
              "      padding: 0 0 0 0;\n",
              "      width: 32px;\n",
              "    }\n",
              "\n",
              "    .colab-df-convert:hover {\n",
              "      background-color: #E2EBFA;\n",
              "      box-shadow: 0px 1px 2px rgba(60, 64, 67, 0.3), 0px 1px 3px 1px rgba(60, 64, 67, 0.15);\n",
              "      fill: #174EA6;\n",
              "    }\n",
              "\n",
              "    [theme=dark] .colab-df-convert {\n",
              "      background-color: #3B4455;\n",
              "      fill: #D2E3FC;\n",
              "    }\n",
              "\n",
              "    [theme=dark] .colab-df-convert:hover {\n",
              "      background-color: #434B5C;\n",
              "      box-shadow: 0px 1px 3px 1px rgba(0, 0, 0, 0.15);\n",
              "      filter: drop-shadow(0px 1px 2px rgba(0, 0, 0, 0.3));\n",
              "      fill: #FFFFFF;\n",
              "    }\n",
              "  </style>\n",
              "\n",
              "      <script>\n",
              "        const buttonEl =\n",
              "          document.querySelector('#df-0a8790c4-fcbe-47db-bc19-b5124c24049f button.colab-df-convert');\n",
              "        buttonEl.style.display =\n",
              "          google.colab.kernel.accessAllowed ? 'block' : 'none';\n",
              "\n",
              "        async function convertToInteractive(key) {\n",
              "          const element = document.querySelector('#df-0a8790c4-fcbe-47db-bc19-b5124c24049f');\n",
              "          const dataTable =\n",
              "            await google.colab.kernel.invokeFunction('convertToInteractive',\n",
              "                                                     [key], {});\n",
              "          if (!dataTable) return;\n",
              "\n",
              "          const docLinkHtml = 'Like what you see? Visit the ' +\n",
              "            '<a target=\"_blank\" href=https://colab.research.google.com/notebooks/data_table.ipynb>data table notebook</a>'\n",
              "            + ' to learn more about interactive tables.';\n",
              "          element.innerHTML = '';\n",
              "          dataTable['output_type'] = 'display_data';\n",
              "          await google.colab.output.renderOutput(dataTable, element);\n",
              "          const docLink = document.createElement('div');\n",
              "          docLink.innerHTML = docLinkHtml;\n",
              "          element.appendChild(docLink);\n",
              "        }\n",
              "      </script>\n",
              "    </div>\n",
              "  </div>\n",
              "  "
            ]
          },
          "metadata": {},
          "execution_count": 13
        }
      ]
    },
    {
      "cell_type": "code",
      "source": [
        "#visualize"
      ],
      "metadata": {
        "id": "kcGm3xsNEBk1"
      },
      "execution_count": null,
      "outputs": []
    },
    {
      "cell_type": "code",
      "source": [
        "hourly_temp_jena_data.plot()"
      ],
      "metadata": {
        "colab": {
          "base_uri": "https://localhost:8080/",
          "height": 290
        },
        "outputId": "8263e09e-1c25-419d-c119-989feca86957",
        "id": "rei1wFg1EBk1"
      },
      "execution_count": null,
      "outputs": [
        {
          "output_type": "execute_result",
          "data": {
            "text/plain": [
              "<matplotlib.axes._subplots.AxesSubplot at 0x7f16fcad83a0>"
            ]
          },
          "metadata": {},
          "execution_count": 15
        },
        {
          "output_type": "display_data",
          "data": {
            "text/plain": [
              "<Figure size 432x288 with 1 Axes>"
            ],
            "image/png": "[encoded data removed]"
          },
          "metadata": {
            "needs_background": "light"
          }
        }
      ]
    },
    {
      "cell_type": "code",
      "source": [
        "hourly_temp_jena_data.to_numpy()"
      ],
      "metadata": {
        "colab": {
          "base_uri": "https://localhost:8080/"
        },
        "outputId": "0ea65548-8e94-489a-a52c-78a3f30373a7",
        "id": "Q3X2o-8AEBk1"
      },
      "execution_count": null,
      "outputs": [
        {
          "output_type": "execute_result",
          "data": {
            "text/plain": [
              "array([[-8.05],\n",
              "       [-8.88],\n",
              "       [-8.81],\n",
              "       ...,\n",
              "       [-2.75],\n",
              "       [-2.89],\n",
              "       [-3.93]])"
            ]
          },
          "metadata": {},
          "execution_count": 16
        }
      ]
    },
    {
      "cell_type": "code",
      "source": [
        "len(hourly_temp_jena_data)"
      ],
      "metadata": {
        "colab": {
          "base_uri": "https://localhost:8080/"
        },
        "outputId": "792eb1f0-cd15-474e-d6d0-876ef1f838eb",
        "id": "4oZ9Zj9TEBk2"
      },
      "execution_count": null,
      "outputs": [
        {
          "output_type": "execute_result",
          "data": {
            "text/plain": [
              "70091"
            ]
          },
          "metadata": {},
          "execution_count": 17
        }
      ]
    },
    {
      "cell_type": "code",
      "source": [
        "def jena_temp_to_x_y(data,window_size=5):\n",
        "    data_as_numpy = data.to_numpy()\n",
        "    X=[]\n",
        "    y=[]\n",
        "\n",
        "    for i in range(len(data)- window_size):\n",
        "      row = [temp for temp in data_as_numpy[i:i+window_size]]\n",
        "      X.append(row)\n",
        "\n",
        "      output = data_as_numpy[i+window_size]\n",
        "      y.append(output)\n",
        "\n",
        "    return np.array(X), np.array(y)"
      ],
      "metadata": {
        "id": "jrJNd4LqEBk2"
      },
      "execution_count": null,
      "outputs": []
    },
    {
      "cell_type": "code",
      "source": [
        "X,y = jena_temp_to_x_y(hourly_temp_jena_data)"
      ],
      "metadata": {
        "id": "a1BN9BW8EBk2"
      },
      "execution_count": null,
      "outputs": []
    },
    {
      "cell_type": "code",
      "source": [
        "X"
      ],
      "metadata": {
        "colab": {
          "base_uri": "https://localhost:8080/"
        },
        "id": "HnKtqCqD5xUS",
        "outputId": "8236b9ca-7f7e-4ddb-db98-4d7cc74f559e"
      },
      "execution_count": null,
      "outputs": [
        {
          "output_type": "execute_result",
          "data": {
            "text/plain": [
              "array([[[-8.05],\n",
              "        [-8.88],\n",
              "        [-8.81],\n",
              "        [-9.05],\n",
              "        [-9.63]],\n",
              "\n",
              "       [[-8.88],\n",
              "        [-8.81],\n",
              "        [-9.05],\n",
              "        [-9.63],\n",
              "        [-9.67]],\n",
              "\n",
              "       [[-8.81],\n",
              "        [-9.05],\n",
              "        [-9.63],\n",
              "        [-9.67],\n",
              "        [-9.17]],\n",
              "\n",
              "       ...,\n",
              "\n",
              "       [[ 2.44],\n",
              "        [ 1.29],\n",
              "        [-0.42],\n",
              "        [-0.98],\n",
              "        [-1.4 ]],\n",
              "\n",
              "       [[ 1.29],\n",
              "        [-0.42],\n",
              "        [-0.98],\n",
              "        [-1.4 ],\n",
              "        [-2.75]],\n",
              "\n",
              "       [[-0.42],\n",
              "        [-0.98],\n",
              "        [-1.4 ],\n",
              "        [-2.75],\n",
              "        [-2.89]]])"
            ]
          },
          "metadata": {},
          "execution_count": 41
        }
      ]
    },
    {
      "cell_type": "code",
      "source": [
        "y"
      ],
      "metadata": {
        "colab": {
          "base_uri": "https://localhost:8080/"
        },
        "id": "PeSro5gL5zzx",
        "outputId": "3d7e7d2b-5200-4a43-d8f2-1dc9feca1f2d"
      },
      "execution_count": null,
      "outputs": [
        {
          "output_type": "execute_result",
          "data": {
            "text/plain": [
              "array([[-9.67],\n",
              "       [-9.17],\n",
              "       [-8.1 ],\n",
              "       ...,\n",
              "       [-2.75],\n",
              "       [-2.89],\n",
              "       [-3.93]])"
            ]
          },
          "metadata": {},
          "execution_count": 42
        }
      ]
    },
    {
      "cell_type": "code",
      "source": [
        "X.shape, y.shape"
      ],
      "metadata": {
        "colab": {
          "base_uri": "https://localhost:8080/"
        },
        "outputId": "9253770b-11fa-4b5d-f1b1-95ba86f58347",
        "id": "jwFi1X2fEBk3"
      },
      "execution_count": null,
      "outputs": [
        {
          "output_type": "execute_result",
          "data": {
            "text/plain": [
              "((70086, 5, 1), (70086, 1))"
            ]
          },
          "metadata": {},
          "execution_count": 20
        }
      ]
    },
    {
      "cell_type": "code",
      "source": [
        "X.ndim #3 dimensioanl with 70086. Each observation picks up a window size of 5  with 1 column."
      ],
      "metadata": {
        "colab": {
          "base_uri": "https://localhost:8080/"
        },
        "outputId": "46b4de2b-253f-497b-fe0d-fd098d842153",
        "id": "mJG_l8loEBk4"
      },
      "execution_count": null,
      "outputs": [
        {
          "output_type": "execute_result",
          "data": {
            "text/plain": [
              "3"
            ]
          },
          "metadata": {},
          "execution_count": 21
        }
      ]
    },
    {
      "cell_type": "markdown",
      "source": [
        "##5. Model Building##"
      ],
      "metadata": {
        "id": "eiRjE2akEBk4"
      }
    },
    {
      "cell_type": "code",
      "source": [
        "X.shape"
      ],
      "metadata": {
        "colab": {
          "base_uri": "https://localhost:8080/"
        },
        "outputId": "5e93cfac-058f-4e03-a741-1d87fd544eeb",
        "id": "oxPNVF-CEBk4"
      },
      "execution_count": null,
      "outputs": [
        {
          "output_type": "execute_result",
          "data": {
            "text/plain": [
              "(70086, 5, 1)"
            ]
          },
          "metadata": {},
          "execution_count": 22
        }
      ]
    },
    {
      "cell_type": "markdown",
      "source": [
        "Training Data"
      ],
      "metadata": {
        "id": "C7OmuPJFEBk5"
      }
    },
    {
      "cell_type": "code",
      "source": [
        "X_train = X[:60000]\n",
        "y_train = y[:60000]"
      ],
      "metadata": {
        "id": "VTEMkxmvEBk5"
      },
      "execution_count": null,
      "outputs": []
    },
    {
      "cell_type": "markdown",
      "source": [
        "Validation Data"
      ],
      "metadata": {
        "id": "p7LclFT_EBk5"
      }
    },
    {
      "cell_type": "code",
      "source": [
        "X_validation = X[60000:65000]\n",
        "y_validation = y[60000:65000]"
      ],
      "metadata": {
        "id": "F2CqK-IJEBk5"
      },
      "execution_count": null,
      "outputs": []
    },
    {
      "cell_type": "markdown",
      "source": [
        "Test Data"
      ],
      "metadata": {
        "id": "bXTinH45EBk6"
      }
    },
    {
      "cell_type": "code",
      "source": [
        "X_test = X[65000:]\n",
        "y_test = y[65000:]\n",
        "X_test.shape, y_test.shape"
      ],
      "metadata": {
        "colab": {
          "base_uri": "https://localhost:8080/"
        },
        "outputId": "de4d0fa5-72d3-48e6-e20f-c25654e00b22",
        "id": "8w2mBZp_EBk6"
      },
      "execution_count": null,
      "outputs": [
        {
          "output_type": "execute_result",
          "data": {
            "text/plain": [
              "((5086, 5, 1), (5086, 1))"
            ]
          },
          "metadata": {},
          "execution_count": 25
        }
      ]
    },
    {
      "cell_type": "markdown",
      "source": [
        "##6. Model Training##"
      ],
      "metadata": {
        "id": "niNDxnMfEBk6"
      }
    },
    {
      "cell_type": "code",
      "source": [
        "from keras.models import Sequential\n",
        "from keras.layers import Dense,InputLayer, LSTM,GRU, SimpleRNN"
      ],
      "metadata": {
        "id": "cwfxjV4ZEBk6"
      },
      "execution_count": null,
      "outputs": []
    },
    {
      "cell_type": "markdown",
      "source": [
        "6.1 Build the Architecture"
      ],
      "metadata": {
        "id": "s5-x3q0UEBk6"
      }
    },
    {
      "cell_type": "code",
      "source": [
        "model = Sequential()\n",
        "model.add(InputLayer(input_shape = (5,1)))\n",
        "model.add(SimpleRNN(units = 64))\n",
        "model.add(Dense(units=8,activation = 'relu'))\n",
        "model.add(Dense(units = 1, activation = 'linear'))\n",
        "model.summary()"
      ],
      "metadata": {
        "colab": {
          "base_uri": "https://localhost:8080/"
        },
        "outputId": "3c0d9fed-ed5f-40ee-de05-7281c2298a6f",
        "id": "OphAkl4uEBk7"
      },
      "execution_count": null,
      "outputs": [
        {
          "output_type": "stream",
          "name": "stdout",
          "text": [
            "Model: \"sequential\"\n",
            "_________________________________________________________________\n",
            " Layer (type)                Output Shape              Param #   \n",
            "=================================================================\n",
            " simple_rnn (SimpleRNN)      (None, 64)                4224      \n",
            "                                                                 \n",
            " dense (Dense)               (None, 8)                 520       \n",
            "                                                                 \n",
            " dense_1 (Dense)             (None, 1)                 9         \n",
            "                                                                 \n",
            "=================================================================\n",
            "Total params: 4,753\n",
            "Trainable params: 4,753\n",
            "Non-trainable params: 0\n",
            "_________________________________________________________________\n"
          ]
        }
      ]
    },
    {
      "cell_type": "markdown",
      "source": [
        "6.2 Model Compilation and Train"
      ],
      "metadata": {
        "id": "hdhsjU0ZEBk7"
      }
    },
    {
      "cell_type": "code",
      "source": [
        "model.compile(optimizer = 'adam',loss= 'mse')"
      ],
      "metadata": {
        "id": "GbHFq4VnEBk7"
      },
      "execution_count": null,
      "outputs": []
    },
    {
      "cell_type": "code",
      "source": [
        "model.fit(x=X,y=y,epochs = 100,batch_size= 64,validation_data = (X_validation,y_validation))"
      ],
      "metadata": {
        "colab": {
          "base_uri": "https://localhost:8080/"
        },
        "outputId": "5ac6e8c6-20e1-4aab-a467-1d631cf49fe4",
        "id": "wRshi36CEBk7"
      },
      "execution_count": null,
      "outputs": [
        {
          "output_type": "stream",
          "name": "stdout",
          "text": [
            "Epoch 1/100\n",
            "1096/1096 [==============================] - 11s 7ms/step - loss: 4.2235 - val_loss: 0.5217\n",
            "Epoch 2/100\n",
            "1096/1096 [==============================] - 6s 5ms/step - loss: 0.6759 - val_loss: 0.4977\n",
            "Epoch 3/100\n",
            "1096/1096 [==============================] - 4s 4ms/step - loss: 0.6578 - val_loss: 0.5124\n",
            "Epoch 4/100\n",
            "1096/1096 [==============================] - 4s 4ms/step - loss: 0.6513 - val_loss: 0.5028\n",
            "Epoch 5/100\n",
            "1096/1096 [==============================] - 4s 4ms/step - loss: 0.6564 - val_loss: 0.5036\n",
            "Epoch 6/100\n",
            "1096/1096 [==============================] - 4s 4ms/step - loss: 0.6493 - val_loss: 0.7164\n",
            "Epoch 7/100\n",
            "1096/1096 [==============================] - 4s 4ms/step - loss: 0.6502 - val_loss: 0.5600\n",
            "Epoch 8/100\n",
            "1096/1096 [==============================] - 4s 4ms/step - loss: 0.6497 - val_loss: 0.5112\n",
            "Epoch 9/100\n",
            "1096/1096 [==============================] - 4s 3ms/step - loss: 0.6476 - val_loss: 0.5588\n",
            "Epoch 10/100\n",
            "1096/1096 [==============================] - 4s 4ms/step - loss: 0.6461 - val_loss: 0.5058\n",
            "Epoch 11/100\n",
            "1096/1096 [==============================] - 4s 4ms/step - loss: 0.6451 - val_loss: 0.5319\n",
            "Epoch 12/100\n",
            "1096/1096 [==============================] - 4s 4ms/step - loss: 0.6431 - val_loss: 0.4886\n",
            "Epoch 13/100\n",
            "1096/1096 [==============================] - 4s 4ms/step - loss: 0.6404 - val_loss: 0.5020\n",
            "Epoch 14/100\n",
            "1096/1096 [==============================] - 4s 4ms/step - loss: 0.6437 - val_loss: 0.4888\n",
            "Epoch 15/100\n",
            "1096/1096 [==============================] - 4s 3ms/step - loss: 0.6401 - val_loss: 0.5047\n",
            "Epoch 16/100\n",
            "1096/1096 [==============================] - 4s 4ms/step - loss: 0.6378 - val_loss: 0.4967\n",
            "Epoch 17/100\n",
            "1096/1096 [==============================] - 4s 4ms/step - loss: 0.6373 - val_loss: 0.4851\n",
            "Epoch 18/100\n",
            "1096/1096 [==============================] - 4s 4ms/step - loss: 0.6365 - val_loss: 0.5175\n",
            "Epoch 19/100\n",
            "1096/1096 [==============================] - 4s 4ms/step - loss: 0.6411 - val_loss: 0.5035\n",
            "Epoch 20/100\n",
            "1096/1096 [==============================] - 4s 4ms/step - loss: 0.6408 - val_loss: 0.5300\n",
            "Epoch 21/100\n",
            "1096/1096 [==============================] - 4s 4ms/step - loss: 0.6367 - val_loss: 0.5499\n",
            "Epoch 22/100\n",
            "1096/1096 [==============================] - 4s 3ms/step - loss: 0.6352 - val_loss: 0.4848\n",
            "Epoch 23/100\n",
            "1096/1096 [==============================] - 4s 4ms/step - loss: 0.6332 - val_loss: 0.4852\n",
            "Epoch 24/100\n",
            "1096/1096 [==============================] - 4s 4ms/step - loss: 0.6342 - val_loss: 0.4985\n",
            "Epoch 25/100\n",
            "1096/1096 [==============================] - 4s 4ms/step - loss: 0.6321 - val_loss: 0.5072\n",
            "Epoch 26/100\n",
            "1096/1096 [==============================] - 4s 4ms/step - loss: 0.6329 - val_loss: 0.4939\n",
            "Epoch 27/100\n",
            "1096/1096 [==============================] - 4s 4ms/step - loss: 0.6323 - val_loss: 0.4850\n",
            "Epoch 28/100\n",
            "1096/1096 [==============================] - 6s 5ms/step - loss: 0.6308 - val_loss: 0.4891\n",
            "Epoch 29/100\n",
            "1096/1096 [==============================] - 4s 4ms/step - loss: 0.6332 - val_loss: 0.4897\n",
            "Epoch 30/100\n",
            "1096/1096 [==============================] - 4s 4ms/step - loss: 0.6347 - val_loss: 0.5075\n",
            "Epoch 31/100\n",
            "1096/1096 [==============================] - 4s 4ms/step - loss: 0.6284 - val_loss: 0.4755\n",
            "Epoch 32/100\n",
            "1096/1096 [==============================] - 4s 4ms/step - loss: 0.6312 - val_loss: 0.4839\n",
            "Epoch 33/100\n",
            "1096/1096 [==============================] - 4s 3ms/step - loss: 0.6305 - val_loss: 0.5635\n",
            "Epoch 34/100\n",
            "1096/1096 [==============================] - 4s 4ms/step - loss: 0.6286 - val_loss: 0.5555\n",
            "Epoch 35/100\n",
            "1096/1096 [==============================] - 4s 4ms/step - loss: 0.6287 - val_loss: 0.5007\n",
            "Epoch 36/100\n",
            "1096/1096 [==============================] - 4s 4ms/step - loss: 0.6288 - val_loss: 0.5340\n",
            "Epoch 37/100\n",
            "1096/1096 [==============================] - 5s 5ms/step - loss: 0.6301 - val_loss: 0.5264\n",
            "Epoch 38/100\n",
            "1096/1096 [==============================] - 4s 4ms/step - loss: 0.6275 - val_loss: 0.4810\n",
            "Epoch 39/100\n",
            "1096/1096 [==============================] - 4s 4ms/step - loss: 0.6277 - val_loss: 0.4759\n",
            "Epoch 40/100\n",
            "1096/1096 [==============================] - 4s 4ms/step - loss: 0.6284 - val_loss: 0.4919\n",
            "Epoch 41/100\n",
            "1096/1096 [==============================] - 4s 4ms/step - loss: 0.6266 - val_loss: 0.4777\n",
            "Epoch 42/100\n",
            "1096/1096 [==============================] - 4s 4ms/step - loss: 0.6287 - val_loss: 0.4911\n",
            "Epoch 43/100\n",
            "1096/1096 [==============================] - 4s 4ms/step - loss: 0.6237 - val_loss: 0.4883\n",
            "Epoch 44/100\n",
            "1096/1096 [==============================] - 4s 4ms/step - loss: 0.6262 - val_loss: 0.4994\n",
            "Epoch 45/100\n",
            "1096/1096 [==============================] - 4s 4ms/step - loss: 0.6241 - val_loss: 0.4953\n",
            "Epoch 46/100\n",
            "1096/1096 [==============================] - 4s 4ms/step - loss: 0.6240 - val_loss: 0.4784\n",
            "Epoch 47/100\n",
            "1096/1096 [==============================] - 4s 3ms/step - loss: 0.6263 - val_loss: 0.4807\n",
            "Epoch 48/100\n",
            "1096/1096 [==============================] - 4s 3ms/step - loss: 0.6240 - val_loss: 0.5147\n",
            "Epoch 49/100\n",
            "1096/1096 [==============================] - 4s 4ms/step - loss: 0.6232 - val_loss: 0.4898\n",
            "Epoch 50/100\n",
            "1096/1096 [==============================] - 4s 4ms/step - loss: 0.6237 - val_loss: 0.4915\n",
            "Epoch 51/100\n",
            "1096/1096 [==============================] - 4s 4ms/step - loss: 0.6228 - val_loss: 0.4723\n",
            "Epoch 52/100\n",
            "1096/1096 [==============================] - 5s 5ms/step - loss: 0.6260 - val_loss: 0.4840\n",
            "Epoch 53/100\n",
            "1096/1096 [==============================] - 4s 4ms/step - loss: 0.6226 - val_loss: 0.4790\n",
            "Epoch 54/100\n",
            "1096/1096 [==============================] - 4s 4ms/step - loss: 0.6201 - val_loss: 0.4939\n",
            "Epoch 55/100\n",
            "1096/1096 [==============================] - 4s 4ms/step - loss: 0.6227 - val_loss: 0.5333\n",
            "Epoch 56/100\n",
            "1096/1096 [==============================] - 4s 4ms/step - loss: 0.6217 - val_loss: 0.5386\n",
            "Epoch 57/100\n",
            "1096/1096 [==============================] - 4s 4ms/step - loss: 0.6192 - val_loss: 0.4778\n",
            "Epoch 58/100\n",
            "1096/1096 [==============================] - 4s 3ms/step - loss: 0.6213 - val_loss: 0.4765\n",
            "Epoch 59/100\n",
            "1096/1096 [==============================] - 4s 4ms/step - loss: 0.6201 - val_loss: 0.5737\n",
            "Epoch 60/100\n",
            "1096/1096 [==============================] - 4s 3ms/step - loss: 0.6226 - val_loss: 0.4922\n",
            "Epoch 61/100\n",
            "1096/1096 [==============================] - 4s 4ms/step - loss: 0.6201 - val_loss: 0.4953\n",
            "Epoch 62/100\n",
            "1096/1096 [==============================] - 4s 4ms/step - loss: 0.6191 - val_loss: 0.4861\n",
            "Epoch 63/100\n",
            "1096/1096 [==============================] - 4s 3ms/step - loss: 0.6178 - val_loss: 0.4754\n",
            "Epoch 64/100\n",
            "1096/1096 [==============================] - 4s 4ms/step - loss: 0.6183 - val_loss: 0.4864\n",
            "Epoch 65/100\n",
            "1096/1096 [==============================] - 4s 4ms/step - loss: 0.6181 - val_loss: 0.4789\n",
            "Epoch 66/100\n",
            "1096/1096 [==============================] - 4s 3ms/step - loss: 0.6164 - val_loss: 0.4880\n",
            "Epoch 67/100\n",
            "1096/1096 [==============================] - 4s 4ms/step - loss: 0.6203 - val_loss: 0.4806\n",
            "Epoch 68/100\n",
            "1096/1096 [==============================] - 4s 4ms/step - loss: 0.6164 - val_loss: 0.4865\n",
            "Epoch 69/100\n",
            "1096/1096 [==============================] - 4s 4ms/step - loss: 0.6169 - val_loss: 0.4907\n",
            "Epoch 70/100\n",
            "1096/1096 [==============================] - 4s 4ms/step - loss: 0.6153 - val_loss: 0.4775\n",
            "Epoch 71/100\n",
            "1096/1096 [==============================] - 4s 3ms/step - loss: 0.6176 - val_loss: 0.4781\n",
            "Epoch 72/100\n",
            "1096/1096 [==============================] - 4s 3ms/step - loss: 0.6172 - val_loss: 0.4852\n",
            "Epoch 73/100\n",
            "1096/1096 [==============================] - 4s 4ms/step - loss: 0.6158 - val_loss: 0.5281\n",
            "Epoch 74/100\n",
            "1096/1096 [==============================] - 4s 4ms/step - loss: 0.6160 - val_loss: 0.5018\n",
            "Epoch 75/100\n",
            "1096/1096 [==============================] - 4s 3ms/step - loss: 0.6142 - val_loss: 0.4822\n",
            "Epoch 76/100\n",
            "1096/1096 [==============================] - 4s 3ms/step - loss: 0.6141 - val_loss: 0.4772\n",
            "Epoch 77/100\n",
            "1096/1096 [==============================] - 4s 3ms/step - loss: 0.6181 - val_loss: 0.4942\n",
            "Epoch 78/100\n",
            "1096/1096 [==============================] - 4s 3ms/step - loss: 0.6146 - val_loss: 0.4804\n",
            "Epoch 79/100\n",
            "1096/1096 [==============================] - 4s 4ms/step - loss: 0.6145 - val_loss: 0.5364\n",
            "Epoch 80/100\n",
            "1096/1096 [==============================] - 4s 3ms/step - loss: 0.6165 - val_loss: 0.4766\n",
            "Epoch 81/100\n",
            "1096/1096 [==============================] - 4s 3ms/step - loss: 0.6161 - val_loss: 0.4740\n",
            "Epoch 82/100\n",
            "1096/1096 [==============================] - 4s 3ms/step - loss: 0.6166 - val_loss: 0.4815\n",
            "Epoch 83/100\n",
            "1096/1096 [==============================] - 4s 3ms/step - loss: 0.6132 - val_loss: 0.4936\n",
            "Epoch 84/100\n",
            "1096/1096 [==============================] - 4s 3ms/step - loss: 0.6153 - val_loss: 0.4850\n",
            "Epoch 85/100\n",
            "1096/1096 [==============================] - 4s 3ms/step - loss: 0.6139 - val_loss: 0.4960\n",
            "Epoch 86/100\n",
            "1096/1096 [==============================] - 4s 4ms/step - loss: 0.6143 - val_loss: 0.4780\n",
            "Epoch 87/100\n",
            "1096/1096 [==============================] - 4s 3ms/step - loss: 0.6133 - val_loss: 0.5303\n",
            "Epoch 88/100\n",
            "1096/1096 [==============================] - 4s 3ms/step - loss: 0.6130 - val_loss: 0.4865\n",
            "Epoch 89/100\n",
            "1096/1096 [==============================] - 4s 3ms/step - loss: 0.6131 - val_loss: 0.4995\n",
            "Epoch 90/100\n",
            "1096/1096 [==============================] - 4s 3ms/step - loss: 0.6125 - val_loss: 0.4718\n",
            "Epoch 91/100\n",
            "1096/1096 [==============================] - 4s 3ms/step - loss: 0.6101 - val_loss: 0.4938\n",
            "Epoch 92/100\n",
            "1096/1096 [==============================] - 4s 4ms/step - loss: 0.6133 - val_loss: 0.4933\n",
            "Epoch 93/100\n",
            "1096/1096 [==============================] - 4s 3ms/step - loss: 0.6132 - val_loss: 0.4742\n",
            "Epoch 94/100\n",
            "1096/1096 [==============================] - 4s 4ms/step - loss: 0.6141 - val_loss: 0.4829\n",
            "Epoch 95/100\n",
            "1096/1096 [==============================] - 4s 4ms/step - loss: 0.6106 - val_loss: 0.5220\n",
            "Epoch 96/100\n",
            "1096/1096 [==============================] - 4s 3ms/step - loss: 0.6117 - val_loss: 0.4815\n",
            "Epoch 97/100\n",
            "1096/1096 [==============================] - 4s 3ms/step - loss: 0.6126 - val_loss: 0.4710\n",
            "Epoch 98/100\n",
            "1096/1096 [==============================] - 4s 3ms/step - loss: 0.6110 - val_loss: 0.4839\n",
            "Epoch 99/100\n",
            "1096/1096 [==============================] - 4s 4ms/step - loss: 0.6105 - val_loss: 0.4838\n",
            "Epoch 100/100\n",
            "1096/1096 [==============================] - 4s 4ms/step - loss: 0.6099 - val_loss: 0.4892\n"
          ]
        },
        {
          "output_type": "execute_result",
          "data": {
            "text/plain": [
              "<keras.callbacks.History at 0x7f16a0788910>"
            ]
          },
          "metadata": {},
          "execution_count": 29
        }
      ]
    },
    {
      "cell_type": "markdown",
      "source": [
        "##7. Model Testing##"
      ],
      "metadata": {
        "id": "hAqZtxw8EBk8"
      }
    },
    {
      "cell_type": "markdown",
      "source": [
        "Train Data"
      ],
      "metadata": {
        "id": "8uNsjBBvEBk8"
      }
    },
    {
      "cell_type": "code",
      "source": [
        "y_pred_train = model.predict(X_train)\n",
        "y_pred_train"
      ],
      "metadata": {
        "colab": {
          "base_uri": "https://localhost:8080/"
        },
        "outputId": "c72b64a7-8fe6-4507-bf17-36d0d9c37257",
        "id": "frhbewQeEBk8"
      },
      "execution_count": null,
      "outputs": [
        {
          "output_type": "stream",
          "name": "stdout",
          "text": [
            "1875/1875 [==============================] - 3s 2ms/step\n"
          ]
        },
        {
          "output_type": "execute_result",
          "data": {
            "text/plain": [
              "array([[-9.86137  ],\n",
              "       [-9.575384 ],\n",
              "       [-8.582288 ],\n",
              "       ...,\n",
              "       [12.1874275],\n",
              "       [15.383196 ],\n",
              "       [16.349112 ]], dtype=float32)"
            ]
          },
          "metadata": {},
          "execution_count": 30
        }
      ]
    },
    {
      "cell_type": "code",
      "source": [
        "y_pred_train.shape"
      ],
      "metadata": {
        "colab": {
          "base_uri": "https://localhost:8080/"
        },
        "outputId": "6821c5ef-3c8b-44fe-b087-eae4eda7964b",
        "id": "Aj7MKE5-EBk8"
      },
      "execution_count": null,
      "outputs": [
        {
          "output_type": "execute_result",
          "data": {
            "text/plain": [
              "(60000, 1)"
            ]
          },
          "metadata": {},
          "execution_count": 31
        }
      ]
    },
    {
      "cell_type": "code",
      "source": [
        "train_data_results = pd.DataFrame(data = {'Actual O/p': y_train.flatten(),\n",
        "                                          'Predicted O/p': y_pred_train.flatten()})\n",
        "train_data_results"
      ],
      "metadata": {
        "colab": {
          "base_uri": "https://localhost:8080/",
          "height": 424
        },
        "outputId": "719133af-cb51-46ae-cee2-8b6dc2333f04",
        "id": "jDA1RlFhEBk9"
      },
      "execution_count": null,
      "outputs": [
        {
          "output_type": "execute_result",
          "data": {
            "text/plain": [
              "       Actual O/p  Predicted O/p\n",
              "0           -9.67      -9.861370\n",
              "1           -9.17      -9.575384\n",
              "2           -8.10      -8.582288\n",
              "3           -7.66      -6.804472\n",
              "4           -7.04      -6.700249\n",
              "...           ...            ...\n",
              "59995        6.07       5.796123\n",
              "59996        9.88       6.721123\n",
              "59997       13.53      12.187428\n",
              "59998       15.43      15.383196\n",
              "59999       15.54      16.349112\n",
              "\n",
              "[60000 rows x 2 columns]"
            ],
            "text/html": [
              "\n",
              "  <div id=\"df-bccb942d-a978-4176-9f34-84268ae29592\">\n",
              "    <div class=\"colab-df-container\">\n",
              "      <div>\n",
              "<style scoped>\n",
              "    .dataframe tbody tr th:only-of-type {\n",
              "        vertical-align: middle;\n",
              "    }\n",
              "\n",
              "    .dataframe tbody tr th {\n",
              "        vertical-align: top;\n",
              "    }\n",
              "\n",
              "    .dataframe thead th {\n",
              "        text-align: right;\n",
              "    }\n",
              "</style>\n",
              "<table border=\"1\" class=\"dataframe\">\n",
              "  <thead>\n",
              "    <tr style=\"text-align: right;\">\n",
              "      <th></th>\n",
              "      <th>Actual O/p</th>\n",
              "      <th>Predicted O/p</th>\n",
              "    </tr>\n",
              "  </thead>\n",
              "  <tbody>\n",
              "    <tr>\n",
              "      <th>0</th>\n",
              "      <td>-9.67</td>\n",
              "      <td>-9.861370</td>\n",
              "    </tr>\n",
              "    <tr>\n",
              "      <th>1</th>\n",
              "      <td>-9.17</td>\n",
              "      <td>-9.575384</td>\n",
              "    </tr>\n",
              "    <tr>\n",
              "      <th>2</th>\n",
              "      <td>-8.10</td>\n",
              "      <td>-8.582288</td>\n",
              "    </tr>\n",
              "    <tr>\n",
              "      <th>3</th>\n",
              "      <td>-7.66</td>\n",
              "      <td>-6.804472</td>\n",
              "    </tr>\n",
              "    <tr>\n",
              "      <th>4</th>\n",
              "      <td>-7.04</td>\n",
              "      <td>-6.700249</td>\n",
              "    </tr>\n",
              "    <tr>\n",
              "      <th>...</th>\n",
              "      <td>...</td>\n",
              "      <td>...</td>\n",
              "    </tr>\n",
              "    <tr>\n",
              "      <th>59995</th>\n",
              "      <td>6.07</td>\n",
              "      <td>5.796123</td>\n",
              "    </tr>\n",
              "    <tr>\n",
              "      <th>59996</th>\n",
              "      <td>9.88</td>\n",
              "      <td>6.721123</td>\n",
              "    </tr>\n",
              "    <tr>\n",
              "      <th>59997</th>\n",
              "      <td>13.53</td>\n",
              "      <td>12.187428</td>\n",
              "    </tr>\n",
              "    <tr>\n",
              "      <th>59998</th>\n",
              "      <td>15.43</td>\n",
              "      <td>15.383196</td>\n",
              "    </tr>\n",
              "    <tr>\n",
              "      <th>59999</th>\n",
              "      <td>15.54</td>\n",
              "      <td>16.349112</td>\n",
              "    </tr>\n",
              "  </tbody>\n",
              "</table>\n",
              "<p>60000 rows × 2 columns</p>\n",
              "</div>\n",
              "      <button class=\"colab-df-convert\" onclick=\"convertToInteractive('df-bccb942d-a978-4176-9f34-84268ae29592')\"\n",
              "              title=\"Convert this dataframe to an interactive table.\"\n",
              "              style=\"display:none;\">\n",
              "        \n",
              "  <svg xmlns=\"http://www.w3.org/2000/svg\" height=\"24px\"viewBox=\"0 0 24 24\"\n",
              "       width=\"24px\">\n",
              "    <path d=\"M0 0h24v24H0V0z\" fill=\"none\"/>\n",
              "    <path d=\"M18.56 5.44l.94 2.06.94-2.06 2.06-.94-2.06-.94-.94-2.06-.94 2.06-2.06.94zm-11 1L8.5 8.5l.94-2.06 2.06-.94-2.06-.94L8.5 2.5l-.94 2.06-2.06.94zm10 10l.94 2.06.94-2.06 2.06-.94-2.06-.94-.94-2.06-.94 2.06-2.06.94z\"/><path d=\"M17.41 7.96l-1.37-1.37c-.4-.4-.92-.59-1.43-.59-.52 0-1.04.2-1.43.59L10.3 9.45l-7.72 7.72c-.78.78-.78 2.05 0 2.83L4 21.41c.39.39.9.59 1.41.59.51 0 1.02-.2 1.41-.59l7.78-7.78 2.81-2.81c.8-.78.8-2.07 0-2.86zM5.41 20L4 18.59l7.72-7.72 1.47 1.35L5.41 20z\"/>\n",
              "  </svg>\n",
              "      </button>\n",
              "      \n",
              "  <style>\n",
              "    .colab-df-container {\n",
              "      display:flex;\n",
              "      flex-wrap:wrap;\n",
              "      gap: 12px;\n",
              "    }\n",
              "\n",
              "    .colab-df-convert {\n",
              "      background-color: #E8F0FE;\n",
              "      border: none;\n",
              "      border-radius: 50%;\n",
              "      cursor: pointer;\n",
              "      display: none;\n",
              "      fill: #1967D2;\n",
              "      height: 32px;\n",
              "      padding: 0 0 0 0;\n",
              "      width: 32px;\n",
              "    }\n",
              "\n",
              "    .colab-df-convert:hover {\n",
              "      background-color: #E2EBFA;\n",
              "      box-shadow: 0px 1px 2px rgba(60, 64, 67, 0.3), 0px 1px 3px 1px rgba(60, 64, 67, 0.15);\n",
              "      fill: #174EA6;\n",
              "    }\n",
              "\n",
              "    [theme=dark] .colab-df-convert {\n",
              "      background-color: #3B4455;\n",
              "      fill: #D2E3FC;\n",
              "    }\n",
              "\n",
              "    [theme=dark] .colab-df-convert:hover {\n",
              "      background-color: #434B5C;\n",
              "      box-shadow: 0px 1px 3px 1px rgba(0, 0, 0, 0.15);\n",
              "      filter: drop-shadow(0px 1px 2px rgba(0, 0, 0, 0.3));\n",
              "      fill: #FFFFFF;\n",
              "    }\n",
              "  </style>\n",
              "\n",
              "      <script>\n",
              "        const buttonEl =\n",
              "          document.querySelector('#df-bccb942d-a978-4176-9f34-84268ae29592 button.colab-df-convert');\n",
              "        buttonEl.style.display =\n",
              "          google.colab.kernel.accessAllowed ? 'block' : 'none';\n",
              "\n",
              "        async function convertToInteractive(key) {\n",
              "          const element = document.querySelector('#df-bccb942d-a978-4176-9f34-84268ae29592');\n",
              "          const dataTable =\n",
              "            await google.colab.kernel.invokeFunction('convertToInteractive',\n",
              "                                                     [key], {});\n",
              "          if (!dataTable) return;\n",
              "\n",
              "          const docLinkHtml = 'Like what you see? Visit the ' +\n",
              "            '<a target=\"_blank\" href=https://colab.research.google.com/notebooks/data_table.ipynb>data table notebook</a>'\n",
              "            + ' to learn more about interactive tables.';\n",
              "          element.innerHTML = '';\n",
              "          dataTable['output_type'] = 'display_data';\n",
              "          await google.colab.output.renderOutput(dataTable, element);\n",
              "          const docLink = document.createElement('div');\n",
              "          docLink.innerHTML = docLinkHtml;\n",
              "          element.appendChild(docLink);\n",
              "        }\n",
              "      </script>\n",
              "    </div>\n",
              "  </div>\n",
              "  "
            ]
          },
          "metadata": {},
          "execution_count": 32
        }
      ]
    },
    {
      "cell_type": "code",
      "source": [
        "plt.plot(train_data_results['Actual O/p'][50:100])\n",
        "plt.plot(train_data_results['Predicted O/p'][50:100])"
      ],
      "metadata": {
        "colab": {
          "base_uri": "https://localhost:8080/",
          "height": 283
        },
        "outputId": "323e91ec-3145-4c1d-bdcc-6838e2bc5fdc",
        "id": "WeZwpxcbEBk9"
      },
      "execution_count": null,
      "outputs": [
        {
          "output_type": "execute_result",
          "data": {
            "text/plain": [
              "[<matplotlib.lines.Line2D at 0x7f16a06b1250>]"
            ]
          },
          "metadata": {},
          "execution_count": 33
        },
        {
          "output_type": "display_data",
          "data": {
            "text/plain": [
              "<Figure size 432x288 with 1 Axes>"
            ],
            "image/png": "[encoded data removed]"
          },
          "metadata": {
            "needs_background": "light"
          }
        }
      ]
    },
    {
      "cell_type": "markdown",
      "source": [
        "Validation Data"
      ],
      "metadata": {
        "id": "CXBH33AiEBk9"
      }
    },
    {
      "cell_type": "code",
      "source": [
        "y_pred_validation = model.predict(X_validation)\n",
        "y_pred_validation"
      ],
      "metadata": {
        "colab": {
          "base_uri": "https://localhost:8080/"
        },
        "outputId": "4cd2474c-0d53-494f-b1b3-747946d217ed",
        "id": "basPfa5-EBk9"
      },
      "execution_count": null,
      "outputs": [
        {
          "output_type": "stream",
          "name": "stdout",
          "text": [
            "157/157 [==============================] - 0s 2ms/step\n"
          ]
        },
        {
          "output_type": "execute_result",
          "data": {
            "text/plain": [
              "array([[15.477871],\n",
              "       [13.316252],\n",
              "       [13.073118],\n",
              "       ...,\n",
              "       [17.062088],\n",
              "       [15.635606],\n",
              "       [14.916285]], dtype=float32)"
            ]
          },
          "metadata": {},
          "execution_count": 34
        }
      ]
    },
    {
      "cell_type": "code",
      "source": [
        "validation_data_results = pd.DataFrame(data = {'Actual O/p': y_validation.flatten(),\n",
        "                                          'Predicted O/p': y_pred_validation.flatten()})\n",
        "validation_data_results"
      ],
      "metadata": {
        "colab": {
          "base_uri": "https://localhost:8080/",
          "height": 424
        },
        "outputId": "bce94e21-dc58-4a5b-92ec-109572f6086e",
        "id": "hcq8M0v6EBk-"
      },
      "execution_count": null,
      "outputs": [
        {
          "output_type": "execute_result",
          "data": {
            "text/plain": [
              "      Actual O/p  Predicted O/p\n",
              "0          14.02      15.477871\n",
              "1          13.67      13.316252\n",
              "2          12.27      13.073118\n",
              "3          11.19      11.251556\n",
              "4          10.85      10.274670\n",
              "...          ...            ...\n",
              "4995       18.27      17.534624\n",
              "4996       17.85      17.777498\n",
              "4997       16.65      17.062088\n",
              "4998       15.85      15.635606\n",
              "4999       15.09      14.916285\n",
              "\n",
              "[5000 rows x 2 columns]"
            ],
            "text/html": [
              "\n",
              "  <div id=\"df-fa34182c-d3c2-4c2b-976b-829f5f96b233\">\n",
              "    <div class=\"colab-df-container\">\n",
              "      <div>\n",
              "<style scoped>\n",
              "    .dataframe tbody tr th:only-of-type {\n",
              "        vertical-align: middle;\n",
              "    }\n",
              "\n",
              "    .dataframe tbody tr th {\n",
              "        vertical-align: top;\n",
              "    }\n",
              "\n",
              "    .dataframe thead th {\n",
              "        text-align: right;\n",
              "    }\n",
              "</style>\n",
              "<table border=\"1\" class=\"dataframe\">\n",
              "  <thead>\n",
              "    <tr style=\"text-align: right;\">\n",
              "      <th></th>\n",
              "      <th>Actual O/p</th>\n",
              "      <th>Predicted O/p</th>\n",
              "    </tr>\n",
              "  </thead>\n",
              "  <tbody>\n",
              "    <tr>\n",
              "      <th>0</th>\n",
              "      <td>14.02</td>\n",
              "      <td>15.477871</td>\n",
              "    </tr>\n",
              "    <tr>\n",
              "      <th>1</th>\n",
              "      <td>13.67</td>\n",
              "      <td>13.316252</td>\n",
              "    </tr>\n",
              "    <tr>\n",
              "      <th>2</th>\n",
              "      <td>12.27</td>\n",
              "      <td>13.073118</td>\n",
              "    </tr>\n",
              "    <tr>\n",
              "      <th>3</th>\n",
              "      <td>11.19</td>\n",
              "      <td>11.251556</td>\n",
              "    </tr>\n",
              "    <tr>\n",
              "      <th>4</th>\n",
              "      <td>10.85</td>\n",
              "      <td>10.274670</td>\n",
              "    </tr>\n",
              "    <tr>\n",
              "      <th>...</th>\n",
              "      <td>...</td>\n",
              "      <td>...</td>\n",
              "    </tr>\n",
              "    <tr>\n",
              "      <th>4995</th>\n",
              "      <td>18.27</td>\n",
              "      <td>17.534624</td>\n",
              "    </tr>\n",
              "    <tr>\n",
              "      <th>4996</th>\n",
              "      <td>17.85</td>\n",
              "      <td>17.777498</td>\n",
              "    </tr>\n",
              "    <tr>\n",
              "      <th>4997</th>\n",
              "      <td>16.65</td>\n",
              "      <td>17.062088</td>\n",
              "    </tr>\n",
              "    <tr>\n",
              "      <th>4998</th>\n",
              "      <td>15.85</td>\n",
              "      <td>15.635606</td>\n",
              "    </tr>\n",
              "    <tr>\n",
              "      <th>4999</th>\n",
              "      <td>15.09</td>\n",
              "      <td>14.916285</td>\n",
              "    </tr>\n",
              "  </tbody>\n",
              "</table>\n",
              "<p>5000 rows × 2 columns</p>\n",
              "</div>\n",
              "      <button class=\"colab-df-convert\" onclick=\"convertToInteractive('df-fa34182c-d3c2-4c2b-976b-829f5f96b233')\"\n",
              "              title=\"Convert this dataframe to an interactive table.\"\n",
              "              style=\"display:none;\">\n",
              "        \n",
              "  <svg xmlns=\"http://www.w3.org/2000/svg\" height=\"24px\"viewBox=\"0 0 24 24\"\n",
              "       width=\"24px\">\n",
              "    <path d=\"M0 0h24v24H0V0z\" fill=\"none\"/>\n",
              "    <path d=\"M18.56 5.44l.94 2.06.94-2.06 2.06-.94-2.06-.94-.94-2.06-.94 2.06-2.06.94zm-11 1L8.5 8.5l.94-2.06 2.06-.94-2.06-.94L8.5 2.5l-.94 2.06-2.06.94zm10 10l.94 2.06.94-2.06 2.06-.94-2.06-.94-.94-2.06-.94 2.06-2.06.94z\"/><path d=\"M17.41 7.96l-1.37-1.37c-.4-.4-.92-.59-1.43-.59-.52 0-1.04.2-1.43.59L10.3 9.45l-7.72 7.72c-.78.78-.78 2.05 0 2.83L4 21.41c.39.39.9.59 1.41.59.51 0 1.02-.2 1.41-.59l7.78-7.78 2.81-2.81c.8-.78.8-2.07 0-2.86zM5.41 20L4 18.59l7.72-7.72 1.47 1.35L5.41 20z\"/>\n",
              "  </svg>\n",
              "      </button>\n",
              "      \n",
              "  <style>\n",
              "    .colab-df-container {\n",
              "      display:flex;\n",
              "      flex-wrap:wrap;\n",
              "      gap: 12px;\n",
              "    }\n",
              "\n",
              "    .colab-df-convert {\n",
              "      background-color: #E8F0FE;\n",
              "      border: none;\n",
              "      border-radius: 50%;\n",
              "      cursor: pointer;\n",
              "      display: none;\n",
              "      fill: #1967D2;\n",
              "      height: 32px;\n",
              "      padding: 0 0 0 0;\n",
              "      width: 32px;\n",
              "    }\n",
              "\n",
              "    .colab-df-convert:hover {\n",
              "      background-color: #E2EBFA;\n",
              "      box-shadow: 0px 1px 2px rgba(60, 64, 67, 0.3), 0px 1px 3px 1px rgba(60, 64, 67, 0.15);\n",
              "      fill: #174EA6;\n",
              "    }\n",
              "\n",
              "    [theme=dark] .colab-df-convert {\n",
              "      background-color: #3B4455;\n",
              "      fill: #D2E3FC;\n",
              "    }\n",
              "\n",
              "    [theme=dark] .colab-df-convert:hover {\n",
              "      background-color: #434B5C;\n",
              "      box-shadow: 0px 1px 3px 1px rgba(0, 0, 0, 0.15);\n",
              "      filter: drop-shadow(0px 1px 2px rgba(0, 0, 0, 0.3));\n",
              "      fill: #FFFFFF;\n",
              "    }\n",
              "  </style>\n",
              "\n",
              "      <script>\n",
              "        const buttonEl =\n",
              "          document.querySelector('#df-fa34182c-d3c2-4c2b-976b-829f5f96b233 button.colab-df-convert');\n",
              "        buttonEl.style.display =\n",
              "          google.colab.kernel.accessAllowed ? 'block' : 'none';\n",
              "\n",
              "        async function convertToInteractive(key) {\n",
              "          const element = document.querySelector('#df-fa34182c-d3c2-4c2b-976b-829f5f96b233');\n",
              "          const dataTable =\n",
              "            await google.colab.kernel.invokeFunction('convertToInteractive',\n",
              "                                                     [key], {});\n",
              "          if (!dataTable) return;\n",
              "\n",
              "          const docLinkHtml = 'Like what you see? Visit the ' +\n",
              "            '<a target=\"_blank\" href=https://colab.research.google.com/notebooks/data_table.ipynb>data table notebook</a>'\n",
              "            + ' to learn more about interactive tables.';\n",
              "          element.innerHTML = '';\n",
              "          dataTable['output_type'] = 'display_data';\n",
              "          await google.colab.output.renderOutput(dataTable, element);\n",
              "          const docLink = document.createElement('div');\n",
              "          docLink.innerHTML = docLinkHtml;\n",
              "          element.appendChild(docLink);\n",
              "        }\n",
              "      </script>\n",
              "    </div>\n",
              "  </div>\n",
              "  "
            ]
          },
          "metadata": {},
          "execution_count": 35
        }
      ]
    },
    {
      "cell_type": "code",
      "source": [
        "plt.plot(validation_data_results['Actual O/p'][50:100])\n",
        "plt.plot(validation_data_results['Predicted O/p'][50:100])"
      ],
      "metadata": {
        "colab": {
          "base_uri": "https://localhost:8080/",
          "height": 285
        },
        "outputId": "457f83c2-aaf3-467b-851d-f4078ace4623",
        "id": "7rNU3t85EBk-"
      },
      "execution_count": null,
      "outputs": [
        {
          "output_type": "execute_result",
          "data": {
            "text/plain": [
              "[<matplotlib.lines.Line2D at 0x7f16a05eb4c0>]"
            ]
          },
          "metadata": {},
          "execution_count": 36
        },
        {
          "output_type": "display_data",
          "data": {
            "text/plain": [
              "<Figure size 432x288 with 1 Axes>"
            ],
            "image/png": "[encoded data removed]"
          },
          "metadata": {
            "needs_background": "light"
          }
        }
      ]
    },
    {
      "cell_type": "markdown",
      "source": [
        "Test Data"
      ],
      "metadata": {
        "id": "_mcxLM-bEBk-"
      }
    },
    {
      "cell_type": "code",
      "source": [
        "y_pred_test = model.predict(X_test)\n",
        "y_pred_test"
      ],
      "metadata": {
        "colab": {
          "base_uri": "https://localhost:8080/"
        },
        "outputId": "cb465a4f-7d15-4ad7-f845-c6b2e1baa688",
        "id": "qWNa7oNoEBk-"
      },
      "execution_count": null,
      "outputs": [
        {
          "output_type": "stream",
          "name": "stdout",
          "text": [
            "159/159 [==============================] - 0s 2ms/step\n"
          ]
        },
        {
          "output_type": "execute_result",
          "data": {
            "text/plain": [
              "array([[14.168625 ],\n",
              "       [12.997638 ],\n",
              "       [12.735696 ],\n",
              "       ...,\n",
              "       [-1.7423253],\n",
              "       [-3.2499468],\n",
              "       [-3.138922 ]], dtype=float32)"
            ]
          },
          "metadata": {},
          "execution_count": 37
        }
      ]
    },
    {
      "cell_type": "code",
      "source": [
        "test_data_results = pd.DataFrame(data = {'Actual O/p': y_test.flatten(),\n",
        "                                          'Predicted O/p': y_pred_test.flatten()})\n",
        "test_data_results"
      ],
      "metadata": {
        "colab": {
          "base_uri": "https://localhost:8080/",
          "height": 424
        },
        "outputId": "6b11bda7-f60b-4118-8ae1-6765403d134f",
        "id": "9AKfPOZtEBk_"
      },
      "execution_count": null,
      "outputs": [
        {
          "output_type": "execute_result",
          "data": {
            "text/plain": [
              "      Actual O/p  Predicted O/p\n",
              "0          13.99      14.168625\n",
              "1          13.46      12.997638\n",
              "2          12.93      12.735696\n",
              "3          12.43      12.275105\n",
              "4          12.17      11.849643\n",
              "...          ...            ...\n",
              "5081       -0.98      -1.201727\n",
              "5082       -1.40      -1.495447\n",
              "5083       -2.75      -1.742325\n",
              "5084       -2.89      -3.249947\n",
              "5085       -3.93      -3.138922\n",
              "\n",
              "[5086 rows x 2 columns]"
            ],
            "text/html": [
              "\n",
              "  <div id=\"df-6fec5b44-96bd-4240-aeee-4d1c08c1623a\">\n",
              "    <div class=\"colab-df-container\">\n",
              "      <div>\n",
              "<style scoped>\n",
              "    .dataframe tbody tr th:only-of-type {\n",
              "        vertical-align: middle;\n",
              "    }\n",
              "\n",
              "    .dataframe tbody tr th {\n",
              "        vertical-align: top;\n",
              "    }\n",
              "\n",
              "    .dataframe thead th {\n",
              "        text-align: right;\n",
              "    }\n",
              "</style>\n",
              "<table border=\"1\" class=\"dataframe\">\n",
              "  <thead>\n",
              "    <tr style=\"text-align: right;\">\n",
              "      <th></th>\n",
              "      <th>Actual O/p</th>\n",
              "      <th>Predicted O/p</th>\n",
              "    </tr>\n",
              "  </thead>\n",
              "  <tbody>\n",
              "    <tr>\n",
              "      <th>0</th>\n",
              "      <td>13.99</td>\n",
              "      <td>14.168625</td>\n",
              "    </tr>\n",
              "    <tr>\n",
              "      <th>1</th>\n",
              "      <td>13.46</td>\n",
              "      <td>12.997638</td>\n",
              "    </tr>\n",
              "    <tr>\n",
              "      <th>2</th>\n",
              "      <td>12.93</td>\n",
              "      <td>12.735696</td>\n",
              "    </tr>\n",
              "    <tr>\n",
              "      <th>3</th>\n",
              "      <td>12.43</td>\n",
              "      <td>12.275105</td>\n",
              "    </tr>\n",
              "    <tr>\n",
              "      <th>4</th>\n",
              "      <td>12.17</td>\n",
              "      <td>11.849643</td>\n",
              "    </tr>\n",
              "    <tr>\n",
              "      <th>...</th>\n",
              "      <td>...</td>\n",
              "      <td>...</td>\n",
              "    </tr>\n",
              "    <tr>\n",
              "      <th>5081</th>\n",
              "      <td>-0.98</td>\n",
              "      <td>-1.201727</td>\n",
              "    </tr>\n",
              "    <tr>\n",
              "      <th>5082</th>\n",
              "      <td>-1.40</td>\n",
              "      <td>-1.495447</td>\n",
              "    </tr>\n",
              "    <tr>\n",
              "      <th>5083</th>\n",
              "      <td>-2.75</td>\n",
              "      <td>-1.742325</td>\n",
              "    </tr>\n",
              "    <tr>\n",
              "      <th>5084</th>\n",
              "      <td>-2.89</td>\n",
              "      <td>-3.249947</td>\n",
              "    </tr>\n",
              "    <tr>\n",
              "      <th>5085</th>\n",
              "      <td>-3.93</td>\n",
              "      <td>-3.138922</td>\n",
              "    </tr>\n",
              "  </tbody>\n",
              "</table>\n",
              "<p>5086 rows × 2 columns</p>\n",
              "</div>\n",
              "      <button class=\"colab-df-convert\" onclick=\"convertToInteractive('df-6fec5b44-96bd-4240-aeee-4d1c08c1623a')\"\n",
              "              title=\"Convert this dataframe to an interactive table.\"\n",
              "              style=\"display:none;\">\n",
              "        \n",
              "  <svg xmlns=\"http://www.w3.org/2000/svg\" height=\"24px\"viewBox=\"0 0 24 24\"\n",
              "       width=\"24px\">\n",
              "    <path d=\"M0 0h24v24H0V0z\" fill=\"none\"/>\n",
              "    <path d=\"M18.56 5.44l.94 2.06.94-2.06 2.06-.94-2.06-.94-.94-2.06-.94 2.06-2.06.94zm-11 1L8.5 8.5l.94-2.06 2.06-.94-2.06-.94L8.5 2.5l-.94 2.06-2.06.94zm10 10l.94 2.06.94-2.06 2.06-.94-2.06-.94-.94-2.06-.94 2.06-2.06.94z\"/><path d=\"M17.41 7.96l-1.37-1.37c-.4-.4-.92-.59-1.43-.59-.52 0-1.04.2-1.43.59L10.3 9.45l-7.72 7.72c-.78.78-.78 2.05 0 2.83L4 21.41c.39.39.9.59 1.41.59.51 0 1.02-.2 1.41-.59l7.78-7.78 2.81-2.81c.8-.78.8-2.07 0-2.86zM5.41 20L4 18.59l7.72-7.72 1.47 1.35L5.41 20z\"/>\n",
              "  </svg>\n",
              "      </button>\n",
              "      \n",
              "  <style>\n",
              "    .colab-df-container {\n",
              "      display:flex;\n",
              "      flex-wrap:wrap;\n",
              "      gap: 12px;\n",
              "    }\n",
              "\n",
              "    .colab-df-convert {\n",
              "      background-color: #E8F0FE;\n",
              "      border: none;\n",
              "      border-radius: 50%;\n",
              "      cursor: pointer;\n",
              "      display: none;\n",
              "      fill: #1967D2;\n",
              "      height: 32px;\n",
              "      padding: 0 0 0 0;\n",
              "      width: 32px;\n",
              "    }\n",
              "\n",
              "    .colab-df-convert:hover {\n",
              "      background-color: #E2EBFA;\n",
              "      box-shadow: 0px 1px 2px rgba(60, 64, 67, 0.3), 0px 1px 3px 1px rgba(60, 64, 67, 0.15);\n",
              "      fill: #174EA6;\n",
              "    }\n",
              "\n",
              "    [theme=dark] .colab-df-convert {\n",
              "      background-color: #3B4455;\n",
              "      fill: #D2E3FC;\n",
              "    }\n",
              "\n",
              "    [theme=dark] .colab-df-convert:hover {\n",
              "      background-color: #434B5C;\n",
              "      box-shadow: 0px 1px 3px 1px rgba(0, 0, 0, 0.15);\n",
              "      filter: drop-shadow(0px 1px 2px rgba(0, 0, 0, 0.3));\n",
              "      fill: #FFFFFF;\n",
              "    }\n",
              "  </style>\n",
              "\n",
              "      <script>\n",
              "        const buttonEl =\n",
              "          document.querySelector('#df-6fec5b44-96bd-4240-aeee-4d1c08c1623a button.colab-df-convert');\n",
              "        buttonEl.style.display =\n",
              "          google.colab.kernel.accessAllowed ? 'block' : 'none';\n",
              "\n",
              "        async function convertToInteractive(key) {\n",
              "          const element = document.querySelector('#df-6fec5b44-96bd-4240-aeee-4d1c08c1623a');\n",
              "          const dataTable =\n",
              "            await google.colab.kernel.invokeFunction('convertToInteractive',\n",
              "                                                     [key], {});\n",
              "          if (!dataTable) return;\n",
              "\n",
              "          const docLinkHtml = 'Like what you see? Visit the ' +\n",
              "            '<a target=\"_blank\" href=https://colab.research.google.com/notebooks/data_table.ipynb>data table notebook</a>'\n",
              "            + ' to learn more about interactive tables.';\n",
              "          element.innerHTML = '';\n",
              "          dataTable['output_type'] = 'display_data';\n",
              "          await google.colab.output.renderOutput(dataTable, element);\n",
              "          const docLink = document.createElement('div');\n",
              "          docLink.innerHTML = docLinkHtml;\n",
              "          element.appendChild(docLink);\n",
              "        }\n",
              "      </script>\n",
              "    </div>\n",
              "  </div>\n",
              "  "
            ]
          },
          "metadata": {},
          "execution_count": 38
        }
      ]
    },
    {
      "cell_type": "code",
      "source": [
        "plt.plot(test_data_results['Actual O/p'][50:100])\n",
        "plt.plot(test_data_results['Predicted O/p'][50:100])"
      ],
      "metadata": {
        "colab": {
          "base_uri": "https://localhost:8080/",
          "height": 283
        },
        "outputId": "385f23f6-7231-4add-e6c3-72b4ca733c1a",
        "id": "5FD8DfgqEBk_"
      },
      "execution_count": null,
      "outputs": [
        {
          "output_type": "execute_result",
          "data": {
            "text/plain": [
              "[<matplotlib.lines.Line2D at 0x7f16a05c1340>]"
            ]
          },
          "metadata": {},
          "execution_count": 39
        },
        {
          "output_type": "display_data",
          "data": {
            "text/plain": [
              "<Figure size 432x288 with 1 Axes>"
            ],
            "image/png": "[encoded data removed]"
          },
          "metadata": {
            "needs_background": "light"
          }
        }
      ]
    },
    {
      "cell_type": "code",
      "source": [
        "#End"
      ],
      "metadata": {
        "id": "GRevuSrfEBlA"
      },
      "execution_count": null,
      "outputs": []
    }
  ]
}