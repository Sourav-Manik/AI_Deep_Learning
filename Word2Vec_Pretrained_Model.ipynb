{
  "nbformat": 4,
  "nbformat_minor": 0,
  "metadata": {
    "colab": {
      "provenance": [],
      "mount_file_id": "10B7w0FHjTn9qRcPY3jO2fsK3qVZomtDv",
      "authorship_tag": "ABX9TyPqeU5DjT7gGDxY7zPh0TD4",
      "include_colab_link": true
    },
    "kernelspec": {
      "name": "python3",
      "display_name": "Python 3"
    },
    "language_info": {
      "name": "python"
    },
    "accelerator": "GPU",
    "gpuClass": "standard"
  },
  "cells": [
    {
      "cell_type": "markdown",
      "metadata": {
        "id": "view-in-github",
        "colab_type": "text"
      },
      "source": [
        "<a href=\"https://colab.research.google.com/github/Sourav-Manik/AI_Deep_Learning/blob/main/Word2Vec_Pretrained_Model.ipynb\" target=\"_parent\"><img src=\"https://colab.research.google.com/assets/colab-badge.svg\" alt=\"Open In Colab\"/></a>"
      ]
    },
    {
      "cell_type": "code",
      "execution_count": null,
      "metadata": {
        "colab": {
          "base_uri": "https://localhost:8080/"
        },
        "id": "2WmVzSK3zXmy",
        "outputId": "c03717ec-b30c-4ff2-db67-b46990aae392"
      },
      "outputs": [
        {
          "output_type": "stream",
          "name": "stdout",
          "text": [
            "Looking in indexes: https://pypi.org/simple, https://us-python.pkg.dev/colab-wheels/public/simple/\n",
            "Requirement already satisfied: gensim in /usr/local/lib/python3.7/dist-packages (3.6.0)\n",
            "Requirement already satisfied: six>=1.5.0 in /usr/local/lib/python3.7/dist-packages (from gensim) (1.15.0)\n",
            "Requirement already satisfied: numpy>=1.11.3 in /usr/local/lib/python3.7/dist-packages (from gensim) (1.21.6)\n",
            "Requirement already satisfied: scipy>=0.18.1 in /usr/local/lib/python3.7/dist-packages (from gensim) (1.7.3)\n",
            "Requirement already satisfied: smart-open>=1.2.1 in /usr/local/lib/python3.7/dist-packages (from gensim) (5.2.1)\n"
          ]
        }
      ],
      "source": [
        "#Importing necessary libraries\n",
        "!pip install gensim\n",
        "from gensim.models import Word2Vec"
      ]
    },
    {
      "cell_type": "code",
      "source": [
        "#define training data for training\n",
        "sentences = [['if','you','can','dream','it','you','can','do','it'],\n",
        "             ['Do','good','for','others','it','will','come','back','in','unexpected','ways'],\n",
        "             ['being','happy','never','goes','out','of','style']]             "
      ],
      "metadata": {
        "id": "5BtFfXrJz5UW"
      },
      "execution_count": null,
      "outputs": []
    },
    {
      "cell_type": "code",
      "source": [
        "#train word2vec model\n",
        "model = Word2Vec(sentences, min_count = 1)"
      ],
      "metadata": {
        "colab": {
          "base_uri": "https://localhost:8080/"
        },
        "id": "pk526uex0oGk",
        "outputId": "5820e458-4fd9-4109-d1da-52ae2e4eb6a1"
      },
      "execution_count": null,
      "outputs": [
        {
          "output_type": "stream",
          "name": "stderr",
          "text": [
            "WARNING:gensim.models.base_any2vec:under 10 jobs per worker: consider setting a smaller `batch_words' for smoother alpha decay\n"
          ]
        }
      ]
    },
    {
      "cell_type": "code",
      "source": [
        "#summarize the loaded model\n",
        "print(model)"
      ],
      "metadata": {
        "colab": {
          "base_uri": "https://localhost:8080/"
        },
        "id": "QXW6Nn2Y0oKz",
        "outputId": "5619b1dd-1b20-41e8-f9c2-a45b1f735706"
      },
      "execution_count": null,
      "outputs": [
        {
          "output_type": "stream",
          "name": "stdout",
          "text": [
            "Word2Vec(vocab=23, size=100, alpha=0.025)\n"
          ]
        }
      ]
    },
    {
      "cell_type": "code",
      "source": [
        "#sentences variable has 23 vocabs and it has 100 dimensions"
      ],
      "metadata": {
        "id": "0ZnUoUSz0oOF"
      },
      "execution_count": null,
      "outputs": []
    },
    {
      "cell_type": "code",
      "source": [
        "#summarize vocabulary\n",
        "words = list(model.wv.vocab)\n",
        "print(words)"
      ],
      "metadata": {
        "colab": {
          "base_uri": "https://localhost:8080/"
        },
        "id": "D8JZOAF-0oRO",
        "outputId": "86884151-7b40-4f8f-d26f-f6b48c5a6a5f"
      },
      "execution_count": null,
      "outputs": [
        {
          "output_type": "stream",
          "name": "stdout",
          "text": [
            "['if', 'you', 'can', 'dream', 'it', 'do', 'Do', 'good', 'for', 'others', 'will', 'come', 'back', 'in', 'unexpected', 'ways', 'being', 'happy', 'never', 'goes', 'out', 'of', 'style']\n"
          ]
        }
      ]
    },
    {
      "cell_type": "code",
      "source": [
        "#access vector for one word\n",
        "print(model['dream'])"
      ],
      "metadata": {
        "colab": {
          "base_uri": "https://localhost:8080/"
        },
        "id": "hjBe2q6X0oUU",
        "outputId": "778dc730-5b26-4fc8-f3ed-6ffecefd99ba"
      },
      "execution_count": null,
      "outputs": [
        {
          "output_type": "stream",
          "name": "stdout",
          "text": [
            "[-0.00202665 -0.00103179  0.00164346 -0.00305406  0.00457981  0.00085957\n",
            " -0.00211838 -0.00279315 -0.00246604  0.00477813 -0.00123176  0.00122838\n",
            " -0.0006264  -0.00178192  0.00036009 -0.0049972  -0.00469971 -0.00485301\n",
            " -0.00377164 -0.00338068  0.00377258  0.00231859 -0.0004981   0.00094888\n",
            "  0.00193862 -0.00477935  0.00289727 -0.0005847  -0.00126635  0.0032338\n",
            "  0.00267924 -0.00034902 -0.00223006  0.00467962 -0.00388802 -0.00336785\n",
            " -0.00310169  0.00379665  0.001648   -0.00279788  0.00489098  0.00077344\n",
            " -0.00134167 -0.00072641  0.00150986  0.00312606 -0.00263655 -0.00061744\n",
            "  0.0042371   0.00476322 -0.00260971 -0.00139136  0.00422317  0.00434013\n",
            " -0.003743   -0.00443041 -0.00372851  0.00050218  0.0020027   0.00162709\n",
            " -0.00380362  0.00213906 -0.00360594  0.00020723 -0.00316679  0.00059596\n",
            " -0.0032665   0.00108697 -0.00230339 -0.00238016 -0.00363845  0.00403421\n",
            "  0.00199354 -0.00423051 -0.00297247 -0.00381229  0.00249465 -0.00466987\n",
            "  0.00481238 -0.00046096 -0.00134754  0.00237752 -0.00103342 -0.00136881\n",
            " -0.00114292 -0.00102095  0.00117789  0.00098943  0.00429488 -0.00120897\n",
            "  0.00416248  0.00300136  0.00198693 -0.0013647   0.00145581 -0.00038647\n",
            " -0.00192108 -0.00066484  0.00421336  0.00266276]\n"
          ]
        },
        {
          "output_type": "stream",
          "name": "stderr",
          "text": [
            "/usr/local/lib/python3.7/dist-packages/ipykernel_launcher.py:2: DeprecationWarning: Call to deprecated `__getitem__` (Method will be removed in 4.0.0, use self.wv.__getitem__() instead).\n",
            "  \n"
          ]
        }
      ]
    },
    {
      "cell_type": "code",
      "source": [
        "#save model\n",
        "model.save('model.bin')  # you have to save in binary format i.e. \"bin\""
      ],
      "metadata": {
        "id": "52D4BGre1icF"
      },
      "execution_count": null,
      "outputs": []
    },
    {
      "cell_type": "code",
      "source": [
        "#load model\n",
        "new_model = Word2Vec.load('model.bin')"
      ],
      "metadata": {
        "id": "FAd7fewK17Ms"
      },
      "execution_count": null,
      "outputs": []
    },
    {
      "cell_type": "markdown",
      "source": [
        "===================================================================\n"
      ],
      "metadata": {
        "id": "8SSVEnqG2H8H"
      }
    },
    {
      "cell_type": "code",
      "source": [
        "from gensim.models import KeyedVectors\n",
        "filename = '/content/drive/MyDrive/AI/GoogleNews-vectors-negative300.bin'\n",
        "model = KeyedVectors.load_word2vec_format(filename, binary=True)"
      ],
      "metadata": {
        "id": "PwYoVj9q2Kwt"
      },
      "execution_count": null,
      "outputs": []
    },
    {
      "cell_type": "code",
      "source": [
        "result =new_model.most_similar(['good'])\n",
        "print(result)"
      ],
      "metadata": {
        "colab": {
          "base_uri": "https://localhost:8080/"
        },
        "id": "qn81uefe2Kzc",
        "outputId": "e2bad6c4-dfad-446e-9be6-e4cb6aa2654c"
      },
      "execution_count": null,
      "outputs": [
        {
          "output_type": "stream",
          "name": "stdout",
          "text": [
            "[('dream', 0.1952272355556488), ('do', 0.17840488255023956), ('happy', 0.15900078415870667), ('style', 0.12649038434028625), ('in', 0.12599752843379974), ('Do', 0.12365168333053589), ('ways', 0.10777617245912552), ('back', 0.08213268220424652), ('others', 0.0818551555275917), ('if', 0.042636431753635406)]\n"
          ]
        },
        {
          "output_type": "stream",
          "name": "stderr",
          "text": [
            "/usr/local/lib/python3.7/dist-packages/ipykernel_launcher.py:1: DeprecationWarning: Call to deprecated `most_similar` (Method will be removed in 4.0.0, use self.wv.most_similar() instead).\n",
            "  \"\"\"Entry point for launching an IPython kernel.\n"
          ]
        }
      ]
    },
    {
      "cell_type": "code",
      "source": [
        "result =new_model.most_similar(['never'])\n",
        "print(result)"
      ],
      "metadata": {
        "colab": {
          "base_uri": "https://localhost:8080/"
        },
        "id": "ShC36Zdu2K73",
        "outputId": "1e07ad41-4c02-4e49-82a1-7c07934ce5ed"
      },
      "execution_count": null,
      "outputs": [
        {
          "output_type": "stream",
          "name": "stdout",
          "text": [
            "[('it', 0.16124549508094788), ('in', 0.14076121151447296), ('others', 0.13736195862293243), ('will', 0.11076367646455765), ('do', 0.093007892370224), ('ways', 0.08654153347015381), ('goes', 0.06760059297084808), ('happy', 0.048600178211927414), ('of', 0.043665479868650436), ('Do', 0.037976402789354324)]\n"
          ]
        },
        {
          "output_type": "stream",
          "name": "stderr",
          "text": [
            "/usr/local/lib/python3.7/dist-packages/ipykernel_launcher.py:1: DeprecationWarning: Call to deprecated `most_similar` (Method will be removed in 4.0.0, use self.wv.most_similar() instead).\n",
            "  \"\"\"Entry point for launching an IPython kernel.\n"
          ]
        }
      ]
    },
    {
      "cell_type": "code",
      "source": [
        "#End"
      ],
      "metadata": {
        "id": "TLLGeNav-olv"
      },
      "execution_count": null,
      "outputs": []
    }
  ]
}