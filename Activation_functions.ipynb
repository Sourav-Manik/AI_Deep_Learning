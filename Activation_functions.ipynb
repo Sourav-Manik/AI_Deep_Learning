{
  "nbformat": 4,
  "nbformat_minor": 0,
  "metadata": {
    "colab": {
      "provenance": [],
      "toc_visible": true,
      "authorship_tag": "ABX9TyMjlO1nA4SL6cKRVvgJOL+r",
      "include_colab_link": true
    },
    "kernelspec": {
      "name": "python3",
      "display_name": "Python 3"
    },
    "language_info": {
      "name": "python"
    }
  },
  "cells": [
    {
      "cell_type": "markdown",
      "metadata": {
        "id": "view-in-github",
        "colab_type": "text"
      },
      "source": [
        "<a href=\"https://colab.research.google.com/github/Sourav-Manik/AI_Deep_Learning/blob/main/Activation_functions.ipynb\" target=\"_parent\"><img src=\"https://colab.research.google.com/assets/colab-badge.svg\" alt=\"Open In Colab\"/></a>"
      ]
    },
    {
      "cell_type": "markdown",
      "source": [
        "#ReLu#\n",
        "\n",
        "---\n",
        "\n"
      ],
      "metadata": {
        "id": "Ko6ym0o7i8qz"
      }
    },
    {
      "cell_type": "code",
      "source": [
        "def relu(x):\n",
        "    if x>0:\n",
        "\n",
        "        return x\n",
        "    else:\n",
        "        return 0\n",
        "\n",
        "def activate(inputs, weights, bias):\n",
        "    h = 0\n",
        "    for i, w, b in zip(inputs, weights, bias):\n",
        "        h += i * w + b\n",
        "    print(h)\n",
        "\n",
        "    return relu(h)\n",
        "\n",
        "\n",
        "if __name__ == '__main__':\n",
        "    inputs = [.3, .6, .4, .7]\n",
        "    weights = [.2, .3, .5, .3]\n",
        "    bias = [.01, .2, .4, .7]\n",
        "\n",
        "    output = activate(inputs, weights, bias)\n",
        "    print(output)\n",
        "\n"
      ],
      "metadata": {
        "colab": {
          "base_uri": "https://localhost:8080/"
        },
        "id": "YMj9mhZJi-EE",
        "outputId": "3155a9f3-fdca-46e8-e23f-18b10b4e5b12"
      },
      "execution_count": null,
      "outputs": [
        {
          "output_type": "stream",
          "name": "stdout",
          "text": [
            "1.96\n",
            "1.96\n"
          ]
        }
      ]
    },
    {
      "cell_type": "markdown",
      "source": [
        "#Leakly ReLu#"
      ],
      "metadata": {
        "id": "DR0y1wHWjyXZ"
      }
    },
    {
      "cell_type": "code",
      "source": [
        "def relu(x):\n",
        "    if x>0:\n",
        "        return x\n",
        "    else:\n",
        "        return 0.01 * x\n",
        "\n",
        "def activate(inputs, weights, bias):\n",
        "    h = 0\n",
        "    for i, w, b in zip(inputs, weights, bias):\n",
        "        h += i * w + b\n",
        "    print(h)\n",
        "\n",
        "    return relu(h)\n",
        "\n",
        "\n",
        "if __name__ == '__main__':\n",
        "    inputs = [.3, .6, .4, .7]\n",
        "    weights = [.2, .3, .5, .3]\n",
        "    bias = [.01, .2, .4, .7]\n",
        "\n",
        "    output = activate(inputs, weights, bias)\n",
        "    print(output)\n"
      ],
      "metadata": {
        "colab": {
          "base_uri": "https://localhost:8080/"
        },
        "id": "3uRdwlyKi-PC",
        "outputId": "ae31e600-85a2-4be8-e0c5-61c6b5432171"
      },
      "execution_count": null,
      "outputs": [
        {
          "output_type": "stream",
          "name": "stdout",
          "text": [
            "1.96\n",
            "1.96\n"
          ]
        }
      ]
    },
    {
      "cell_type": "markdown",
      "source": [
        "#Sigmoid#"
      ],
      "metadata": {
        "id": "tRKHiCP7kGnh"
      }
    },
    {
      "cell_type": "code",
      "source": [
        "import math\n",
        "\n",
        "def sigmoid(x):\n",
        "    y = 1.0/(1+(math.exp(-x)))\n",
        "    return y\n",
        "\n",
        "def activate(inputs, weights, bias):\n",
        "    h = 0\n",
        "    for i, w, b in zip(inputs, weights, bias):\n",
        "        h += i*w + b\n",
        "    print(h)\n",
        "\n",
        "    return sigmoid(h)\n",
        "\n",
        "if __name__ == '__main__':\n",
        "    inputs = [.3, .6, .4, .7]\n",
        "    weights = [.2, .3, .4, .7]\n",
        "    bias = [.01, .2, .4, .7]\n",
        "\n",
        "    output = activate(inputs, weights, bias)\n",
        "    print(output)\n",
        "\n"
      ],
      "metadata": {
        "colab": {
          "base_uri": "https://localhost:8080/"
        },
        "id": "jIaKmoQqj-zS",
        "outputId": "28740a04-b054-41cd-8303-bcd70ebd6fc6"
      },
      "execution_count": null,
      "outputs": [
        {
          "output_type": "stream",
          "name": "stdout",
          "text": [
            "2.2\n",
            "0.9002495108803148\n"
          ]
        }
      ]
    },
    {
      "cell_type": "markdown",
      "source": [
        "#Tanh#"
      ],
      "metadata": {
        "id": "1pRgPYr2kUTi"
      }
    },
    {
      "cell_type": "code",
      "source": [
        "import math\n",
        "\n",
        "def tanh(x):\n",
        "    y = (math.exp(x) - math.exp(-x)) / (math.exp(x) + math.exp(-x))\n",
        "    return y\n",
        "\n",
        "\n",
        "def activate(inputs, weights, bias):\n",
        "    h = 0\n",
        "    for i, w, b in zip(inputs, weights, bias):\n",
        "        h += i * w + b\n",
        "    print(h)\n",
        "\n",
        "    return tanh(h)\n",
        "\n",
        "\n",
        "if __name__ == '__main__':\n",
        "    inputs = [.3, .6, .4, .7]\n",
        "    weights = [.2, .3, .5, .3]\n",
        "    bias = [.01, .2, .4, .7]\n",
        "\n",
        "    output = activate(inputs, weights, bias)\n",
        "    print(output)\n"
      ],
      "metadata": {
        "colab": {
          "base_uri": "https://localhost:8080/"
        },
        "id": "iPEuCgKsj-5i",
        "outputId": "817da6e3-e313-4cca-f0fb-e0a64a7288a5"
      },
      "execution_count": null,
      "outputs": [
        {
          "output_type": "stream",
          "name": "stdout",
          "text": [
            "1.96\n",
            "0.9610898308636139\n"
          ]
        }
      ]
    },
    {
      "cell_type": "markdown",
      "source": [
        "#Softmax#"
      ],
      "metadata": {
        "id": "r_MK8-b5kYoD"
      }
    },
    {
      "cell_type": "code",
      "source": [
        "import numpy as np\n",
        "\n",
        "def softmax(output_values):\n",
        "\n",
        "    numerator = np.exp(output_values)\n",
        "    print(numerator)\n",
        "\n",
        "    denominator = np.sum(np.exp(output_values))\n",
        "    print(denominator)\n",
        "\n",
        "    softmax_equation = numerator/denominator\n",
        "    print(softmax_equation)\n",
        "\n",
        "    np.argmax(softmax_equation)\n",
        "\n",
        "\n",
        "if __name__ == '__main__':\n",
        "    output_values = np.array([30,20,50,100])\n",
        "    softmax(output_values)\n"
      ],
      "metadata": {
        "colab": {
          "base_uri": "https://localhost:8080/"
        },
        "id": "2oTZqZfFkbj8",
        "outputId": "e786cb95-fbb0-41d0-f16b-18785cf1a164"
      },
      "execution_count": null,
      "outputs": [
        {
          "output_type": "stream",
          "name": "stdout",
          "text": [
            "[1.06864746e+13 4.85165195e+08 5.18470553e+21 2.68811714e+43]\n",
            "2.6881171418161356e+43\n",
            "[3.97544974e-31 1.80485139e-35 1.92874985e-22 1.00000000e+00]\n"
          ]
        }
      ]
    },
    {
      "cell_type": "code",
      "source": [],
      "metadata": {
        "id": "lKhIIiFdkkGy"
      },
      "execution_count": null,
      "outputs": []
    }
  ]
}