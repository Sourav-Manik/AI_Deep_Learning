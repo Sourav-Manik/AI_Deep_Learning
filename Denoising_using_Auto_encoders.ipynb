{
  "nbformat": 4,
  "nbformat_minor": 0,
  "metadata": {
    "colab": {
      "provenance": [],
      "authorship_tag": "ABX9TyNe3TPBA+5CsvxSz7Y30QJ2",
      "include_colab_link": true
    },
    "kernelspec": {
      "name": "python3",
      "display_name": "Python 3"
    },
    "language_info": {
      "name": "python"
    }
  },
  "cells": [
    {
      "cell_type": "markdown",
      "metadata": {
        "id": "view-in-github",
        "colab_type": "text"
      },
      "source": [
        "<a href=\"https://colab.research.google.com/github/Sourav-Manik/AI_Deep_Learning/blob/main/Denoising_using_Auto_encoders.ipynb\" target=\"_parent\"><img src=\"https://colab.research.google.com/assets/colab-badge.svg\" alt=\"Open In Colab\"/></a>"
      ]
    },
    {
      "cell_type": "markdown",
      "source": [
        "##. 1. Import Necessary Libraries##"
      ],
      "metadata": {
        "id": "J5Zu567WgV4q"
      }
    },
    {
      "cell_type": "code",
      "source": [
        "from keras.datasets import mnist\n",
        "from keras.layers import Dense, Conv2D, MaxPooling2D, UpSampling2D\n",
        "from keras.models import Sequential\n",
        "\n",
        "import numpy as np\n",
        "from matplotlib import pyplot as plt"
      ],
      "metadata": {
        "id": "WCqcaWcJgas-"
      },
      "execution_count": null,
      "outputs": []
    },
    {
      "cell_type": "markdown",
      "source": [
        "##2. Import Dataset"
      ],
      "metadata": {
        "id": "mH94ExL9gx_1"
      }
    },
    {
      "cell_type": "code",
      "source": [
        "(X_train,_),(X_test,_) = mnist.load_data()"
      ],
      "metadata": {
        "id": "gzGCx5u4g361",
        "colab": {
          "base_uri": "https://localhost:8080/"
        },
        "outputId": "5f7f9027-cdd4-4400-db04-7256915e4daf"
      },
      "execution_count": null,
      "outputs": [
        {
          "output_type": "stream",
          "name": "stdout",
          "text": [
            "Downloading data from https://storage.googleapis.com/tensorflow/tf-keras-datasets/mnist.npz\n",
            "11490434/11490434 [==============================] - 0s 0us/step\n"
          ]
        }
      ]
    },
    {
      "cell_type": "markdown",
      "source": [
        "##3. Data Understanding"
      ],
      "metadata": {
        "id": "ZdMNobdkhAtS"
      }
    },
    {
      "cell_type": "code",
      "source": [
        "X_train.shape, X_test.shape"
      ],
      "metadata": {
        "colab": {
          "base_uri": "https://localhost:8080/"
        },
        "id": "TGhnyA_5g3-M",
        "outputId": "a0989799-41b9-4dd3-b5ed-d84685540d10"
      },
      "execution_count": null,
      "outputs": [
        {
          "output_type": "execute_result",
          "data": {
            "text/plain": [
              "((60000, 28, 28), (10000, 28, 28))"
            ]
          },
          "metadata": {},
          "execution_count": 3
        }
      ]
    },
    {
      "cell_type": "markdown",
      "source": [
        "##4. Data Preprocessing##"
      ],
      "metadata": {
        "id": "3aOOHYTAhVxt"
      }
    },
    {
      "cell_type": "code",
      "source": [
        "X_train = X_train.astype('float')/255\n",
        "X_test = X_test.astype('float')/255"
      ],
      "metadata": {
        "id": "5wK3mKAkg4Bq"
      },
      "execution_count": null,
      "outputs": []
    },
    {
      "cell_type": "code",
      "source": [
        "X_train_reshaped = np.reshape(a = X_train, newshape = (60000,28,28,1))\n",
        "X_test_reshaped = np.reshape(a = X_test, newshape = (10000,28,28,1))\n",
        "X_train_reshaped.shape, X_test_reshaped.shape"
      ],
      "metadata": {
        "colab": {
          "base_uri": "https://localhost:8080/"
        },
        "id": "XFIk7mf4g4Gk",
        "outputId": "65d8ff49-3b8c-4c43-d094-210b26b8049e"
      },
      "execution_count": null,
      "outputs": [
        {
          "output_type": "execute_result",
          "data": {
            "text/plain": [
              "((60000, 28, 28, 1), (10000, 28, 28, 1))"
            ]
          },
          "metadata": {},
          "execution_count": 24
        }
      ]
    },
    {
      "cell_type": "markdown",
      "source": [
        "Note – Before we send the data to encoders it needs to understand if it is a black and white image or a coloured image. Thus, we are adding “1” in the reshaped data which represents a black-and-white image.\n",
        "\n",
        "Also, add some noise to these train and test images for Noise reduction using Encoder and Decoder blocks."
      ],
      "metadata": {
        "id": "8AS39tMciRE2"
      }
    },
    {
      "cell_type": "markdown",
      "source": [
        "Before Adding Noise"
      ],
      "metadata": {
        "id": "5fdGg37Iihfl"
      }
    },
    {
      "cell_type": "code",
      "source": [
        "plt.imshow(X_train[0],cmap = 'gray')\n",
        "plt.show"
      ],
      "metadata": {
        "colab": {
          "base_uri": "https://localhost:8080/",
          "height": 282
        },
        "id": "SXxX7FNpijes",
        "outputId": "767e64a1-ea9e-4727-c9af-455dea6c41a9"
      },
      "execution_count": null,
      "outputs": [
        {
          "output_type": "execute_result",
          "data": {
            "text/plain": [
              "<function matplotlib.pyplot.show(*args, **kw)>"
            ]
          },
          "metadata": {},
          "execution_count": 25
        },
        {
          "output_type": "display_data",
          "data": {
            "text/plain": [
              "<Figure size 432x288 with 1 Axes>"
            ],
            "image/png": "[encoded data removed]"
          },
          "metadata": {
            "needs_background": "light"
          }
        }
      ]
    },
    {
      "cell_type": "markdown",
      "source": [
        "###Step 1: Add Noise"
      ],
      "metadata": {
        "id": "asgELJq8iv4H"
      }
    },
    {
      "cell_type": "code",
      "source": [
        "X_train_noisy = X_train_reshaped + 0.2 * np.random.normal(loc = 0.0, scale = 1.0, size = (60000,28,28,1))\n",
        "X_test_noisy = X_test_reshaped + 0.2 * np.random.normal(loc = 0.0, scale = 1.0, size = (10000,28,28,1))"
      ],
      "metadata": {
        "id": "-yWEpw-RipeB"
      },
      "execution_count": null,
      "outputs": []
    },
    {
      "cell_type": "code",
      "source": [
        "plt.imshow(X_test_noisy[0].reshape(28,28),cmap = 'gray')\n",
        "plt.show"
      ],
      "metadata": {
        "colab": {
          "base_uri": "https://localhost:8080/",
          "height": 282
        },
        "id": "eh_D15STjRT_",
        "outputId": "05f5ff22-c9db-44b5-9055-8c7c04891417"
      },
      "execution_count": null,
      "outputs": [
        {
          "output_type": "execute_result",
          "data": {
            "text/plain": [
              "<function matplotlib.pyplot.show(*args, **kw)>"
            ]
          },
          "metadata": {},
          "execution_count": 27
        },
        {
          "output_type": "display_data",
          "data": {
            "text/plain": [
              "<Figure size 432x288 with 1 Axes>"
            ],
            "image/png": "[encoded data removed]"
          },
          "metadata": {
            "needs_background": "light"
          }
        }
      ]
    },
    {
      "cell_type": "markdown",
      "source": [
        "###Step 2: Clip your image"
      ],
      "metadata": {
        "id": "sQrMY1JkjqsT"
      }
    },
    {
      "cell_type": "code",
      "source": [
        "X_train_clipped = np.clip(a = X_train_noisy,a_min = 0, a_max = 10)\n",
        "X_test_clipped = np.clip(a = X_test_noisy,a_min = 0, a_max = 2)"
      ],
      "metadata": {
        "id": "t1YbB9acjuHu"
      },
      "execution_count": null,
      "outputs": []
    },
    {
      "cell_type": "code",
      "source": [
        "plt.imshow(X_test_clipped[0].reshape(28,28),cmap = 'gray')\n",
        "plt.show"
      ],
      "metadata": {
        "colab": {
          "base_uri": "https://localhost:8080/",
          "height": 282
        },
        "id": "4ky5xABQjuLV",
        "outputId": "5a2a1e58-5dec-4764-afe2-1a385e4cb43f"
      },
      "execution_count": null,
      "outputs": [
        {
          "output_type": "execute_result",
          "data": {
            "text/plain": [
              "<function matplotlib.pyplot.show(*args, **kw)>"
            ]
          },
          "metadata": {},
          "execution_count": 29
        },
        {
          "output_type": "display_data",
          "data": {
            "text/plain": [
              "<Figure size 432x288 with 1 Axes>"
            ],
            "image/png": "[encoded data removed]"
          },
          "metadata": {
            "needs_background": "light"
          }
        }
      ]
    },
    {
      "cell_type": "markdown",
      "source": [
        "Note – here value given in the 'a_max' parameter is to only take that pixel value.  Also, these values are standard deviation values because we have normalized the data."
      ],
      "metadata": {
        "id": "sJlNsr1hlBg1"
      }
    },
    {
      "cell_type": "markdown",
      "source": [
        "##5. Model Building"
      ],
      "metadata": {
        "id": "PJgI2l9YlMQ1"
      }
    },
    {
      "cell_type": "markdown",
      "source": [
        "###Encoding Architecture"
      ],
      "metadata": {
        "id": "mAwsBSe5lRmF"
      }
    },
    {
      "cell_type": "code",
      "source": [
        "model = Sequential()\n",
        "model.add(Conv2D(input_shape = (28,28,1),filters = 32, kernel_size = (3,3),padding = 'same',strides = 1, activation = 'relu'))\n",
        "model.add(MaxPooling2D(pool_size = (2,2), strides = 2))\n",
        "model.add(Conv2D(filters = 8, kernel_size = (3,3),padding = 'same',strides = 1, activation = 'relu'))\n",
        "model.add(MaxPooling2D(pool_size = (2,2), strides = 2))\n",
        "model.add(Conv2D(filters = 8, kernel_size = (3,3),padding = 'same',strides = 1, activation = 'relu'))\n",
        "model.add(MaxPooling2D(pool_size = (2,2), strides = 2,padding = 'same'))\n",
        "model.summary()"
      ],
      "metadata": {
        "colab": {
          "base_uri": "https://localhost:8080/"
        },
        "id": "ZDe9RIYBjuNt",
        "outputId": "e2e85390-b206-4f27-e01c-8331720a265f"
      },
      "execution_count": null,
      "outputs": [
        {
          "output_type": "stream",
          "name": "stdout",
          "text": [
            "Model: \"sequential_1\"\n",
            "_________________________________________________________________\n",
            " Layer (type)                Output Shape              Param #   \n",
            "=================================================================\n",
            " conv2d_7 (Conv2D)           (None, 28, 28, 32)        320       \n",
            "                                                                 \n",
            " max_pooling2d_3 (MaxPooling  (None, 14, 14, 32)       0         \n",
            " 2D)                                                             \n",
            "                                                                 \n",
            " conv2d_8 (Conv2D)           (None, 14, 14, 8)         2312      \n",
            "                                                                 \n",
            " max_pooling2d_4 (MaxPooling  (None, 7, 7, 8)          0         \n",
            " 2D)                                                             \n",
            "                                                                 \n",
            " conv2d_9 (Conv2D)           (None, 7, 7, 8)           584       \n",
            "                                                                 \n",
            " max_pooling2d_5 (MaxPooling  (None, 4, 4, 8)          0         \n",
            " 2D)                                                             \n",
            "                                                                 \n",
            "=================================================================\n",
            "Total params: 3,216\n",
            "Trainable params: 3,216\n",
            "Non-trainable params: 0\n",
            "_________________________________________________________________\n"
          ]
        }
      ]
    },
    {
      "cell_type": "markdown",
      "source": [
        "###Decoding Architecture"
      ],
      "metadata": {
        "id": "oZGxouuEmgDL"
      }
    },
    {
      "cell_type": "code",
      "source": [
        "model.add(Conv2D(filters = 8, kernel_size = (3,3),padding = 'same', activation = 'relu'))\n",
        "model.add(UpSampling2D(size = (2,2)))\n",
        "model.add(Conv2D(filters = 8, kernel_size = (3,3),padding = 'same', activation = 'relu'))\n",
        "model.add(UpSampling2D(size = (2,2)))\n",
        "model.add(Conv2D(filters = 32, kernel_size = (3,3), activation = 'relu'))\n",
        "model.add(UpSampling2D(size = (2,2)))\n",
        "model.add(Conv2D(filters = 1, kernel_size = (3,3),padding = 'same', activation = 'relu'))\n",
        "model.summary()"
      ],
      "metadata": {
        "colab": {
          "base_uri": "https://localhost:8080/"
        },
        "id": "FFeU5uVDmIQz",
        "outputId": "90e58e21-55f7-444d-db2d-26760666ed4a"
      },
      "execution_count": null,
      "outputs": [
        {
          "output_type": "stream",
          "name": "stdout",
          "text": [
            "Model: \"sequential_1\"\n",
            "_________________________________________________________________\n",
            " Layer (type)                Output Shape              Param #   \n",
            "=================================================================\n",
            " conv2d_7 (Conv2D)           (None, 28, 28, 32)        320       \n",
            "                                                                 \n",
            " max_pooling2d_3 (MaxPooling  (None, 14, 14, 32)       0         \n",
            " 2D)                                                             \n",
            "                                                                 \n",
            " conv2d_8 (Conv2D)           (None, 14, 14, 8)         2312      \n",
            "                                                                 \n",
            " max_pooling2d_4 (MaxPooling  (None, 7, 7, 8)          0         \n",
            " 2D)                                                             \n",
            "                                                                 \n",
            " conv2d_9 (Conv2D)           (None, 7, 7, 8)           584       \n",
            "                                                                 \n",
            " max_pooling2d_5 (MaxPooling  (None, 4, 4, 8)          0         \n",
            " 2D)                                                             \n",
            "                                                                 \n",
            " conv2d_10 (Conv2D)          (None, 4, 4, 8)           584       \n",
            "                                                                 \n",
            " up_sampling2d_3 (UpSampling  (None, 8, 8, 8)          0         \n",
            " 2D)                                                             \n",
            "                                                                 \n",
            " conv2d_11 (Conv2D)          (None, 8, 8, 8)           584       \n",
            "                                                                 \n",
            " up_sampling2d_4 (UpSampling  (None, 16, 16, 8)        0         \n",
            " 2D)                                                             \n",
            "                                                                 \n",
            " conv2d_12 (Conv2D)          (None, 14, 14, 32)        2336      \n",
            "                                                                 \n",
            " up_sampling2d_5 (UpSampling  (None, 28, 28, 32)       0         \n",
            " 2D)                                                             \n",
            "                                                                 \n",
            " conv2d_13 (Conv2D)          (None, 28, 28, 1)         289       \n",
            "                                                                 \n",
            "=================================================================\n",
            "Total params: 7,009\n",
            "Trainable params: 7,009\n",
            "Non-trainable params: 0\n",
            "_________________________________________________________________\n"
          ]
        }
      ]
    },
    {
      "cell_type": "code",
      "source": [
        "model.compile(optimizer = 'rmsprop',loss=['mean_squared_error'])"
      ],
      "metadata": {
        "id": "Hn1qzvAbjuQh"
      },
      "execution_count": null,
      "outputs": []
    },
    {
      "cell_type": "markdown",
      "source": [
        "##6. Model Training"
      ],
      "metadata": {
        "id": "ltLe0vp_njle"
      }
    },
    {
      "cell_type": "code",
      "source": [
        "model.fit(x=X_train_clipped,y=X_train,epochs = 25, batch_size = 32, validation_data=(X_test_clipped,X_test))"
      ],
      "metadata": {
        "colab": {
          "base_uri": "https://localhost:8080/"
        },
        "id": "XWYHIbGqjuTw",
        "outputId": "f17b13a2-ed09-4aa0-ea9b-bf417b5943bd"
      },
      "execution_count": null,
      "outputs": [
        {
          "output_type": "stream",
          "name": "stdout",
          "text": [
            "Epoch 1/25\n",
            "1875/1875 [==============================] - 146s 77ms/step - loss: 0.0338 - val_loss: 0.0237\n",
            "Epoch 2/25\n",
            "1875/1875 [==============================] - 140s 75ms/step - loss: 0.0211 - val_loss: 0.0176\n",
            "Epoch 3/25\n",
            "1875/1875 [==============================] - 139s 74ms/step - loss: 0.0178 - val_loss: 0.0154\n",
            "Epoch 4/25\n",
            "1875/1875 [==============================] - 139s 74ms/step - loss: 0.0162 - val_loss: 0.0152\n",
            "Epoch 5/25\n",
            "1875/1875 [==============================] - 138s 73ms/step - loss: 0.0151 - val_loss: 0.0154\n",
            "Epoch 6/25\n",
            "1875/1875 [==============================] - 139s 74ms/step - loss: 0.0144 - val_loss: 0.0144\n",
            "Epoch 7/25\n",
            "1875/1875 [==============================] - 140s 74ms/step - loss: 0.0139 - val_loss: 0.0128\n",
            "Epoch 8/25\n",
            "1875/1875 [==============================] - 143s 76ms/step - loss: 0.0135 - val_loss: 0.0140\n",
            "Epoch 9/25\n",
            "1875/1875 [==============================] - 142s 76ms/step - loss: 0.0132 - val_loss: 0.0131\n",
            "Epoch 10/25\n",
            "1875/1875 [==============================] - 144s 77ms/step - loss: 0.0129 - val_loss: 0.0121\n",
            "Epoch 11/25\n",
            "1875/1875 [==============================] - 141s 75ms/step - loss: 0.0126 - val_loss: 0.0129\n",
            "Epoch 12/25\n",
            "1875/1875 [==============================] - 150s 80ms/step - loss: 0.0124 - val_loss: 0.0118\n",
            "Epoch 13/25\n",
            "1875/1875 [==============================] - 142s 76ms/step - loss: 0.0122 - val_loss: 0.0116\n",
            "Epoch 14/25\n",
            "1875/1875 [==============================] - 144s 77ms/step - loss: 0.0120 - val_loss: 0.0124\n",
            "Epoch 15/25\n",
            "1875/1875 [==============================] - 143s 76ms/step - loss: 0.0119 - val_loss: 0.0122\n",
            "Epoch 16/25\n",
            "1875/1875 [==============================] - 142s 76ms/step - loss: 0.0117 - val_loss: 0.0111\n",
            "Epoch 17/25\n",
            "1875/1875 [==============================] - 142s 76ms/step - loss: 0.0116 - val_loss: 0.0105\n",
            "Epoch 18/25\n",
            "1875/1875 [==============================] - 145s 77ms/step - loss: 0.0115 - val_loss: 0.0106\n",
            "Epoch 19/25\n",
            "1875/1875 [==============================] - 143s 76ms/step - loss: 0.0114 - val_loss: 0.0115\n",
            "Epoch 20/25\n",
            "1875/1875 [==============================] - 144s 77ms/step - loss: 0.0114 - val_loss: 0.0113\n",
            "Epoch 21/25\n",
            "1875/1875 [==============================] - 143s 76ms/step - loss: 0.0113 - val_loss: 0.0106\n",
            "Epoch 22/25\n",
            "1875/1875 [==============================] - 144s 77ms/step - loss: 0.0112 - val_loss: 0.0101\n",
            "Epoch 23/25\n",
            "1875/1875 [==============================] - 143s 76ms/step - loss: 0.0112 - val_loss: 0.0115\n",
            "Epoch 24/25\n",
            "1875/1875 [==============================] - 144s 77ms/step - loss: 0.0111 - val_loss: 0.0116\n",
            "Epoch 25/25\n",
            "1875/1875 [==============================] - 147s 79ms/step - loss: 0.0111 - val_loss: 0.0105\n"
          ]
        },
        {
          "output_type": "execute_result",
          "data": {
            "text/plain": [
              "<keras.callbacks.History at 0x7f43bc695610>"
            ]
          },
          "metadata": {},
          "execution_count": 33
        }
      ]
    },
    {
      "cell_type": "markdown",
      "source": [
        "##7. Model Evaluation"
      ],
      "metadata": {
        "id": "WYTLqmgooEq2"
      }
    },
    {
      "cell_type": "code",
      "source": [
        "model.evaluate(X_test_noisy,X_test)"
      ],
      "metadata": {
        "colab": {
          "base_uri": "https://localhost:8080/"
        },
        "id": "3cjQsNYBjuZe",
        "outputId": "1bf47082-c22e-49ee-b603-51e950f2420b"
      },
      "execution_count": null,
      "outputs": [
        {
          "output_type": "stream",
          "name": "stdout",
          "text": [
            "313/313 [==============================] - 5s 17ms/step - loss: 0.0126\n"
          ]
        },
        {
          "output_type": "execute_result",
          "data": {
            "text/plain": [
              "0.012644010595977306"
            ]
          },
          "metadata": {},
          "execution_count": 34
        }
      ]
    },
    {
      "cell_type": "markdown",
      "source": [
        "##8. Model Prediction"
      ],
      "metadata": {
        "id": "w2ZOCzLDoUsV"
      }
    },
    {
      "cell_type": "code",
      "source": [
        "y_pred = model.predict(X_test_noisy)"
      ],
      "metadata": {
        "colab": {
          "base_uri": "https://localhost:8080/"
        },
        "id": "h58xZNhfoXtU",
        "outputId": "faec5f0c-7714-4038-9969-c665b42dbf27"
      },
      "execution_count": null,
      "outputs": [
        {
          "output_type": "stream",
          "name": "stdout",
          "text": [
            "313/313 [==============================] - 7s 22ms/step\n"
          ]
        }
      ]
    },
    {
      "cell_type": "code",
      "source": [
        "plt.imshow(X_test_clipped[5000].reshape(28,28),cmap = 'gray')\n",
        "plt.show"
      ],
      "metadata": {
        "colab": {
          "base_uri": "https://localhost:8080/",
          "height": 282
        },
        "id": "H3y92SzooXxC",
        "outputId": "b191cc99-287e-4b44-8ad0-e747e9c78cfa"
      },
      "execution_count": null,
      "outputs": [
        {
          "output_type": "execute_result",
          "data": {
            "text/plain": [
              "<function matplotlib.pyplot.show(*args, **kw)>"
            ]
          },
          "metadata": {},
          "execution_count": 36
        },
        {
          "output_type": "display_data",
          "data": {
            "text/plain": [
              "<Figure size 432x288 with 1 Axes>"
            ],
            "image/png": "[encoded data removed]"
          },
          "metadata": {
            "needs_background": "light"
          }
        }
      ]
    },
    {
      "cell_type": "code",
      "source": [
        "plt.imshow(y_pred[5000].reshape(28,28),cmap = 'gray')\n",
        "plt.show"
      ],
      "metadata": {
        "colab": {
          "base_uri": "https://localhost:8080/",
          "height": 282
        },
        "id": "QaNJKYTAonTv",
        "outputId": "96052f0d-f9cf-48c5-cea4-d052e801f48f"
      },
      "execution_count": null,
      "outputs": [
        {
          "output_type": "execute_result",
          "data": {
            "text/plain": [
              "<function matplotlib.pyplot.show(*args, **kw)>"
            ]
          },
          "metadata": {},
          "execution_count": 37
        },
        {
          "output_type": "display_data",
          "data": {
            "text/plain": [
              "<Figure size 432x288 with 1 Axes>"
            ],
            "image/png": "[encoded data removed]"
          },
          "metadata": {
            "needs_background": "light"
          }
        }
      ]
    },
    {
      "cell_type": "markdown",
      "source": [
        "##9. Model Deployment"
      ],
      "metadata": {
        "id": "ZrPZcR4Ho0lR"
      }
    },
    {
      "cell_type": "code",
      "source": [
        "model.save('Denoising_images.h5')"
      ],
      "metadata": {
        "id": "_PfNu4yxo4KR"
      },
      "execution_count": null,
      "outputs": []
    }
  ]
}